{
 "cells": [
  {
   "cell_type": "code",
   "execution_count": 1,
   "id": "1934cfc5",
   "metadata": {},
   "outputs": [],
   "source": [
    "import os\n",
    "import glob\n",
    "import pandas as pd\n",
    "import plotly.express as px"
   ]
  },
  {
   "cell_type": "markdown",
   "id": "3a8565ad",
   "metadata": {},
   "source": [
    "# Load & Clean Data"
   ]
  },
  {
   "cell_type": "markdown",
   "id": "bc8caf5e",
   "metadata": {},
   "source": [
    "## Import data"
   ]
  },
  {
   "cell_type": "markdown",
   "id": "c02af41a",
   "metadata": {},
   "source": [
    "L'idée est de faire un script global permettant de lire, concatener et créer un seul DataFrame pour chaque jeu de données récoltées."
   ]
  },
  {
   "cell_type": "markdown",
   "id": "d17ee424",
   "metadata": {},
   "source": [
    "Chaque fichier XLSX contient plusieurs lignes explicatives au début, alors nous les retirons lors de la lecture des fichier. Les fichiers excels ont aussi une feuille par région\n",
    "\n",
    "Nous analysons d'abord la srtucture des fichiers xlsl pour pouvoir ensuite les organiser en dataframe"
   ]
  },
  {
   "cell_type": "code",
   "execution_count": 73,
   "id": "ceb98e75",
   "metadata": {},
   "outputs": [],
   "source": [
    "def load_perennite_data(path, skiprows, year):\n",
    "    files = [f for f in os.listdir(path) if f.endswith((\".xls\", \".xlsx\"))]\n",
    "    df_list = []\n",
    "\n",
    "    for f in files:\n",
    "        file_path = os.path.join(path, f)\n",
    "        xls = pd.ExcelFile(file_path)\n",
    "\n",
    "        for sheet in xls.sheet_names:\n",
    "            data = pd.read_excel(xls, sheet_name=sheet, skiprows=skiprows)\n",
    "            data = data.iloc[:-4]  # remove footer\n",
    "\n",
    "            categorie_type = data.iloc[0, 1]\n",
    "            data = data.iloc[1:, :]\n",
    "\n",
    "            # Rename columns\n",
    "            data = data.rename(columns={\n",
    "                data.columns[0]: \"gender\",\n",
    "                data.columns[1]: \"categories\",\n",
    "                data.columns[2]: \"years\"\n",
    "            })\n",
    "\n",
    "            # Forward-fill categorical columns\n",
    "            data[[\"gender\", \"categories\", \"years\"]] = data[[\"gender\", \"categories\", \"years\"]].ffill()\n",
    "\n",
    "            # Add metadata\n",
    "            data[\"file_name\"] = f\n",
    "            data[\"area\"] = sheet\n",
    "            data[\"categorie_type\"] = categorie_type\n",
    "            data[\"year_source\"] = year\n",
    "\n",
    "            df_list.append(data)\n",
    "\n",
    "    df_all = pd.concat(df_list, ignore_index=True)\n",
    "    df_all = df_all[['gender', 'categorie_type'] + [col for col in df_all.columns if col not in ['gender', 'categorie_type']]]\n",
    "\n",
    "    df_all.replace({'so': 0, 'NaN': 0, 'ns': 0, 's': 0}, inplace=True)\n",
    "\n",
    "    return df_all\n"
   ]
  },
  {
   "cell_type": "code",
   "execution_count": 74,
   "id": "cec00ad4",
   "metadata": {},
   "outputs": [
    {
     "name": "stderr",
     "output_type": "stream",
     "text": [
      "C:\\Users\\angel\\AppData\\Local\\Temp\\ipykernel_35384\\120333104.py:37: FutureWarning:\n",
      "\n",
      "Downcasting behavior in `replace` is deprecated and will be removed in a future version. To retain the old behavior, explicitly call `result.infer_objects(copy=False)`. To opt-in to the future behavior, set `pd.set_option('future.no_silent_downcasting', True)`\n",
      "\n",
      "C:\\Users\\angel\\AppData\\Local\\Temp\\ipykernel_35384\\120333104.py:37: FutureWarning:\n",
      "\n",
      "Downcasting behavior in `replace` is deprecated and will be removed in a future version. To retain the old behavior, explicitly call `result.infer_objects(copy=False)`. To opt-in to the future behavior, set `pd.set_option('future.no_silent_downcasting', True)`\n",
      "\n"
     ]
    }
   ],
   "source": [
    "df_2014 = load_perennite_data(\"../../data/all/2014-3-5/sine20143-perennite_xlsx\", skiprows=3, year=2014)\n",
    "df_2018 = load_perennite_data(\"../../data/all/2018-3-5/irecomicroent2018_1_perennite_xlsx\", skiprows=5, year=2018)"
   ]
  },
  {
   "cell_type": "code",
   "execution_count": 88,
   "id": "e0aabdff",
   "metadata": {},
   "outputs": [
    {
     "data": {
      "text/plain": [
       "array(['Catégorie juridique', \"Secteur d'activité\",\n",
       "       \"Nature de l'entreprise, filiale ou non\",\n",
       "       'Âge du créateur en 2014',\n",
       "       \"Qualification de l'emploi antérieur du créateur\",\n",
       "       'Situation antérieure à la création',\n",
       "       'Diplôme le plus élevé en 2014', 'Motivations à la création',\n",
       "       'Nombre de créations ou reprises avant 2014',\n",
       "       'Participation à une formation particulière pour la\\nréalisation du projet',\n",
       "       \"Bénéfice d'aides ou d'exonérations publiques\",\n",
       "       'Moyens financiers nécessaires pour démarrer',\n",
       "       'Emploi de salariés au démarrage',\n",
       "       \"Effectif salarié de l'entreprise au démarrage\",\n",
       "       \"Avis du créateur sur l'avenir de l'entreprise\",\n",
       "       'Situation familiale du créateur en 2014',\n",
       "       \"Introduction d'innovation en marketing\",\n",
       "       'Introduction de procédés de fabrication nouveaux',\n",
       "       \"Introduction de modes d'organisation nouveaux\",\n",
       "       'Introduction de produits ou services nouveaux',\n",
       "       'Principales difficultés rencontrées lors de la\\ncréation',\n",
       "       'Expérience du créateur dans le métier principal'], dtype=object)"
      ]
     },
     "execution_count": 88,
     "metadata": {},
     "output_type": "execute_result"
    }
   ],
   "source": [
    "df_2014[\"categorie_type\"].unique()"
   ]
  },
  {
   "cell_type": "code",
   "execution_count": 92,
   "id": "6a545477",
   "metadata": {},
   "outputs": [
    {
     "data": {
      "text/plain": [
       "array(['Tranche d’âge du créateur en 2018', 'Nationalité du créateur',\n",
       "       'Qualification préalable du créateur (PCS avant la\\ncréation)',\n",
       "       'Situation personnelle du créateur',\n",
       "       'Diplôme le plus élevé du créateur',\n",
       "       'Situation immédiate avant la création',\n",
       "       'Durée de l’expérience dans le métier Principal',\n",
       "       'Taille de l’entreprise où a été acquise\\nl’expérience professionnelle',\n",
       "       'Exercice d’une autre activité rémunérée',\n",
       "       \"création ou reprise d'une entreprise avant 2018\\n(autre que entreprise actuelle)\",\n",
       "       \"Suivi d'une formation particulière pour la\\nréalisation du projet\",\n",
       "       'Secteur d’activité en 7 postes',\n",
       "       'Principales raisons de choisir le régime de\\nmicro-entrepreneur',\n",
       "       'Choix d’un autre régime si le régime de\\nmicro-entrepreneur n’existait pas',\n",
       "       'Principaux avantages du régime de\\nmicro-entrepreneur',\n",
       "       'Principaux inconvénients du régime de\\nmicro-entrepreneur',\n",
       "       'Appuis reçus pour mettre en place le projet',\n",
       "       'Principales difficultés rencontrées pour mettre en\\nplace le projet',\n",
       "       'Moyens financiers nécessaires pour démarrer',\n",
       "       'Sources de financement du projet en dehors des\\nressources personnelles',\n",
       "       'Dispositifs d’aides dont a bénéficié le créateur',\n",
       "       \"Prestations perçues au moment de l'enquête\"], dtype=object)"
      ]
     },
     "execution_count": 92,
     "metadata": {},
     "output_type": "execute_result"
    }
   ],
   "source": [
    "df_2018[\"categorie_type\"].unique()"
   ]
  },
  {
   "cell_type": "markdown",
   "id": "3bbbb356",
   "metadata": {},
   "source": [
    "## Visualisation rapide"
   ]
  },
  {
   "cell_type": "markdown",
   "id": "5751dd4f",
   "metadata": {},
   "source": [
    "réaliser une premère visualisation pour voir l'état des données et voir s'il y a des modifications à apporter dans le DF"
   ]
  },
  {
   "cell_type": "code",
   "execution_count": 77,
   "id": "a5e007ef",
   "metadata": {},
   "outputs": [],
   "source": [
    "import seaborn as sns\n",
    "import matplotlib.pyplot as plt\n",
    "import plotly.graph_objects as go\n"
   ]
  },
  {
   "cell_type": "markdown",
   "id": "c1cf9bef",
   "metadata": {},
   "source": [
    "création d'une copie du DF pour filtrer sur une catégorie, ici tranche d'âge à la création de l'entreprise en 2018 et moyenne à la France entière"
   ]
  },
  {
   "cell_type": "code",
   "execution_count": 89,
   "id": "725aa346",
   "metadata": {},
   "outputs": [],
   "source": [
    "df_plot = df_2014[\n",
    "    (df_2014[\"categorie_type\"] == \"Âge du créateur en 2014\") &\n",
    "    (df_2014[\"area\"] == \"FR\") &\n",
    "    (df_2014[\"categories\"] != \"Ensemble\")\n",
    "].copy()"
   ]
  },
  {
   "cell_type": "code",
   "execution_count": 85,
   "id": "c2f8fa37",
   "metadata": {},
   "outputs": [
    {
     "data": {
      "text/html": [
       "<div>\n",
       "<style scoped>\n",
       "    .dataframe tbody tr th:only-of-type {\n",
       "        vertical-align: middle;\n",
       "    }\n",
       "\n",
       "    .dataframe tbody tr th {\n",
       "        vertical-align: top;\n",
       "    }\n",
       "\n",
       "    .dataframe thead th {\n",
       "        text-align: right;\n",
       "    }\n",
       "</style>\n",
       "<table border=\"1\" class=\"dataframe\">\n",
       "  <thead>\n",
       "    <tr style=\"text-align: right;\">\n",
       "      <th></th>\n",
       "      <th>gender</th>\n",
       "      <th>categorie_type</th>\n",
       "      <th>categories</th>\n",
       "      <th>years</th>\n",
       "      <th>Taux de pérennité</th>\n",
       "      <th>Borne inférieure à 95 % du\\ntaux de pérennité</th>\n",
       "      <th>Borne supérieure à 95 % du\\ntaux de pérennité</th>\n",
       "      <th>file_name</th>\n",
       "      <th>area</th>\n",
       "      <th>year_source</th>\n",
       "    </tr>\n",
       "  </thead>\n",
       "  <tbody>\n",
       "  </tbody>\n",
       "</table>\n",
       "</div>"
      ],
      "text/plain": [
       "Empty DataFrame\n",
       "Columns: [gender, categorie_type, categories, years, Taux de pérennité, Borne inférieure à 95 % du\n",
       "taux de pérennité, Borne supérieure à 95 % du\n",
       "taux de pérennité, file_name, area, year_source]\n",
       "Index: []"
      ]
     },
     "execution_count": 85,
     "metadata": {},
     "output_type": "execute_result"
    }
   ],
   "source": [
    "df_plot"
   ]
  },
  {
   "cell_type": "code",
   "execution_count": 91,
   "id": "dc4562a4",
   "metadata": {},
   "outputs": [
    {
     "data": {
      "image/png": "[encoded data removed]",
      "text/plain": [
       "<Figure size 1200x600 with 1 Axes>"
      ]
     },
     "metadata": {},
     "output_type": "display_data"
    }
   ],
   "source": [
    "plt.figure(figsize=(12, 6))\n",
    "\n",
    "sns.barplot(\n",
    "    data=df_plot,\n",
    "    x=\"categories\", y=\"Taux de pérennité\", hue=\"gender\"\n",
    ")\n",
    "\n",
    "plt.title(\"Pérennité par sexe et année selon la tranche d'age du créateur lors de la création en 2014\")\n",
    "plt.show()"
   ]
  },
  {
   "cell_type": "code",
   "execution_count": 95,
   "id": "50a7f8d6",
   "metadata": {},
   "outputs": [
    {
     "data": {
      "application/vnd.plotly.v1+json": {
       "config": {
        "plotlyServerURL": "https://plot.ly"
       },
       "data": [
        {
         "alignmentgroup": "True",
         "hovertemplate": "Genre=Ensemble<br>years=1 an<br>Tranche d'âge=%{x}<br>Taux de pérennité (%)=%{y}<extra></extra>",
         "legendgroup": "Ensemble",
         "marker": {
          "color": "#636efa",
          "pattern": {
           "shape": ""
          }
         },
         "name": "Ensemble",
         "offsetgroup": "Ensemble",
         "orientation": "v",
         "showlegend": true,
         "textposition": "auto",
         "type": "bar",
         "x": [
          "Moins de 30 ans",
          "30 à 39 ans",
          "40 à 49 ans",
          "50 ans et plus"
         ],
         "xaxis": "x",
         "y": {
          "bdata": "ZmZmZmbGUEAzMzMzMxNUQM3MzMzMzFRAZmZmZmbmVEA=",
          "dtype": "f8"
         },
         "yaxis": "y"
        },
        {
         "alignmentgroup": "True",
         "hovertemplate": "Genre=Homme<br>years=1 an<br>Tranche d'âge=%{x}<br>Taux de pérennité (%)=%{y}<extra></extra>",
         "legendgroup": "Homme",
         "marker": {
          "color": "#EF553B",
          "pattern": {
           "shape": ""
          }
         },
         "name": "Homme",
         "offsetgroup": "Homme",
         "orientation": "v",
         "showlegend": true,
         "textposition": "auto",
         "type": "bar",
         "x": [
          "Moins de 30 ans",
          "30 à 39 ans",
          "40 à 49 ans",
          "50 ans et plus"
         ],
         "xaxis": "x",
         "y": {
          "bdata": "zczMzMzMUEBmZmZmZsZTQAAAAAAAIFRAzczMzMyMVEA=",
          "dtype": "f8"
         },
         "yaxis": "y"
        },
        {
         "alignmentgroup": "True",
         "hovertemplate": "Genre=Femme<br>years=1 an<br>Tranche d'âge=%{x}<br>Taux de pérennité (%)=%{y}<extra></extra>",
         "legendgroup": "Femme",
         "marker": {
          "color": "#00cc96",
          "pattern": {
           "shape": ""
          }
         },
         "name": "Femme",
         "offsetgroup": "Femme",
         "orientation": "v",
         "showlegend": true,
         "textposition": "auto",
         "type": "bar",
         "x": [
          "Moins de 30 ans",
          "30 à 39 ans",
          "40 à 49 ans",
          "50 ans et plus"
         ],
         "xaxis": "x",
         "y": {
          "bdata": "AAAAAADAUECamZmZmXlUQJqZmZmZmVVAZmZmZmZmVUA=",
          "dtype": "f8"
         },
         "yaxis": "y"
        }
       ],
       "frames": [
        {
         "data": [
          {
           "alignmentgroup": "True",
           "hovertemplate": "Genre=Ensemble<br>years=1 an<br>Tranche d'âge=%{x}<br>Taux de pérennité (%)=%{y}<extra></extra>",
           "legendgroup": "Ensemble",
           "marker": {
            "color": "#636efa",
            "pattern": {
             "shape": ""
            }
           },
           "name": "Ensemble",
           "offsetgroup": "Ensemble",
           "orientation": "v",
           "showlegend": true,
           "textposition": "auto",
           "type": "bar",
           "x": [
            "Moins de 30 ans",
            "30 à 39 ans",
            "40 à 49 ans",
            "50 ans et plus"
           ],
           "xaxis": "x",
           "y": {
            "bdata": "ZmZmZmbGUEAzMzMzMxNUQM3MzMzMzFRAZmZmZmbmVEA=",
            "dtype": "f8"
           },
           "yaxis": "y"
          },
          {
           "alignmentgroup": "True",
           "hovertemplate": "Genre=Homme<br>years=1 an<br>Tranche d'âge=%{x}<br>Taux de pérennité (%)=%{y}<extra></extra>",
           "legendgroup": "Homme",
           "marker": {
            "color": "#EF553B",
            "pattern": {
             "shape": ""
            }
           },
           "name": "Homme",
           "offsetgroup": "Homme",
           "orientation": "v",
           "showlegend": true,
           "textposition": "auto",
           "type": "bar",
           "x": [
            "Moins de 30 ans",
            "30 à 39 ans",
            "40 à 49 ans",
            "50 ans et plus"
           ],
           "xaxis": "x",
           "y": {
            "bdata": "zczMzMzMUEBmZmZmZsZTQAAAAAAAIFRAzczMzMyMVEA=",
            "dtype": "f8"
           },
           "yaxis": "y"
          },
          {
           "alignmentgroup": "True",
           "hovertemplate": "Genre=Femme<br>years=1 an<br>Tranche d'âge=%{x}<br>Taux de pérennité (%)=%{y}<extra></extra>",
           "legendgroup": "Femme",
           "marker": {
            "color": "#00cc96",
            "pattern": {
             "shape": ""
            }
           },
           "name": "Femme",
           "offsetgroup": "Femme",
           "orientation": "v",
           "showlegend": true,
           "textposition": "auto",
           "type": "bar",
           "x": [
            "Moins de 30 ans",
            "30 à 39 ans",
            "40 à 49 ans",
            "50 ans et plus"
           ],
           "xaxis": "x",
           "y": {
            "bdata": "AAAAAADAUECamZmZmXlUQJqZmZmZmVVAZmZmZmZmVUA=",
            "dtype": "f8"
           },
           "yaxis": "y"
          }
         ],
         "name": "1 an"
        },
        {
         "data": [
          {
           "alignmentgroup": "True",
           "hovertemplate": "Genre=Ensemble<br>years=2 ans<br>Tranche d'âge=%{x}<br>Taux de pérennité (%)=%{y}<extra></extra>",
           "legendgroup": "Ensemble",
           "marker": {
            "color": "#636efa",
            "pattern": {
             "shape": ""
            }
           },
           "name": "Ensemble",
           "offsetgroup": "Ensemble",
           "orientation": "v",
           "showlegend": true,
           "textposition": "auto",
           "type": "bar",
           "x": [
            "Moins de 30 ans",
            "30 à 39 ans",
            "40 à 49 ans",
            "50 ans et plus"
           ],
           "xaxis": "x",
           "y": {
            "bdata": "zczMzMxMSEAzMzMzM/NOQJqZmZmZ2VBAAAAAAACgUEA=",
            "dtype": "f8"
           },
           "yaxis": "y"
          },
          {
           "alignmentgroup": "True",
           "hovertemplate": "Genre=Homme<br>years=2 ans<br>Tranche d'âge=%{x}<br>Taux de pérennité (%)=%{y}<extra></extra>",
           "legendgroup": "Homme",
           "marker": {
            "color": "#EF553B",
            "pattern": {
             "shape": ""
            }
           },
           "name": "Homme",
           "offsetgroup": "Homme",
           "orientation": "v",
           "showlegend": true,
           "textposition": "auto",
           "type": "bar",
           "x": [
            "Moins de 30 ans",
            "30 à 39 ans",
            "40 à 49 ans",
            "50 ans et plus"
           ],
           "xaxis": "x",
           "y": {
            "bdata": "mpmZmZnZR0BmZmZmZuZNQGZmZmZmJlBAMzMzMzPzT0A=",
            "dtype": "f8"
           },
           "yaxis": "y"
          },
          {
           "alignmentgroup": "True",
           "hovertemplate": "Genre=Femme<br>years=2 ans<br>Tranche d'âge=%{x}<br>Taux de pérennité (%)=%{y}<extra></extra>",
           "legendgroup": "Femme",
           "marker": {
            "color": "#00cc96",
            "pattern": {
             "shape": ""
            }
           },
           "name": "Femme",
           "offsetgroup": "Femme",
           "orientation": "v",
           "showlegend": true,
           "textposition": "auto",
           "type": "bar",
           "x": [
            "Moins de 30 ans",
            "30 à 39 ans",
            "40 à 49 ans",
            "50 ans et plus"
           ],
           "xaxis": "x",
           "y": {
            "bdata": "zczMzMwMSUBmZmZmZiZQQJqZmZmZuVFAmpmZmZmZUUA=",
            "dtype": "f8"
           },
           "yaxis": "y"
          }
         ],
         "name": "2 ans"
        },
        {
         "data": [
          {
           "alignmentgroup": "True",
           "hovertemplate": "Genre=Ensemble<br>years=3 ans<br>Tranche d'âge=%{x}<br>Taux de pérennité (%)=%{y}<extra></extra>",
           "legendgroup": "Ensemble",
           "marker": {
            "color": "#636efa",
            "pattern": {
             "shape": ""
            }
           },
           "name": "Ensemble",
           "offsetgroup": "Ensemble",
           "orientation": "v",
           "showlegend": true,
           "textposition": "auto",
           "type": "bar",
           "x": [
            "Moins de 30 ans",
            "30 à 39 ans",
            "40 à 49 ans",
            "50 ans et plus"
           ],
           "xaxis": "x",
           "y": {
            "bdata": "mpmZmZmZQUCamZmZmVlIQM3MzMzMTEtAzczMzMyMSkA=",
            "dtype": "f8"
           },
           "yaxis": "y"
          },
          {
           "alignmentgroup": "True",
           "hovertemplate": "Genre=Homme<br>years=3 ans<br>Tranche d'âge=%{x}<br>Taux de pérennité (%)=%{y}<extra></extra>",
           "legendgroup": "Homme",
           "marker": {
            "color": "#EF553B",
            "pattern": {
             "shape": ""
            }
           },
           "name": "Homme",
           "offsetgroup": "Homme",
           "orientation": "v",
           "showlegend": true,
           "textposition": "auto",
           "type": "bar",
           "x": [
            "Moins de 30 ans",
            "30 à 39 ans",
            "40 à 49 ans",
            "50 ans et plus"
           ],
           "xaxis": "x",
           "y": {
            "bdata": "AAAAAADAQEAAAAAAAABHQGZmZmZm5klAZmZmZmZmSUA=",
            "dtype": "f8"
           },
           "yaxis": "y"
          },
          {
           "alignmentgroup": "True",
           "hovertemplate": "Genre=Femme<br>years=3 ans<br>Tranche d'âge=%{x}<br>Taux de pérennité (%)=%{y}<extra></extra>",
           "legendgroup": "Femme",
           "marker": {
            "color": "#00cc96",
            "pattern": {
             "shape": ""
            }
           },
           "name": "Femme",
           "offsetgroup": "Femme",
           "orientation": "v",
           "showlegend": true,
           "textposition": "auto",
           "type": "bar",
           "x": [
            "Moins de 30 ans",
            "30 à 39 ans",
            "40 à 49 ans",
            "50 ans et plus",
            "50 ans et plus"
           ],
           "xaxis": "x",
           "y": {
            "bdata": "ZmZmZmYmQ0DNzMzMzAxKQM3MzMzMDE1AmpmZmZlZTEAAAAAAAAD4fw==",
            "dtype": "f8"
           },
           "yaxis": "y"
          }
         ],
         "name": "3 ans"
        }
       ],
       "layout": {
        "barmode": "group",
        "height": 600,
        "legend": {
         "title": {
          "text": "Genre"
         },
         "tracegroupgap": 0
        },
        "margin": {
         "b": 80,
         "l": 40,
         "r": 40,
         "t": 80
        },
        "sliders": [
         {
          "active": 0,
          "currentvalue": {
           "prefix": "years="
          },
          "len": 0.9,
          "pad": {
           "b": 10,
           "t": 60
          },
          "steps": [
           {
            "args": [
             [
              "1 an"
             ],
             {
              "frame": {
               "duration": 0,
               "redraw": true
              },
              "fromcurrent": true,
              "mode": "immediate",
              "transition": {
               "duration": 0,
               "easing": "linear"
              }
             }
            ],
            "label": "1 an",
            "method": "animate"
           },
           {
            "args": [
             [
              "2 ans"
             ],
             {
              "frame": {
               "duration": 0,
               "redraw": true
              },
              "fromcurrent": true,
              "mode": "immediate",
              "transition": {
               "duration": 0,
               "easing": "linear"
              }
             }
            ],
            "label": "2 ans",
            "method": "animate"
           },
           {
            "args": [
             [
              "3 ans"
             ],
             {
              "frame": {
               "duration": 0,
               "redraw": true
              },
              "fromcurrent": true,
              "mode": "immediate",
              "transition": {
               "duration": 0,
               "easing": "linear"
              }
             }
            ],
            "label": "3 ans",
            "method": "animate"
           }
          ],
          "x": 0.1,
          "xanchor": "left",
          "y": 0,
          "yanchor": "top"
         }
        ],
        "template": {
         "data": {
          "bar": [
           {
            "error_x": {
             "color": "#2a3f5f"
            },
            "error_y": {
             "color": "#2a3f5f"
            },
            "marker": {
             "line": {
              "color": "#E5ECF6",
              "width": 0.5
             },
             "pattern": {
              "fillmode": "overlay",
              "size": 10,
              "solidity": 0.2
             }
            },
            "type": "bar"
           }
          ],
          "barpolar": [
           {
            "marker": {
             "line": {
              "color": "#E5ECF6",
              "width": 0.5
             },
             "pattern": {
              "fillmode": "overlay",
              "size": 10,
              "solidity": 0.2
             }
            },
            "type": "barpolar"
           }
          ],
          "carpet": [
           {
            "aaxis": {
             "endlinecolor": "#2a3f5f",
             "gridcolor": "white",
             "linecolor": "white",
             "minorgridcolor": "white",
             "startlinecolor": "#2a3f5f"
            },
            "baxis": {
             "endlinecolor": "#2a3f5f",
             "gridcolor": "white",
             "linecolor": "white",
             "minorgridcolor": "white",
             "startlinecolor": "#2a3f5f"
            },
            "type": "carpet"
           }
          ],
          "choropleth": [
           {
            "colorbar": {
             "outlinewidth": 0,
             "ticks": ""
            },
            "type": "choropleth"
           }
          ],
          "contour": [
           {
            "colorbar": {
             "outlinewidth": 0,
             "ticks": ""
            },
            "colorscale": [
             [
              0,
              "#0d0887"
             ],
             [
              0.1111111111111111,
              "#46039f"
             ],
             [
              0.2222222222222222,
              "#7201a8"
             ],
             [
              0.3333333333333333,
              "#9c179e"
             ],
             [
              0.4444444444444444,
              "#bd3786"
             ],
             [
              0.5555555555555556,
              "#d8576b"
             ],
             [
              0.6666666666666666,
              "#ed7953"
             ],
             [
              0.7777777777777778,
              "#fb9f3a"
             ],
             [
              0.8888888888888888,
              "#fdca26"
             ],
             [
              1,
              "#f0f921"
             ]
            ],
            "type": "contour"
           }
          ],
          "contourcarpet": [
           {
            "colorbar": {
             "outlinewidth": 0,
             "ticks": ""
            },
            "type": "contourcarpet"
           }
          ],
          "heatmap": [
           {
            "colorbar": {
             "outlinewidth": 0,
             "ticks": ""
            },
            "colorscale": [
             [
              0,
              "#0d0887"
             ],
             [
              0.1111111111111111,
              "#46039f"
             ],
             [
              0.2222222222222222,
              "#7201a8"
             ],
             [
              0.3333333333333333,
              "#9c179e"
             ],
             [
              0.4444444444444444,
              "#bd3786"
             ],
             [
              0.5555555555555556,
              "#d8576b"
             ],
             [
              0.6666666666666666,
              "#ed7953"
             ],
             [
              0.7777777777777778,
              "#fb9f3a"
             ],
             [
              0.8888888888888888,
              "#fdca26"
             ],
             [
              1,
              "#f0f921"
             ]
            ],
            "type": "heatmap"
           }
          ],
          "histogram": [
           {
            "marker": {
             "pattern": {
              "fillmode": "overlay",
              "size": 10,
              "solidity": 0.2
             }
            },
            "type": "histogram"
           }
          ],
          "histogram2d": [
           {
            "colorbar": {
             "outlinewidth": 0,
             "ticks": ""
            },
            "colorscale": [
             [
              0,
              "#0d0887"
             ],
             [
              0.1111111111111111,
              "#46039f"
             ],
             [
              0.2222222222222222,
              "#7201a8"
             ],
             [
              0.3333333333333333,
              "#9c179e"
             ],
             [
              0.4444444444444444,
              "#bd3786"
             ],
             [
              0.5555555555555556,
              "#d8576b"
             ],
             [
              0.6666666666666666,
              "#ed7953"
             ],
             [
              0.7777777777777778,
              "#fb9f3a"
             ],
             [
              0.8888888888888888,
              "#fdca26"
             ],
             [
              1,
              "#f0f921"
             ]
            ],
            "type": "histogram2d"
           }
          ],
          "histogram2dcontour": [
           {
            "colorbar": {
             "outlinewidth": 0,
             "ticks": ""
            },
            "colorscale": [
             [
              0,
              "#0d0887"
             ],
             [
              0.1111111111111111,
              "#46039f"
             ],
             [
              0.2222222222222222,
              "#7201a8"
             ],
             [
              0.3333333333333333,
              "#9c179e"
             ],
             [
              0.4444444444444444,
              "#bd3786"
             ],
             [
              0.5555555555555556,
              "#d8576b"
             ],
             [
              0.6666666666666666,
              "#ed7953"
             ],
             [
              0.7777777777777778,
              "#fb9f3a"
             ],
             [
              0.8888888888888888,
              "#fdca26"
             ],
             [
              1,
              "#f0f921"
             ]
            ],
            "type": "histogram2dcontour"
           }
          ],
          "mesh3d": [
           {
            "colorbar": {
             "outlinewidth": 0,
             "ticks": ""
            },
            "type": "mesh3d"
           }
          ],
          "parcoords": [
           {
            "line": {
             "colorbar": {
              "outlinewidth": 0,
              "ticks": ""
             }
            },
            "type": "parcoords"
           }
          ],
          "pie": [
           {
            "automargin": true,
            "type": "pie"
           }
          ],
          "scatter": [
           {
            "fillpattern": {
             "fillmode": "overlay",
             "size": 10,
             "solidity": 0.2
            },
            "type": "scatter"
           }
          ],
          "scatter3d": [
           {
            "line": {
             "colorbar": {
              "outlinewidth": 0,
              "ticks": ""
             }
            },
            "marker": {
             "colorbar": {
              "outlinewidth": 0,
              "ticks": ""
             }
            },
            "type": "scatter3d"
           }
          ],
          "scattercarpet": [
           {
            "marker": {
             "colorbar": {
              "outlinewidth": 0,
              "ticks": ""
             }
            },
            "type": "scattercarpet"
           }
          ],
          "scattergeo": [
           {
            "marker": {
             "colorbar": {
              "outlinewidth": 0,
              "ticks": ""
             }
            },
            "type": "scattergeo"
           }
          ],
          "scattergl": [
           {
            "marker": {
             "colorbar": {
              "outlinewidth": 0,
              "ticks": ""
             }
            },
            "type": "scattergl"
           }
          ],
          "scattermap": [
           {
            "marker": {
             "colorbar": {
              "outlinewidth": 0,
              "ticks": ""
             }
            },
            "type": "scattermap"
           }
          ],
          "scattermapbox": [
           {
            "marker": {
             "colorbar": {
              "outlinewidth": 0,
              "ticks": ""
             }
            },
            "type": "scattermapbox"
           }
          ],
          "scatterpolar": [
           {
            "marker": {
             "colorbar": {
              "outlinewidth": 0,
              "ticks": ""
             }
            },
            "type": "scatterpolar"
           }
          ],
          "scatterpolargl": [
           {
            "marker": {
             "colorbar": {
              "outlinewidth": 0,
              "ticks": ""
             }
            },
            "type": "scatterpolargl"
           }
          ],
          "scatterternary": [
           {
            "marker": {
             "colorbar": {
              "outlinewidth": 0,
              "ticks": ""
             }
            },
            "type": "scatterternary"
           }
          ],
          "surface": [
           {
            "colorbar": {
             "outlinewidth": 0,
             "ticks": ""
            },
            "colorscale": [
             [
              0,
              "#0d0887"
             ],
             [
              0.1111111111111111,
              "#46039f"
             ],
             [
              0.2222222222222222,
              "#7201a8"
             ],
             [
              0.3333333333333333,
              "#9c179e"
             ],
             [
              0.4444444444444444,
              "#bd3786"
             ],
             [
              0.5555555555555556,
              "#d8576b"
             ],
             [
              0.6666666666666666,
              "#ed7953"
             ],
             [
              0.7777777777777778,
              "#fb9f3a"
             ],
             [
              0.8888888888888888,
              "#fdca26"
             ],
             [
              1,
              "#f0f921"
             ]
            ],
            "type": "surface"
           }
          ],
          "table": [
           {
            "cells": {
             "fill": {
              "color": "#EBF0F8"
             },
             "line": {
              "color": "white"
             }
            },
            "header": {
             "fill": {
              "color": "#C8D4E3"
             },
             "line": {
              "color": "white"
             }
            },
            "type": "table"
           }
          ]
         },
         "layout": {
          "annotationdefaults": {
           "arrowcolor": "#2a3f5f",
           "arrowhead": 0,
           "arrowwidth": 1
          },
          "autotypenumbers": "strict",
          "coloraxis": {
           "colorbar": {
            "outlinewidth": 0,
            "ticks": ""
           }
          },
          "colorscale": {
           "diverging": [
            [
             0,
             "#8e0152"
            ],
            [
             0.1,
             "#c51b7d"
            ],
            [
             0.2,
             "#de77ae"
            ],
            [
             0.3,
             "#f1b6da"
            ],
            [
             0.4,
             "#fde0ef"
            ],
            [
             0.5,
             "#f7f7f7"
            ],
            [
             0.6,
             "#e6f5d0"
            ],
            [
             0.7,
             "#b8e186"
            ],
            [
             0.8,
             "#7fbc41"
            ],
            [
             0.9,
             "#4d9221"
            ],
            [
             1,
             "#276419"
            ]
           ],
           "sequential": [
            [
             0,
             "#0d0887"
            ],
            [
             0.1111111111111111,
             "#46039f"
            ],
            [
             0.2222222222222222,
             "#7201a8"
            ],
            [
             0.3333333333333333,
             "#9c179e"
            ],
            [
             0.4444444444444444,
             "#bd3786"
            ],
            [
             0.5555555555555556,
             "#d8576b"
            ],
            [
             0.6666666666666666,
             "#ed7953"
            ],
            [
             0.7777777777777778,
             "#fb9f3a"
            ],
            [
             0.8888888888888888,
             "#fdca26"
            ],
            [
             1,
             "#f0f921"
            ]
           ],
           "sequentialminus": [
            [
             0,
             "#0d0887"
            ],
            [
             0.1111111111111111,
             "#46039f"
            ],
            [
             0.2222222222222222,
             "#7201a8"
            ],
            [
             0.3333333333333333,
             "#9c179e"
            ],
            [
             0.4444444444444444,
             "#bd3786"
            ],
            [
             0.5555555555555556,
             "#d8576b"
            ],
            [
             0.6666666666666666,
             "#ed7953"
            ],
            [
             0.7777777777777778,
             "#fb9f3a"
            ],
            [
             0.8888888888888888,
             "#fdca26"
            ],
            [
             1,
             "#f0f921"
            ]
           ]
          },
          "colorway": [
           "#636efa",
           "#EF553B",
           "#00cc96",
           "#ab63fa",
           "#FFA15A",
           "#19d3f3",
           "#FF6692",
           "#B6E880",
           "#FF97FF",
           "#FECB52"
          ],
          "font": {
           "color": "#2a3f5f"
          },
          "geo": {
           "bgcolor": "white",
           "lakecolor": "white",
           "landcolor": "#E5ECF6",
           "showlakes": true,
           "showland": true,
           "subunitcolor": "white"
          },
          "hoverlabel": {
           "align": "left"
          },
          "hovermode": "closest",
          "mapbox": {
           "style": "light"
          },
          "paper_bgcolor": "white",
          "plot_bgcolor": "#E5ECF6",
          "polar": {
           "angularaxis": {
            "gridcolor": "white",
            "linecolor": "white",
            "ticks": ""
           },
           "bgcolor": "#E5ECF6",
           "radialaxis": {
            "gridcolor": "white",
            "linecolor": "white",
            "ticks": ""
           }
          },
          "scene": {
           "xaxis": {
            "backgroundcolor": "#E5ECF6",
            "gridcolor": "white",
            "gridwidth": 2,
            "linecolor": "white",
            "showbackground": true,
            "ticks": "",
            "zerolinecolor": "white"
           },
           "yaxis": {
            "backgroundcolor": "#E5ECF6",
            "gridcolor": "white",
            "gridwidth": 2,
            "linecolor": "white",
            "showbackground": true,
            "ticks": "",
            "zerolinecolor": "white"
           },
           "zaxis": {
            "backgroundcolor": "#E5ECF6",
            "gridcolor": "white",
            "gridwidth": 2,
            "linecolor": "white",
            "showbackground": true,
            "ticks": "",
            "zerolinecolor": "white"
           }
          },
          "shapedefaults": {
           "line": {
            "color": "#2a3f5f"
           }
          },
          "ternary": {
           "aaxis": {
            "gridcolor": "white",
            "linecolor": "white",
            "ticks": ""
           },
           "baxis": {
            "gridcolor": "white",
            "linecolor": "white",
            "ticks": ""
           },
           "bgcolor": "#E5ECF6",
           "caxis": {
            "gridcolor": "white",
            "linecolor": "white",
            "ticks": ""
           }
          },
          "title": {
           "x": 0.05
          },
          "xaxis": {
           "automargin": true,
           "gridcolor": "white",
           "linecolor": "white",
           "ticks": "",
           "title": {
            "standoff": 15
           },
           "zerolinecolor": "white",
           "zerolinewidth": 2
          },
          "yaxis": {
           "automargin": true,
           "gridcolor": "white",
           "linecolor": "white",
           "ticks": "",
           "title": {
            "standoff": 15
           },
           "zerolinecolor": "white",
           "zerolinewidth": 2
          }
         }
        },
        "title": {
         "text": "Évolution de la pérennité selon le genre et la tranche d'âge"
        },
        "updatemenus": [
         {
          "buttons": [
           {
            "args": [
             null,
             {
              "frame": {
               "duration": 500,
               "redraw": true
              },
              "fromcurrent": true,
              "mode": "immediate",
              "transition": {
               "duration": 500,
               "easing": "linear"
              }
             }
            ],
            "label": "&#9654;",
            "method": "animate"
           },
           {
            "args": [
             [
              null
             ],
             {
              "frame": {
               "duration": 0,
               "redraw": true
              },
              "fromcurrent": true,
              "mode": "immediate",
              "transition": {
               "duration": 0,
               "easing": "linear"
              }
             }
            ],
            "label": "&#9724;",
            "method": "animate"
           }
          ],
          "direction": "left",
          "pad": {
           "r": 10,
           "t": 70
          },
          "showactive": false,
          "type": "buttons",
          "x": 0.1,
          "xanchor": "right",
          "y": 0,
          "yanchor": "top"
         }
        ],
        "width": 1000,
        "xaxis": {
         "anchor": "y",
         "domain": [
          0,
          1
         ],
         "tickangle": -45,
         "title": {
          "text": "Tranche d'âge"
         }
        },
        "yaxis": {
         "anchor": "x",
         "domain": [
          0,
          1
         ],
         "title": {
          "text": "Taux de pérennité (%)"
         }
        }
       }
      }
     },
     "metadata": {},
     "output_type": "display_data"
    }
   ],
   "source": [
    "df_plot_2018 = df_2018[\n",
    "    (df_2018[\"categorie_type\"] == \"Tranche d’âge du créateur en 2018\") &\n",
    "    (df_2018[\"area\"] == \"FR\") &\n",
    "    (df_2018[\"categories\"] != \"Ensemble\")\n",
    "].copy()\n",
    "\n",
    "fig = px.bar(\n",
    "    df_plot_2018,\n",
    "    x=\"categories\",\n",
    "    y=\"Taux de pérennité (%)\",\n",
    "    color=\"gender\",\n",
    "    animation_frame=\"years\",\n",
    "    barmode=\"group\",\n",
    "    labels={\"categories\": \"Tranche d'âge\", \"gender\": \"Genre\"},\n",
    "    title=\"Évolution de la pérennité selon le genre et la tranche d'âge\",\n",
    ")\n",
    "\n",
    "fig.update_layout(\n",
    "    xaxis_tickangle=-45,\n",
    "    width=1000,\n",
    "    height=600,\n",
    "    margin=dict(l=40, r=40, t=80, b=80)\n",
    ")\n",
    "\n",
    "fig.show()\n"
   ]
  },
  {
   "cell_type": "code",
   "execution_count": 82,
   "id": "bac8bd41",
   "metadata": {},
   "outputs": [],
   "source": [
    "# Dégradés simples\n",
    "palette_femme = [\"#006D2C\", \"#31A354\", \"#A1D99B\"]  \n",
    "palette_homme = [\"#08306B\", \"#2171B5\", \"#6BAED6\"]      \n",
    "palette_ensemble = [\"#99000D\", \"#CB181D\", \"#FB6A4A\"]   \n",
    "\n",
    "palettes = {\n",
    "    \"Femme\": palette_femme,\n",
    "    \"Homme\": palette_homme,\n",
    "    \"Ensemble\": palette_ensemble,\n",
    "}"
   ]
  },
  {
   "cell_type": "code",
   "execution_count": 83,
   "id": "8a64fa28",
   "metadata": {},
   "outputs": [
    {
     "data": {
      "application/vnd.plotly.v1+json": {
       "config": {
        "plotlyServerURL": "https://plot.ly"
       },
       "data": [
        {
         "line": {
          "color": "#99000D",
          "width": 2
         },
         "marker": {
          "color": "#99000D"
         },
         "mode": "lines+markers",
         "name": "Ensemble - 1 an",
         "type": "scatter",
         "x": [
          "Moins de 30 ans",
          "30 à 39 ans",
          "40 à 49 ans",
          "50 ans et plus"
         ],
         "y": [
          67.1,
          80.3,
          83.2,
          83.6
         ]
        },
        {
         "line": {
          "color": "#CB181D",
          "width": 2
         },
         "marker": {
          "color": "#CB181D"
         },
         "mode": "lines+markers",
         "name": "Ensemble - 2 ans",
         "type": "scatter",
         "x": [
          "Moins de 30 ans",
          "30 à 39 ans",
          "40 à 49 ans",
          "50 ans et plus"
         ],
         "y": [
          48.6,
          61.9,
          67.4,
          66.5
         ]
        },
        {
         "line": {
          "color": "#FB6A4A",
          "width": 2
         },
         "marker": {
          "color": "#FB6A4A"
         },
         "mode": "lines+markers",
         "name": "Ensemble - 3 ans",
         "type": "scatter",
         "x": [
          "Moins de 30 ans",
          "30 à 39 ans",
          "40 à 49 ans",
          "50 ans et plus"
         ],
         "y": [
          35.2,
          48.7,
          54.6,
          53.1
         ]
        },
        {
         "line": {
          "color": "#08306B",
          "width": 2
         },
         "marker": {
          "color": "#08306B"
         },
         "mode": "lines+markers",
         "name": "Homme - 1 an",
         "type": "scatter",
         "x": [
          "Moins de 30 ans",
          "30 à 39 ans",
          "40 à 49 ans",
          "50 ans et plus"
         ],
         "y": [
          67.2,
          79.1,
          80.5,
          82.2
         ]
        },
        {
         "line": {
          "color": "#2171B5",
          "width": 2
         },
         "marker": {
          "color": "#2171B5"
         },
         "mode": "lines+markers",
         "name": "Homme - 2 ans",
         "type": "scatter",
         "x": [
          "Moins de 30 ans",
          "30 à 39 ans",
          "40 à 49 ans",
          "50 ans et plus"
         ],
         "y": [
          47.7,
          59.8,
          64.6,
          63.9
         ]
        },
        {
         "line": {
          "color": "#6BAED6",
          "width": 2
         },
         "marker": {
          "color": "#6BAED6"
         },
         "mode": "lines+markers",
         "name": "Homme - 3 ans",
         "type": "scatter",
         "x": [
          "Moins de 30 ans",
          "30 à 39 ans",
          "40 à 49 ans",
          "50 ans et plus"
         ],
         "y": [
          33.5,
          46,
          51.8,
          50.8
         ]
        },
        {
         "line": {
          "color": "#006D2C",
          "width": 2
         },
         "marker": {
          "color": "#006D2C"
         },
         "mode": "lines+markers",
         "name": "Femme - 1 an",
         "type": "scatter",
         "x": [
          "Moins de 30 ans",
          "30 à 39 ans",
          "40 à 49 ans",
          "50 ans et plus"
         ],
         "y": [
          67,
          81.9,
          86.4,
          85.6
         ]
        },
        {
         "line": {
          "color": "#31A354",
          "width": 2
         },
         "marker": {
          "color": "#31A354"
         },
         "mode": "lines+markers",
         "name": "Femme - 2 ans",
         "type": "scatter",
         "x": [
          "Moins de 30 ans",
          "30 à 39 ans",
          "40 à 49 ans",
          "50 ans et plus"
         ],
         "y": [
          50.1,
          64.6,
          70.9,
          70.4
         ]
        },
        {
         "line": {
          "color": "#A1D99B",
          "width": 2
         },
         "marker": {
          "color": "#A1D99B"
         },
         "mode": "lines+markers",
         "name": "Femme - 3 ans",
         "type": "scatter",
         "x": [
          "Moins de 30 ans",
          "30 à 39 ans",
          "40 à 49 ans",
          "50 ans et plus",
          "50 ans et plus"
         ],
         "y": [
          38.3,
          52.1,
          58.1,
          56.7,
          null
         ]
        }
       ],
       "layout": {
        "height": 600,
        "legend": {
         "title": {
          "text": "Genre - Année"
         }
        },
        "template": {
         "data": {
          "bar": [
           {
            "error_x": {
             "color": "#2a3f5f"
            },
            "error_y": {
             "color": "#2a3f5f"
            },
            "marker": {
             "line": {
              "color": "white",
              "width": 0.5
             },
             "pattern": {
              "fillmode": "overlay",
              "size": 10,
              "solidity": 0.2
             }
            },
            "type": "bar"
           }
          ],
          "barpolar": [
           {
            "marker": {
             "line": {
              "color": "white",
              "width": 0.5
             },
             "pattern": {
              "fillmode": "overlay",
              "size": 10,
              "solidity": 0.2
             }
            },
            "type": "barpolar"
           }
          ],
          "carpet": [
           {
            "aaxis": {
             "endlinecolor": "#2a3f5f",
             "gridcolor": "#C8D4E3",
             "linecolor": "#C8D4E3",
             "minorgridcolor": "#C8D4E3",
             "startlinecolor": "#2a3f5f"
            },
            "baxis": {
             "endlinecolor": "#2a3f5f",
             "gridcolor": "#C8D4E3",
             "linecolor": "#C8D4E3",
             "minorgridcolor": "#C8D4E3",
             "startlinecolor": "#2a3f5f"
            },
            "type": "carpet"
           }
          ],
          "choropleth": [
           {
            "colorbar": {
             "outlinewidth": 0,
             "ticks": ""
            },
            "type": "choropleth"
           }
          ],
          "contour": [
           {
            "colorbar": {
             "outlinewidth": 0,
             "ticks": ""
            },
            "colorscale": [
             [
              0,
              "#0d0887"
             ],
             [
              0.1111111111111111,
              "#46039f"
             ],
             [
              0.2222222222222222,
              "#7201a8"
             ],
             [
              0.3333333333333333,
              "#9c179e"
             ],
             [
              0.4444444444444444,
              "#bd3786"
             ],
             [
              0.5555555555555556,
              "#d8576b"
             ],
             [
              0.6666666666666666,
              "#ed7953"
             ],
             [
              0.7777777777777778,
              "#fb9f3a"
             ],
             [
              0.8888888888888888,
              "#fdca26"
             ],
             [
              1,
              "#f0f921"
             ]
            ],
            "type": "contour"
           }
          ],
          "contourcarpet": [
           {
            "colorbar": {
             "outlinewidth": 0,
             "ticks": ""
            },
            "type": "contourcarpet"
           }
          ],
          "heatmap": [
           {
            "colorbar": {
             "outlinewidth": 0,
             "ticks": ""
            },
            "colorscale": [
             [
              0,
              "#0d0887"
             ],
             [
              0.1111111111111111,
              "#46039f"
             ],
             [
              0.2222222222222222,
              "#7201a8"
             ],
             [
              0.3333333333333333,
              "#9c179e"
             ],
             [
              0.4444444444444444,
              "#bd3786"
             ],
             [
              0.5555555555555556,
              "#d8576b"
             ],
             [
              0.6666666666666666,
              "#ed7953"
             ],
             [
              0.7777777777777778,
              "#fb9f3a"
             ],
             [
              0.8888888888888888,
              "#fdca26"
             ],
             [
              1,
              "#f0f921"
             ]
            ],
            "type": "heatmap"
           }
          ],
          "histogram": [
           {
            "marker": {
             "pattern": {
              "fillmode": "overlay",
              "size": 10,
              "solidity": 0.2
             }
            },
            "type": "histogram"
           }
          ],
          "histogram2d": [
           {
            "colorbar": {
             "outlinewidth": 0,
             "ticks": ""
            },
            "colorscale": [
             [
              0,
              "#0d0887"
             ],
             [
              0.1111111111111111,
              "#46039f"
             ],
             [
              0.2222222222222222,
              "#7201a8"
             ],
             [
              0.3333333333333333,
              "#9c179e"
             ],
             [
              0.4444444444444444,
              "#bd3786"
             ],
             [
              0.5555555555555556,
              "#d8576b"
             ],
             [
              0.6666666666666666,
              "#ed7953"
             ],
             [
              0.7777777777777778,
              "#fb9f3a"
             ],
             [
              0.8888888888888888,
              "#fdca26"
             ],
             [
              1,
              "#f0f921"
             ]
            ],
            "type": "histogram2d"
           }
          ],
          "histogram2dcontour": [
           {
            "colorbar": {
             "outlinewidth": 0,
             "ticks": ""
            },
            "colorscale": [
             [
              0,
              "#0d0887"
             ],
             [
              0.1111111111111111,
              "#46039f"
             ],
             [
              0.2222222222222222,
              "#7201a8"
             ],
             [
              0.3333333333333333,
              "#9c179e"
             ],
             [
              0.4444444444444444,
              "#bd3786"
             ],
             [
              0.5555555555555556,
              "#d8576b"
             ],
             [
              0.6666666666666666,
              "#ed7953"
             ],
             [
              0.7777777777777778,
              "#fb9f3a"
             ],
             [
              0.8888888888888888,
              "#fdca26"
             ],
             [
              1,
              "#f0f921"
             ]
            ],
            "type": "histogram2dcontour"
           }
          ],
          "mesh3d": [
           {
            "colorbar": {
             "outlinewidth": 0,
             "ticks": ""
            },
            "type": "mesh3d"
           }
          ],
          "parcoords": [
           {
            "line": {
             "colorbar": {
              "outlinewidth": 0,
              "ticks": ""
             }
            },
            "type": "parcoords"
           }
          ],
          "pie": [
           {
            "automargin": true,
            "type": "pie"
           }
          ],
          "scatter": [
           {
            "fillpattern": {
             "fillmode": "overlay",
             "size": 10,
             "solidity": 0.2
            },
            "type": "scatter"
           }
          ],
          "scatter3d": [
           {
            "line": {
             "colorbar": {
              "outlinewidth": 0,
              "ticks": ""
             }
            },
            "marker": {
             "colorbar": {
              "outlinewidth": 0,
              "ticks": ""
             }
            },
            "type": "scatter3d"
           }
          ],
          "scattercarpet": [
           {
            "marker": {
             "colorbar": {
              "outlinewidth": 0,
              "ticks": ""
             }
            },
            "type": "scattercarpet"
           }
          ],
          "scattergeo": [
           {
            "marker": {
             "colorbar": {
              "outlinewidth": 0,
              "ticks": ""
             }
            },
            "type": "scattergeo"
           }
          ],
          "scattergl": [
           {
            "marker": {
             "colorbar": {
              "outlinewidth": 0,
              "ticks": ""
             }
            },
            "type": "scattergl"
           }
          ],
          "scattermap": [
           {
            "marker": {
             "colorbar": {
              "outlinewidth": 0,
              "ticks": ""
             }
            },
            "type": "scattermap"
           }
          ],
          "scattermapbox": [
           {
            "marker": {
             "colorbar": {
              "outlinewidth": 0,
              "ticks": ""
             }
            },
            "type": "scattermapbox"
           }
          ],
          "scatterpolar": [
           {
            "marker": {
             "colorbar": {
              "outlinewidth": 0,
              "ticks": ""
             }
            },
            "type": "scatterpolar"
           }
          ],
          "scatterpolargl": [
           {
            "marker": {
             "colorbar": {
              "outlinewidth": 0,
              "ticks": ""
             }
            },
            "type": "scatterpolargl"
           }
          ],
          "scatterternary": [
           {
            "marker": {
             "colorbar": {
              "outlinewidth": 0,
              "ticks": ""
             }
            },
            "type": "scatterternary"
           }
          ],
          "surface": [
           {
            "colorbar": {
             "outlinewidth": 0,
             "ticks": ""
            },
            "colorscale": [
             [
              0,
              "#0d0887"
             ],
             [
              0.1111111111111111,
              "#46039f"
             ],
             [
              0.2222222222222222,
              "#7201a8"
             ],
             [
              0.3333333333333333,
              "#9c179e"
             ],
             [
              0.4444444444444444,
              "#bd3786"
             ],
             [
              0.5555555555555556,
              "#d8576b"
             ],
             [
              0.6666666666666666,
              "#ed7953"
             ],
             [
              0.7777777777777778,
              "#fb9f3a"
             ],
             [
              0.8888888888888888,
              "#fdca26"
             ],
             [
              1,
              "#f0f921"
             ]
            ],
            "type": "surface"
           }
          ],
          "table": [
           {
            "cells": {
             "fill": {
              "color": "#EBF0F8"
             },
             "line": {
              "color": "white"
             }
            },
            "header": {
             "fill": {
              "color": "#C8D4E3"
             },
             "line": {
              "color": "white"
             }
            },
            "type": "table"
           }
          ]
         },
         "layout": {
          "annotationdefaults": {
           "arrowcolor": "#2a3f5f",
           "arrowhead": 0,
           "arrowwidth": 1
          },
          "autotypenumbers": "strict",
          "coloraxis": {
           "colorbar": {
            "outlinewidth": 0,
            "ticks": ""
           }
          },
          "colorscale": {
           "diverging": [
            [
             0,
             "#8e0152"
            ],
            [
             0.1,
             "#c51b7d"
            ],
            [
             0.2,
             "#de77ae"
            ],
            [
             0.3,
             "#f1b6da"
            ],
            [
             0.4,
             "#fde0ef"
            ],
            [
             0.5,
             "#f7f7f7"
            ],
            [
             0.6,
             "#e6f5d0"
            ],
            [
             0.7,
             "#b8e186"
            ],
            [
             0.8,
             "#7fbc41"
            ],
            [
             0.9,
             "#4d9221"
            ],
            [
             1,
             "#276419"
            ]
           ],
           "sequential": [
            [
             0,
             "#0d0887"
            ],
            [
             0.1111111111111111,
             "#46039f"
            ],
            [
             0.2222222222222222,
             "#7201a8"
            ],
            [
             0.3333333333333333,
             "#9c179e"
            ],
            [
             0.4444444444444444,
             "#bd3786"
            ],
            [
             0.5555555555555556,
             "#d8576b"
            ],
            [
             0.6666666666666666,
             "#ed7953"
            ],
            [
             0.7777777777777778,
             "#fb9f3a"
            ],
            [
             0.8888888888888888,
             "#fdca26"
            ],
            [
             1,
             "#f0f921"
            ]
           ],
           "sequentialminus": [
            [
             0,
             "#0d0887"
            ],
            [
             0.1111111111111111,
             "#46039f"
            ],
            [
             0.2222222222222222,
             "#7201a8"
            ],
            [
             0.3333333333333333,
             "#9c179e"
            ],
            [
             0.4444444444444444,
             "#bd3786"
            ],
            [
             0.5555555555555556,
             "#d8576b"
            ],
            [
             0.6666666666666666,
             "#ed7953"
            ],
            [
             0.7777777777777778,
             "#fb9f3a"
            ],
            [
             0.8888888888888888,
             "#fdca26"
            ],
            [
             1,
             "#f0f921"
            ]
           ]
          },
          "colorway": [
           "#636efa",
           "#EF553B",
           "#00cc96",
           "#ab63fa",
           "#FFA15A",
           "#19d3f3",
           "#FF6692",
           "#B6E880",
           "#FF97FF",
           "#FECB52"
          ],
          "font": {
           "color": "#2a3f5f"
          },
          "geo": {
           "bgcolor": "white",
           "lakecolor": "white",
           "landcolor": "white",
           "showlakes": true,
           "showland": true,
           "subunitcolor": "#C8D4E3"
          },
          "hoverlabel": {
           "align": "left"
          },
          "hovermode": "closest",
          "mapbox": {
           "style": "light"
          },
          "paper_bgcolor": "white",
          "plot_bgcolor": "white",
          "polar": {
           "angularaxis": {
            "gridcolor": "#EBF0F8",
            "linecolor": "#EBF0F8",
            "ticks": ""
           },
           "bgcolor": "white",
           "radialaxis": {
            "gridcolor": "#EBF0F8",
            "linecolor": "#EBF0F8",
            "ticks": ""
           }
          },
          "scene": {
           "xaxis": {
            "backgroundcolor": "white",
            "gridcolor": "#DFE8F3",
            "gridwidth": 2,
            "linecolor": "#EBF0F8",
            "showbackground": true,
            "ticks": "",
            "zerolinecolor": "#EBF0F8"
           },
           "yaxis": {
            "backgroundcolor": "white",
            "gridcolor": "#DFE8F3",
            "gridwidth": 2,
            "linecolor": "#EBF0F8",
            "showbackground": true,
            "ticks": "",
            "zerolinecolor": "#EBF0F8"
           },
           "zaxis": {
            "backgroundcolor": "white",
            "gridcolor": "#DFE8F3",
            "gridwidth": 2,
            "linecolor": "#EBF0F8",
            "showbackground": true,
            "ticks": "",
            "zerolinecolor": "#EBF0F8"
           }
          },
          "shapedefaults": {
           "line": {
            "color": "#2a3f5f"
           }
          },
          "ternary": {
           "aaxis": {
            "gridcolor": "#DFE8F3",
            "linecolor": "#A2B1C6",
            "ticks": ""
           },
           "baxis": {
            "gridcolor": "#DFE8F3",
            "linecolor": "#A2B1C6",
            "ticks": ""
           },
           "bgcolor": "white",
           "caxis": {
            "gridcolor": "#DFE8F3",
            "linecolor": "#A2B1C6",
            "ticks": ""
           }
          },
          "title": {
           "x": 0.05
          },
          "xaxis": {
           "automargin": true,
           "gridcolor": "#EBF0F8",
           "linecolor": "#EBF0F8",
           "ticks": "",
           "title": {
            "standoff": 15
           },
           "zerolinecolor": "#EBF0F8",
           "zerolinewidth": 2
          },
          "yaxis": {
           "automargin": true,
           "gridcolor": "#EBF0F8",
           "linecolor": "#EBF0F8",
           "ticks": "",
           "title": {
            "standoff": 15
           },
           "zerolinecolor": "#EBF0F8",
           "zerolinewidth": 2
          }
         }
        },
        "title": {
         "text": "Taux de pérennité selon l'âge du créateur, le genre et l'ancienneté"
        },
        "width": 1000,
        "xaxis": {
         "tickangle": -45,
         "title": {
          "text": "Tranche d'âge"
         }
        },
        "yaxis": {
         "title": {
          "text": "Taux de pérennité (%)"
         }
        }
       }
      }
     },
     "metadata": {},
     "output_type": "display_data"
    }
   ],
   "source": [
    "fig = go.Figure()\n",
    "\n",
    "# Boucle sur chaque genre\n",
    "for genre in df_plot[\"gender\"].unique():\n",
    "    df_genre = df_plot[df_plot[\"gender\"] == genre]\n",
    "    palette = palettes.get(genre, [\"gray\", \"gray\", \"gray\"])  # fallback sécurité\n",
    "\n",
    "    # Boucle sur chaque année (1, 2, 3 ans)\n",
    "    for i, year in enumerate(sorted(df_genre[\"years\"].unique())):\n",
    "        df_year = df_genre[df_genre[\"years\"] == year]\n",
    "\n",
    "        fig.add_trace(go.Scatter(\n",
    "            x=df_year[\"categories\"],\n",
    "            y=df_year[\"Taux de pérennité (%)\"],\n",
    "            mode=\"lines+markers\",\n",
    "            name=f\"{genre} - {year}\",\n",
    "            line=dict(color=palette[i], width=2),\n",
    "            marker=dict(color=palette[i]),\n",
    "        ))\n",
    "\n",
    "# Mise en forme\n",
    "fig.update_layout(\n",
    "    title=\"Taux de pérennité selon l'âge du créateur, le genre et l'ancienneté\",\n",
    "    xaxis_title=\"Tranche d'âge\",\n",
    "    yaxis_title=\"Taux de pérennité (%)\",\n",
    "    xaxis_tickangle=-45,\n",
    "    width=1000,\n",
    "    height=600,\n",
    "    legend_title=\"Genre - Année\",\n",
    "    template=\"plotly_white\"\n",
    ")\n",
    "\n",
    "fig.show()\n"
   ]
  },
  {
   "cell_type": "markdown",
   "id": "8ae95b01",
   "metadata": {},
   "source": [
    "lecture du graph : on remarque ici que les femmes ont tendance à créer une entreprise qui perdure dans le temps, peu importe l'âge à laquelle elle créé son entreprise. Le plus haut taux de pérénité au bout de 3 ans reste cependant lorsque la tranche d'âge se trouve entre 40 et 49 ans. (hommes (51%) comme femmes (58%))"
   ]
  },
  {
   "cell_type": "code",
   "execution_count": null,
   "id": "40e75868",
   "metadata": {},
   "outputs": [],
   "source": []
  }
 ],
 "metadata": {
  "kernelspec": {
   "display_name": ".venv",
   "language": "python",
   "name": "python3"
  },
  "language_info": {
   "codemirror_mode": {
    "name": "ipython",
    "version": 3
   },
   "file_extension": ".py",
   "mimetype": "text/x-python",
   "name": "python",
   "nbconvert_exporter": "python",
   "pygments_lexer": "ipython3",
   "version": "3.12.10"
  }
 },
 "nbformat": 4,
 "nbformat_minor": 5
}
