{
 "cells": [
  {
   "cell_type": "code",
   "execution_count": 37,
   "id": "1934cfc5",
   "metadata": {},
   "outputs": [],
   "source": [
    "import os\n",
    "import glob\n",
    "import pandas as pd"
   ]
  },
  {
   "cell_type": "markdown",
   "id": "3a8565ad",
   "metadata": {},
   "source": [
    "# Load & Clean Data"
   ]
  },
  {
   "cell_type": "markdown",
   "id": "bc8caf5e",
   "metadata": {},
   "source": [
    "## Import data"
   ]
  },
  {
   "cell_type": "markdown",
   "id": "c02af41a",
   "metadata": {},
   "source": [
    "L'idée est de faire un script global permettant de lire, concatener et créer un seul DataFrame pour chaque jeu de données récoltées."
   ]
  },
  {
   "cell_type": "markdown",
   "id": "d17ee424",
   "metadata": {},
   "source": [
    "Chaque fichier XLSX contient plusieurs lignes explicatives au début, alors nous les retirons lors de la lecture des fichier. Les fichier excel ont aussi une feuille par région\n",
    "\n",
    "Nous analysons d'abord la srtucture des fichiers xlsl pour pouvoir ensuite les organiser en dataframe"
   ]
  },
  {
   "cell_type": "code",
   "execution_count": 60,
   "id": "ceb98e75",
   "metadata": {},
   "outputs": [],
   "source": [
    "path = os.path.join(\"..\", \"..\", \"data\", \"all\", \"2018-3-5\", \"irecomicroent2018_1_perennite_xlsx\")\n",
    "\n",
    "files = files = [f for f in os.listdir(path) if f.endswith((\".xls\", \".xlsx\"))]\n",
    "\n",
    "\n",
    "df_list = []\n",
    "\n",
    "for f in files:\n",
    "    file_path = os.path.join(path, f)\n",
    "    xls = pd.ExcelFile(file_path)\n",
    "    \n",
    "    #define the shape of the DF\n",
    "    for sheet in xls.sheet_names:\n",
    "\n",
    "        #remove useless lignes\n",
    "        data = pd.read_excel(xls, sheet_name=sheet, skiprows=5)\n",
    "        data = data.iloc[:-4]\n",
    "\n",
    "        #renames columns\n",
    "        data = data.rename(columns={\n",
    "            data.columns[0]: \"gender\",\n",
    "            data.columns[1]: \"categories\",\n",
    "            data.columns[2]: \"years\"\n",
    "        })\n",
    "\n",
    "        data[[\"gender\", \"categories\", \"years\"]] = data[[\"gender\", \"categories\", \"years\"]].ffill()\n",
    "\n",
    "        data[\"file_name\"] = f\n",
    "        data[\"area\"] = sheet\n",
    "        df_list.append(data)\n",
    "\n",
    "df = pd.concat(df_list, ignore_index=True)"
   ]
  },
  {
   "cell_type": "code",
   "execution_count": 61,
   "id": "cec00ad4",
   "metadata": {},
   "outputs": [
    {
     "data": {
      "text/html": [
       "<div>\n",
       "<style scoped>\n",
       "    .dataframe tbody tr th:only-of-type {\n",
       "        vertical-align: middle;\n",
       "    }\n",
       "\n",
       "    .dataframe tbody tr th {\n",
       "        vertical-align: top;\n",
       "    }\n",
       "\n",
       "    .dataframe thead th {\n",
       "        text-align: right;\n",
       "    }\n",
       "</style>\n",
       "<table border=\"1\" class=\"dataframe\">\n",
       "  <thead>\n",
       "    <tr style=\"text-align: right;\">\n",
       "      <th></th>\n",
       "      <th>gender</th>\n",
       "      <th>categories</th>\n",
       "      <th>years</th>\n",
       "      <th>Taux de pérennité (%)</th>\n",
       "      <th>Borne inférieure du taux de\\npérennité</th>\n",
       "      <th>Borne supérieure du taux de\\npérennité</th>\n",
       "      <th>Nature des bornes</th>\n",
       "      <th>file_name</th>\n",
       "      <th>area</th>\n",
       "    </tr>\n",
       "  </thead>\n",
       "  <tbody>\n",
       "    <tr>\n",
       "      <th>0</th>\n",
       "      <td>Sexe</td>\n",
       "      <td>Tranche d’âge du créateur en 2018</td>\n",
       "      <td>Nombre d’années depuis la création</td>\n",
       "      <td>NaN</td>\n",
       "      <td>NaN</td>\n",
       "      <td>NaN</td>\n",
       "      <td>NaN</td>\n",
       "      <td>r_peren_01.xlsx</td>\n",
       "      <td>FR</td>\n",
       "    </tr>\n",
       "    <tr>\n",
       "      <th>1</th>\n",
       "      <td>Ensemble</td>\n",
       "      <td>Ensemble</td>\n",
       "      <td>1 an</td>\n",
       "      <td>77.3</td>\n",
       "      <td>76.6</td>\n",
       "      <td>78.0</td>\n",
       "      <td>1.0</td>\n",
       "      <td>r_peren_01.xlsx</td>\n",
       "      <td>FR</td>\n",
       "    </tr>\n",
       "    <tr>\n",
       "      <th>2</th>\n",
       "      <td>Ensemble</td>\n",
       "      <td>Ensemble</td>\n",
       "      <td>2 ans</td>\n",
       "      <td>59.6</td>\n",
       "      <td>58.8</td>\n",
       "      <td>60.4</td>\n",
       "      <td>1.0</td>\n",
       "      <td>r_peren_01.xlsx</td>\n",
       "      <td>FR</td>\n",
       "    </tr>\n",
       "    <tr>\n",
       "      <th>3</th>\n",
       "      <td>Ensemble</td>\n",
       "      <td>Ensemble</td>\n",
       "      <td>3 ans</td>\n",
       "      <td>46.5</td>\n",
       "      <td>45.8</td>\n",
       "      <td>47.2</td>\n",
       "      <td>1.0</td>\n",
       "      <td>r_peren_01.xlsx</td>\n",
       "      <td>FR</td>\n",
       "    </tr>\n",
       "    <tr>\n",
       "      <th>4</th>\n",
       "      <td>Ensemble</td>\n",
       "      <td>Moins de 30 ans</td>\n",
       "      <td>1 an</td>\n",
       "      <td>67.1</td>\n",
       "      <td>65.5</td>\n",
       "      <td>68.7</td>\n",
       "      <td>1.0</td>\n",
       "      <td>r_peren_01.xlsx</td>\n",
       "      <td>FR</td>\n",
       "    </tr>\n",
       "    <tr>\n",
       "      <th>...</th>\n",
       "      <td>...</td>\n",
       "      <td>...</td>\n",
       "      <td>...</td>\n",
       "      <td>...</td>\n",
       "      <td>...</td>\n",
       "      <td>...</td>\n",
       "      <td>...</td>\n",
       "      <td>...</td>\n",
       "      <td>...</td>\n",
       "    </tr>\n",
       "    <tr>\n",
       "      <th>19093</th>\n",
       "      <td>Femme</td>\n",
       "      <td>Indemnités de chômage</td>\n",
       "      <td>3 ans</td>\n",
       "      <td>55.6</td>\n",
       "      <td>49.0</td>\n",
       "      <td>62.2</td>\n",
       "      <td>1.0</td>\n",
       "      <td>r_peren_23.xlsx</td>\n",
       "      <td>94</td>\n",
       "    </tr>\n",
       "    <tr>\n",
       "      <th>19094</th>\n",
       "      <td>Femme</td>\n",
       "      <td>Prestations autres que les\\nprestations chômage</td>\n",
       "      <td>1 an</td>\n",
       "      <td>84.1</td>\n",
       "      <td>76.7</td>\n",
       "      <td>91.5</td>\n",
       "      <td>1.0</td>\n",
       "      <td>r_peren_23.xlsx</td>\n",
       "      <td>94</td>\n",
       "    </tr>\n",
       "    <tr>\n",
       "      <th>19095</th>\n",
       "      <td>Femme</td>\n",
       "      <td>Prestations autres que les\\nprestations chômage</td>\n",
       "      <td>2 ans</td>\n",
       "      <td>67.0</td>\n",
       "      <td>58.5</td>\n",
       "      <td>75.5</td>\n",
       "      <td>1.0</td>\n",
       "      <td>r_peren_23.xlsx</td>\n",
       "      <td>94</td>\n",
       "    </tr>\n",
       "    <tr>\n",
       "      <th>19096</th>\n",
       "      <td>Femme</td>\n",
       "      <td>Prestations autres que les\\nprestations chômage</td>\n",
       "      <td>3 ans</td>\n",
       "      <td>67.0</td>\n",
       "      <td>58.5</td>\n",
       "      <td>75.5</td>\n",
       "      <td>1.0</td>\n",
       "      <td>r_peren_23.xlsx</td>\n",
       "      <td>94</td>\n",
       "    </tr>\n",
       "    <tr>\n",
       "      <th>19097</th>\n",
       "      <td>Femme</td>\n",
       "      <td>Prestations autres que les\\nprestations chômage</td>\n",
       "      <td>3 ans</td>\n",
       "      <td>NaN</td>\n",
       "      <td>NaN</td>\n",
       "      <td>NaN</td>\n",
       "      <td>NaN</td>\n",
       "      <td>r_peren_23.xlsx</td>\n",
       "      <td>94</td>\n",
       "    </tr>\n",
       "  </tbody>\n",
       "</table>\n",
       "<p>19098 rows × 9 columns</p>\n",
       "</div>"
      ],
      "text/plain": [
       "         gender                                       categories  \\\n",
       "0          Sexe                Tranche d’âge du créateur en 2018   \n",
       "1      Ensemble                                         Ensemble   \n",
       "2      Ensemble                                         Ensemble   \n",
       "3      Ensemble                                         Ensemble   \n",
       "4      Ensemble                                  Moins de 30 ans   \n",
       "...         ...                                              ...   \n",
       "19093     Femme                            Indemnités de chômage   \n",
       "19094     Femme  Prestations autres que les\\nprestations chômage   \n",
       "19095     Femme  Prestations autres que les\\nprestations chômage   \n",
       "19096     Femme  Prestations autres que les\\nprestations chômage   \n",
       "19097     Femme  Prestations autres que les\\nprestations chômage   \n",
       "\n",
       "                                    years Taux de pérennité (%)  \\\n",
       "0      Nombre d’années depuis la création                   NaN   \n",
       "1                                    1 an                  77.3   \n",
       "2                                   2 ans                  59.6   \n",
       "3                                   3 ans                  46.5   \n",
       "4                                    1 an                  67.1   \n",
       "...                                   ...                   ...   \n",
       "19093                               3 ans                  55.6   \n",
       "19094                                1 an                  84.1   \n",
       "19095                               2 ans                  67.0   \n",
       "19096                               3 ans                  67.0   \n",
       "19097                               3 ans                   NaN   \n",
       "\n",
       "      Borne inférieure du taux de\\npérennité  \\\n",
       "0                                        NaN   \n",
       "1                                       76.6   \n",
       "2                                       58.8   \n",
       "3                                       45.8   \n",
       "4                                       65.5   \n",
       "...                                      ...   \n",
       "19093                                   49.0   \n",
       "19094                                   76.7   \n",
       "19095                                   58.5   \n",
       "19096                                   58.5   \n",
       "19097                                    NaN   \n",
       "\n",
       "      Borne supérieure du taux de\\npérennité Nature des bornes  \\\n",
       "0                                        NaN               NaN   \n",
       "1                                       78.0               1.0   \n",
       "2                                       60.4               1.0   \n",
       "3                                       47.2               1.0   \n",
       "4                                       68.7               1.0   \n",
       "...                                      ...               ...   \n",
       "19093                                   62.2               1.0   \n",
       "19094                                   91.5               1.0   \n",
       "19095                                   75.5               1.0   \n",
       "19096                                   75.5               1.0   \n",
       "19097                                    NaN               NaN   \n",
       "\n",
       "             file_name area  \n",
       "0      r_peren_01.xlsx   FR  \n",
       "1      r_peren_01.xlsx   FR  \n",
       "2      r_peren_01.xlsx   FR  \n",
       "3      r_peren_01.xlsx   FR  \n",
       "4      r_peren_01.xlsx   FR  \n",
       "...                ...  ...  \n",
       "19093  r_peren_23.xlsx   94  \n",
       "19094  r_peren_23.xlsx   94  \n",
       "19095  r_peren_23.xlsx   94  \n",
       "19096  r_peren_23.xlsx   94  \n",
       "19097  r_peren_23.xlsx   94  \n",
       "\n",
       "[19098 rows x 9 columns]"
      ]
     },
     "execution_count": 61,
     "metadata": {},
     "output_type": "execute_result"
    }
   ],
   "source": [
    "df"
   ]
  },
  {
   "cell_type": "code",
   "execution_count": 80,
   "id": "b1aa9eb0",
   "metadata": {},
   "outputs": [
    {
     "name": "stderr",
     "output_type": "stream",
     "text": [
      "C:\\Users\\angel\\AppData\\Local\\Temp\\ipykernel_8616\\178104140.py:1: FutureWarning: Downcasting behavior in `replace` is deprecated and will be removed in a future version. To retain the old behavior, explicitly call `result.infer_objects(copy=False)`. To opt-in to the future behavior, set `pd.set_option('future.no_silent_downcasting', True)`\n",
      "  df.replace({'so': 0, 'NaN': 0, 'ns': 0, 's': 0}, inplace=True)\n"
     ]
    }
   ],
   "source": [
    "df.replace({'so': 0, 'NaN': 0, 'ns': 0, 's': 0}, inplace=True)"
   ]
  },
  {
   "cell_type": "code",
   "execution_count": 78,
   "id": "6a545477",
   "metadata": {},
   "outputs": [
    {
     "name": "stdout",
     "output_type": "stream",
     "text": [
      "<class 'pandas.core.frame.DataFrame'>\n",
      "RangeIndex: 19098 entries, 0 to 19097\n",
      "Data columns (total 9 columns):\n",
      " #   Column                                 Non-Null Count  Dtype \n",
      "---  ------                                 --------------  ----- \n",
      " 0   gender                                 19098 non-null  object\n",
      " 1   categories                             19098 non-null  object\n",
      " 2   years                                  19098 non-null  object\n",
      " 3   Taux de pérennité (%)                  18306 non-null  object\n",
      " 4   Borne inférieure du taux de\n",
      "pérennité  18306 non-null  object\n",
      " 5   Borne supérieure du taux de\n",
      "pérennité  18306 non-null  object\n",
      " 6   Nature des bornes                      18306 non-null  object\n",
      " 7   file_name                              19098 non-null  object\n",
      " 8   area                                   19098 non-null  object\n",
      "dtypes: object(9)\n",
      "memory usage: 1.3+ MB\n"
     ]
    }
   ],
   "source": [
    "df.info()"
   ]
  },
  {
   "cell_type": "markdown",
   "id": "3bbbb356",
   "metadata": {},
   "source": [
    "## Visualisation rapide"
   ]
  },
  {
   "cell_type": "markdown",
   "id": "5751dd4f",
   "metadata": {},
   "source": [
    "réaliser une premère visualisation pour voir l'état des données et voir s'il y a des modifications à apporter dans le DF"
   ]
  },
  {
   "cell_type": "code",
   "execution_count": 66,
   "id": "a5e007ef",
   "metadata": {},
   "outputs": [],
   "source": [
    "import seaborn as sns\n",
    "import matplotlib.pyplot as plt"
   ]
  },
  {
   "cell_type": "code",
   "execution_count": 81,
   "id": "dc4562a4",
   "metadata": {},
   "outputs": [
    {
     "data": {
      "image/png": "[encoded data removed]",
      "text/plain": [
       "<Figure size 1200x600 with 1 Axes>"
      ]
     },
     "metadata": {},
     "output_type": "display_data"
    }
   ],
   "source": [
    "plt.figure(figsize=(12, 6))\n",
    "sns.barplot(\n",
    "    data=df,\n",
    "    x=\"years\", y=\"Taux de pérennité (%)\", hue=\"gender\"\n",
    ")\n",
    "plt.title(\"Pérennité par sexe et année\")\n",
    "plt.show()"
   ]
  }
 ],
 "metadata": {
  "kernelspec": {
   "display_name": "Python (.venv)",
   "language": "python",
   "name": ".venv"
  },
  "language_info": {
   "codemirror_mode": {
    "name": "ipython",
    "version": 3
   },
   "file_extension": ".py",
   "mimetype": "text/x-python",
   "name": "python",
   "nbconvert_exporter": "python",
   "pygments_lexer": "ipython3",
   "version": "3.12.10"
  }
 },
 "nbformat": 4,
 "nbformat_minor": 5
}
