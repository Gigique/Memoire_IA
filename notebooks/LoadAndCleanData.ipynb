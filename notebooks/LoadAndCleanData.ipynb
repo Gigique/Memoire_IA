{
 "cells": [
  {
   "cell_type": "code",
   "execution_count": 3,
   "id": "1934cfc5",
   "metadata": {},
   "outputs": [],
   "source": [
    "import os\n",
    "import pandas as pd\n",
    "import plotly.express as px"
   ]
  },
  {
   "cell_type": "markdown",
   "id": "3a8565ad",
   "metadata": {},
   "source": [
    "# Load Data"
   ]
  },
  {
   "cell_type": "markdown",
   "id": "bc8caf5e",
   "metadata": {},
   "source": [
    "## Import data"
   ]
  },
  {
   "cell_type": "markdown",
   "id": "c02af41a",
   "metadata": {},
   "source": [
    "L'idée est de faire un script global permettant de lire, concatener et créer un seul DataFrame pour chaque jeu de données récoltées."
   ]
  },
  {
   "cell_type": "markdown",
   "id": "d17ee424",
   "metadata": {},
   "source": [
    "Chaque fichier XLSX contient plusieurs lignes explicatives au début, alors nous les retirons lors de la lecture des fichier. Les fichiers excels ont aussi une feuille par région\n",
    "\n",
    "Nous analysons d'abord la srtucture des fichiers xlsl pour pouvoir ensuite les organiser en dataframe"
   ]
  },
  {
   "cell_type": "code",
   "execution_count": 186,
   "id": "ceb98e75",
   "metadata": {},
   "outputs": [],
   "source": [
    "def load_perennite_data(path, skiprows, year):\n",
    "    files = [f for f in os.listdir(path) if f.endswith((\".xls\", \".xlsx\"))]\n",
    "    df_list = []\n",
    "\n",
    "    for f in files:\n",
    "        file_path = os.path.join(path, f)\n",
    "        xls = pd.ExcelFile(file_path)\n",
    "\n",
    "        for sheet in xls.sheet_names:\n",
    "            data = pd.read_excel(xls, sheet_name=sheet, skiprows=skiprows)\n",
    "            data = data.iloc[:-4]  # remove footer\n",
    "\n",
    "            categorie_type = data.iloc[0, 1]\n",
    "            data = data.iloc[1:, :]\n",
    "\n",
    "            # Rename columns\n",
    "            data = data.rename(columns={\n",
    "                data.columns[0]: \"gender\",\n",
    "                data.columns[1]: \"categories\",\n",
    "                data.columns[2]: \"years\"\n",
    "            })\n",
    "\n",
    "            # Forward-fill categorical columns\n",
    "            data[[\"gender\", \"categories\", \"years\"]] = data[[\"gender\", \"categories\", \"years\"]].ffill()\n",
    "\n",
    "            # Add metadata\n",
    "            data[\"file_name\"] = f\n",
    "            data[\"area\"] = sheet\n",
    "            data[\"categorie_type\"] = categorie_type\n",
    "            data[\"year_source\"] = year\n",
    "\n",
    "            df_list.append(data)\n",
    "\n",
    "    df_all = pd.concat(df_list, ignore_index=True)\n",
    "    df_all = df_all[['gender', 'categorie_type'] + [col for col in df_all.columns if col not in ['gender', 'categorie_type']]]\n",
    "\n",
    "    df_all.replace({'so': 0, 'NaN': 0, 'ns': 0, 's': 0}, inplace=True)\n",
    "\n",
    "    return df_all\n"
   ]
  },
  {
   "cell_type": "code",
   "execution_count": 185,
   "id": "cec00ad4",
   "metadata": {},
   "outputs": [
    {
     "name": "stderr",
     "output_type": "stream",
     "text": [
      "C:\\Users\\angel\\AppData\\Local\\Temp\\ipykernel_45784\\120333104.py:37: FutureWarning: Downcasting behavior in `replace` is deprecated and will be removed in a future version. To retain the old behavior, explicitly call `result.infer_objects(copy=False)`. To opt-in to the future behavior, set `pd.set_option('future.no_silent_downcasting', True)`\n",
      "  df_all.replace({'so': 0, 'NaN': 0, 'ns': 0, 's': 0}, inplace=True)\n",
      "C:\\Users\\angel\\AppData\\Local\\Temp\\ipykernel_45784\\120333104.py:37: FutureWarning: Downcasting behavior in `replace` is deprecated and will be removed in a future version. To retain the old behavior, explicitly call `result.infer_objects(copy=False)`. To opt-in to the future behavior, set `pd.set_option('future.no_silent_downcasting', True)`\n",
      "  df_all.replace({'so': 0, 'NaN': 0, 'ns': 0, 's': 0}, inplace=True)\n"
     ]
    }
   ],
   "source": [
    "df_2014 = load_perennite_data(\"../../data/all/2014-3-5/sine20143-perennite_xlsx\", skiprows=3, year=2014)\n",
    "df_2018 = load_perennite_data(\"../../data/all/2018-3-5/irecomicroent2018_1_perennite_xlsx\", skiprows=5, year=2018)"
   ]
  },
  {
   "cell_type": "code",
   "execution_count": 76,
   "id": "e0aabdff",
   "metadata": {},
   "outputs": [
    {
     "data": {
      "text/plain": [
       "array(['Catégorie juridique', \"Secteur d'activité\",\n",
       "       \"Nature de l'entreprise, filiale ou non\",\n",
       "       'Âge du créateur en 2014',\n",
       "       \"Qualification de l'emploi antérieur du créateur\",\n",
       "       'Situation antérieure à la création',\n",
       "       'Diplôme le plus élevé en 2014', 'Motivations à la création',\n",
       "       'Nombre de créations ou reprises avant 2014',\n",
       "       'Participation à une formation particulière pour la\\nréalisation du projet',\n",
       "       \"Bénéfice d'aides ou d'exonérations publiques\",\n",
       "       'Moyens financiers nécessaires pour démarrer',\n",
       "       'Emploi de salariés au démarrage',\n",
       "       \"Effectif salarié de l'entreprise au démarrage\",\n",
       "       \"Avis du créateur sur l'avenir de l'entreprise\",\n",
       "       'Situation familiale du créateur en 2014',\n",
       "       \"Introduction d'innovation en marketing\",\n",
       "       'Introduction de procédés de fabrication nouveaux',\n",
       "       \"Introduction de modes d'organisation nouveaux\",\n",
       "       'Introduction de produits ou services nouveaux',\n",
       "       'Principales difficultés rencontrées lors de la\\ncréation',\n",
       "       'Expérience du créateur dans le métier principal'], dtype=object)"
      ]
     },
     "execution_count": 76,
     "metadata": {},
     "output_type": "execute_result"
    }
   ],
   "source": [
    "df_2014[\"categorie_type\"].unique()"
   ]
  },
  {
   "cell_type": "code",
   "execution_count": 77,
   "id": "6a545477",
   "metadata": {},
   "outputs": [
    {
     "data": {
      "text/plain": [
       "array(['Tranche d’âge du créateur en 2018', 'Nationalité du créateur',\n",
       "       'Qualification préalable du créateur (PCS avant la\\ncréation)',\n",
       "       'Situation personnelle du créateur',\n",
       "       'Diplôme le plus élevé du créateur',\n",
       "       'Situation immédiate avant la création',\n",
       "       'Durée de l’expérience dans le métier Principal',\n",
       "       'Taille de l’entreprise où a été acquise\\nl’expérience professionnelle',\n",
       "       'Exercice d’une autre activité rémunérée',\n",
       "       \"création ou reprise d'une entreprise avant 2018\\n(autre que entreprise actuelle)\",\n",
       "       \"Suivi d'une formation particulière pour la\\nréalisation du projet\",\n",
       "       'Secteur d’activité en 7 postes',\n",
       "       'Principales raisons de choisir le régime de\\nmicro-entrepreneur',\n",
       "       'Choix d’un autre régime si le régime de\\nmicro-entrepreneur n’existait pas',\n",
       "       'Principaux avantages du régime de\\nmicro-entrepreneur',\n",
       "       'Principaux inconvénients du régime de\\nmicro-entrepreneur',\n",
       "       'Appuis reçus pour mettre en place le projet',\n",
       "       'Principales difficultés rencontrées pour mettre en\\nplace le projet',\n",
       "       'Moyens financiers nécessaires pour démarrer',\n",
       "       'Sources de financement du projet en dehors des\\nressources personnelles',\n",
       "       'Dispositifs d’aides dont a bénéficié le créateur',\n",
       "       \"Prestations perçues au moment de l'enquête\"], dtype=object)"
      ]
     },
     "execution_count": 77,
     "metadata": {},
     "output_type": "execute_result"
    }
   ],
   "source": [
    "df_2018[\"categorie_type\"].unique()"
   ]
  },
  {
   "cell_type": "code",
   "execution_count": 135,
   "id": "3b15e8fa",
   "metadata": {},
   "outputs": [
    {
     "data": {
      "text/plain": [
       "Index(['gender', 'categorie_type', 'categories', 'years',\n",
       "       'Taux de pérennité (%)', 'Borne inférieure du taux de\\npérennité',\n",
       "       'Borne supérieure du taux de\\npérennité', 'Nature des bornes',\n",
       "       'file_name', 'area', 'year_source'],\n",
       "      dtype='object')"
      ]
     },
     "execution_count": 135,
     "metadata": {},
     "output_type": "execute_result"
    }
   ],
   "source": [
    "df_2018.columns"
   ]
  },
  {
   "cell_type": "code",
   "execution_count": 136,
   "id": "5ed878c1",
   "metadata": {},
   "outputs": [
    {
     "data": {
      "text/plain": [
       "Index(['gender', 'categorie_type', 'categories', 'years', 'Taux de pérennité',\n",
       "       'Borne inférieure à 95 % du\\ntaux de pérennité',\n",
       "       'Borne supérieure à 95 % du\\ntaux de pérennité', 'file_name', 'area',\n",
       "       'year_source'],\n",
       "      dtype='object')"
      ]
     },
     "execution_count": 136,
     "metadata": {},
     "output_type": "execute_result"
    }
   ],
   "source": [
    "df_2014.columns"
   ]
  },
  {
   "cell_type": "code",
   "execution_count": 137,
   "id": "4880261c",
   "metadata": {},
   "outputs": [
    {
     "data": {
      "text/html": [
       "<div>\n",
       "<style scoped>\n",
       "    .dataframe tbody tr th:only-of-type {\n",
       "        vertical-align: middle;\n",
       "    }\n",
       "\n",
       "    .dataframe tbody tr th {\n",
       "        vertical-align: top;\n",
       "    }\n",
       "\n",
       "    .dataframe thead th {\n",
       "        text-align: right;\n",
       "    }\n",
       "</style>\n",
       "<table border=\"1\" class=\"dataframe\">\n",
       "  <thead>\n",
       "    <tr style=\"text-align: right;\">\n",
       "      <th></th>\n",
       "      <th>gender</th>\n",
       "      <th>categorie_type</th>\n",
       "      <th>categories</th>\n",
       "      <th>years</th>\n",
       "      <th>Taux de pérennité</th>\n",
       "      <th>Borne inférieure à 95 % du\\ntaux de pérennité</th>\n",
       "      <th>Borne supérieure à 95 % du\\ntaux de pérennité</th>\n",
       "      <th>file_name</th>\n",
       "      <th>area</th>\n",
       "      <th>year_source</th>\n",
       "    </tr>\n",
       "  </thead>\n",
       "  <tbody>\n",
       "    <tr>\n",
       "      <th>0</th>\n",
       "      <td>Ensemble</td>\n",
       "      <td>Catégorie juridique</td>\n",
       "      <td>Ensemble</td>\n",
       "      <td>1 an</td>\n",
       "      <td>91.3</td>\n",
       "      <td>90.9</td>\n",
       "      <td>91.7</td>\n",
       "      <td>r_pe01.xlsx</td>\n",
       "      <td>FR</td>\n",
       "      <td>2014</td>\n",
       "    </tr>\n",
       "    <tr>\n",
       "      <th>1</th>\n",
       "      <td>Ensemble</td>\n",
       "      <td>Catégorie juridique</td>\n",
       "      <td>Ensemble</td>\n",
       "      <td>2 ans</td>\n",
       "      <td>82.4</td>\n",
       "      <td>81.9</td>\n",
       "      <td>83.0</td>\n",
       "      <td>r_pe01.xlsx</td>\n",
       "      <td>FR</td>\n",
       "      <td>2014</td>\n",
       "    </tr>\n",
       "    <tr>\n",
       "      <th>2</th>\n",
       "      <td>Ensemble</td>\n",
       "      <td>Catégorie juridique</td>\n",
       "      <td>Ensemble</td>\n",
       "      <td>3 ans</td>\n",
       "      <td>73.6</td>\n",
       "      <td>72.9</td>\n",
       "      <td>74.3</td>\n",
       "      <td>r_pe01.xlsx</td>\n",
       "      <td>FR</td>\n",
       "      <td>2014</td>\n",
       "    </tr>\n",
       "    <tr>\n",
       "      <th>3</th>\n",
       "      <td>Ensemble</td>\n",
       "      <td>Catégorie juridique</td>\n",
       "      <td>Ensemble</td>\n",
       "      <td>4 ans</td>\n",
       "      <td>66.6</td>\n",
       "      <td>65.9</td>\n",
       "      <td>67.3</td>\n",
       "      <td>r_pe01.xlsx</td>\n",
       "      <td>FR</td>\n",
       "      <td>2014</td>\n",
       "    </tr>\n",
       "    <tr>\n",
       "      <th>4</th>\n",
       "      <td>Ensemble</td>\n",
       "      <td>Catégorie juridique</td>\n",
       "      <td>Ensemble</td>\n",
       "      <td>5 ans</td>\n",
       "      <td>61.3</td>\n",
       "      <td>60.6</td>\n",
       "      <td>62.1</td>\n",
       "      <td>r_pe01.xlsx</td>\n",
       "      <td>FR</td>\n",
       "      <td>2014</td>\n",
       "    </tr>\n",
       "    <tr>\n",
       "      <th>...</th>\n",
       "      <td>...</td>\n",
       "      <td>...</td>\n",
       "      <td>...</td>\n",
       "      <td>...</td>\n",
       "      <td>...</td>\n",
       "      <td>...</td>\n",
       "      <td>...</td>\n",
       "      <td>...</td>\n",
       "      <td>...</td>\n",
       "      <td>...</td>\n",
       "    </tr>\n",
       "    <tr>\n",
       "      <th>28345</th>\n",
       "      <td>Femme</td>\n",
       "      <td>Expérience du créateur dans le métier principal</td>\n",
       "      <td>Plus de 10 ans</td>\n",
       "      <td>1 an</td>\n",
       "      <td>83.0</td>\n",
       "      <td>76.8</td>\n",
       "      <td>89.2</td>\n",
       "      <td>r_pe22.xlsx</td>\n",
       "      <td>04</td>\n",
       "      <td>2014</td>\n",
       "    </tr>\n",
       "    <tr>\n",
       "      <th>28346</th>\n",
       "      <td>Femme</td>\n",
       "      <td>Expérience du créateur dans le métier principal</td>\n",
       "      <td>Plus de 10 ans</td>\n",
       "      <td>2 ans</td>\n",
       "      <td>73.5</td>\n",
       "      <td>66.1</td>\n",
       "      <td>81.0</td>\n",
       "      <td>r_pe22.xlsx</td>\n",
       "      <td>04</td>\n",
       "      <td>2014</td>\n",
       "    </tr>\n",
       "    <tr>\n",
       "      <th>28347</th>\n",
       "      <td>Femme</td>\n",
       "      <td>Expérience du créateur dans le métier principal</td>\n",
       "      <td>Plus de 10 ans</td>\n",
       "      <td>3 ans</td>\n",
       "      <td>65.4</td>\n",
       "      <td>57.0</td>\n",
       "      <td>73.7</td>\n",
       "      <td>r_pe22.xlsx</td>\n",
       "      <td>04</td>\n",
       "      <td>2014</td>\n",
       "    </tr>\n",
       "    <tr>\n",
       "      <th>28348</th>\n",
       "      <td>Femme</td>\n",
       "      <td>Expérience du créateur dans le métier principal</td>\n",
       "      <td>Plus de 10 ans</td>\n",
       "      <td>4 ans</td>\n",
       "      <td>58.7</td>\n",
       "      <td>49.8</td>\n",
       "      <td>67.6</td>\n",
       "      <td>r_pe22.xlsx</td>\n",
       "      <td>04</td>\n",
       "      <td>2014</td>\n",
       "    </tr>\n",
       "    <tr>\n",
       "      <th>28349</th>\n",
       "      <td>Femme</td>\n",
       "      <td>Expérience du créateur dans le métier principal</td>\n",
       "      <td>Plus de 10 ans</td>\n",
       "      <td>5 ans</td>\n",
       "      <td>50.4</td>\n",
       "      <td>41.3</td>\n",
       "      <td>59.6</td>\n",
       "      <td>r_pe22.xlsx</td>\n",
       "      <td>04</td>\n",
       "      <td>2014</td>\n",
       "    </tr>\n",
       "  </tbody>\n",
       "</table>\n",
       "<p>28350 rows × 10 columns</p>\n",
       "</div>"
      ],
      "text/plain": [
       "         gender                                   categorie_type  \\\n",
       "0      Ensemble                              Catégorie juridique   \n",
       "1      Ensemble                              Catégorie juridique   \n",
       "2      Ensemble                              Catégorie juridique   \n",
       "3      Ensemble                              Catégorie juridique   \n",
       "4      Ensemble                              Catégorie juridique   \n",
       "...         ...                                              ...   \n",
       "28345     Femme  Expérience du créateur dans le métier principal   \n",
       "28346     Femme  Expérience du créateur dans le métier principal   \n",
       "28347     Femme  Expérience du créateur dans le métier principal   \n",
       "28348     Femme  Expérience du créateur dans le métier principal   \n",
       "28349     Femme  Expérience du créateur dans le métier principal   \n",
       "\n",
       "           categories  years  Taux de pérennité  \\\n",
       "0            Ensemble   1 an               91.3   \n",
       "1            Ensemble  2 ans               82.4   \n",
       "2            Ensemble  3 ans               73.6   \n",
       "3            Ensemble  4 ans               66.6   \n",
       "4            Ensemble  5 ans               61.3   \n",
       "...               ...    ...                ...   \n",
       "28345  Plus de 10 ans   1 an               83.0   \n",
       "28346  Plus de 10 ans  2 ans               73.5   \n",
       "28347  Plus de 10 ans  3 ans               65.4   \n",
       "28348  Plus de 10 ans  4 ans               58.7   \n",
       "28349  Plus de 10 ans  5 ans               50.4   \n",
       "\n",
       "       Borne inférieure à 95 % du\\ntaux de pérennité  \\\n",
       "0                                               90.9   \n",
       "1                                               81.9   \n",
       "2                                               72.9   \n",
       "3                                               65.9   \n",
       "4                                               60.6   \n",
       "...                                              ...   \n",
       "28345                                           76.8   \n",
       "28346                                           66.1   \n",
       "28347                                           57.0   \n",
       "28348                                           49.8   \n",
       "28349                                           41.3   \n",
       "\n",
       "       Borne supérieure à 95 % du\\ntaux de pérennité    file_name area  \\\n",
       "0                                               91.7  r_pe01.xlsx   FR   \n",
       "1                                               83.0  r_pe01.xlsx   FR   \n",
       "2                                               74.3  r_pe01.xlsx   FR   \n",
       "3                                               67.3  r_pe01.xlsx   FR   \n",
       "4                                               62.1  r_pe01.xlsx   FR   \n",
       "...                                              ...          ...  ...   \n",
       "28345                                           89.2  r_pe22.xlsx   04   \n",
       "28346                                           81.0  r_pe22.xlsx   04   \n",
       "28347                                           73.7  r_pe22.xlsx   04   \n",
       "28348                                           67.6  r_pe22.xlsx   04   \n",
       "28349                                           59.6  r_pe22.xlsx   04   \n",
       "\n",
       "       year_source  \n",
       "0             2014  \n",
       "1             2014  \n",
       "2             2014  \n",
       "3             2014  \n",
       "4             2014  \n",
       "...            ...  \n",
       "28345         2014  \n",
       "28346         2014  \n",
       "28347         2014  \n",
       "28348         2014  \n",
       "28349         2014  \n",
       "\n",
       "[28350 rows x 10 columns]"
      ]
     },
     "execution_count": 137,
     "metadata": {},
     "output_type": "execute_result"
    }
   ],
   "source": [
    "df_2014"
   ]
  },
  {
   "cell_type": "code",
   "execution_count": 108,
   "id": "fbaa80a5",
   "metadata": {},
   "outputs": [
    {
     "name": "stdout",
     "output_type": "stream",
     "text": [
      "<class 'pandas.core.frame.DataFrame'>\n",
      "RangeIndex: 18702 entries, 0 to 18701\n",
      "Data columns (total 11 columns):\n",
      " #   Column                                 Non-Null Count  Dtype  \n",
      "---  ------                                 --------------  -----  \n",
      " 0   gender                                 18702 non-null  object \n",
      " 1   categorie_type                         18702 non-null  object \n",
      " 2   categories                             18702 non-null  object \n",
      " 3   years                                  18702 non-null  object \n",
      " 4   Taux de pérennité                      18306 non-null  float64\n",
      " 5   Borne inférieure du taux de\n",
      "pérennité  18306 non-null  float64\n",
      " 6   Borne supérieure du taux de\n",
      "pérennité  18306 non-null  float64\n",
      " 7   Nature des bornes                      18306 non-null  float64\n",
      " 8   file_name                              18702 non-null  object \n",
      " 9   area                                   18702 non-null  object \n",
      " 10  year_source                            18702 non-null  int64  \n",
      "dtypes: float64(4), int64(1), object(6)\n",
      "memory usage: 1.6+ MB\n"
     ]
    }
   ],
   "source": [
    "df_2018.info()"
   ]
  },
  {
   "cell_type": "markdown",
   "id": "3bbbb356",
   "metadata": {},
   "source": [
    "## Visualisation rapide"
   ]
  },
  {
   "cell_type": "markdown",
   "id": "5751dd4f",
   "metadata": {},
   "source": [
    "réaliser une premère visualisation pour voir l'état des données et voir s'il y a des modifications à apporter dans le DF"
   ]
  },
  {
   "cell_type": "code",
   "execution_count": 7,
   "id": "a5e007ef",
   "metadata": {},
   "outputs": [],
   "source": [
    "import seaborn as sns\n",
    "import matplotlib.pyplot as plt\n",
    "import plotly.graph_objects as go\n"
   ]
  },
  {
   "cell_type": "markdown",
   "id": "c1cf9bef",
   "metadata": {},
   "source": [
    "création d'une copie du DF pour filtrer sur une catégorie, ici tranche d'âge à la création de l'entreprise en 2018 et moyenne à la France entière"
   ]
  },
  {
   "cell_type": "code",
   "execution_count": 8,
   "id": "725aa346",
   "metadata": {},
   "outputs": [],
   "source": [
    "df_plot = df_2014[\n",
    "    (df_2014[\"categorie_type\"] == \"Âge du créateur en 2014\") &\n",
    "    (df_2014[\"area\"] == \"FR\") &\n",
    "    (df_2014[\"categories\"] != \"Ensemble\")\n",
    "].copy()"
   ]
  },
  {
   "cell_type": "code",
   "execution_count": 9,
   "id": "c2f8fa37",
   "metadata": {},
   "outputs": [
    {
     "data": {
      "text/html": [
       "<div>\n",
       "<style scoped>\n",
       "    .dataframe tbody tr th:only-of-type {\n",
       "        vertical-align: middle;\n",
       "    }\n",
       "\n",
       "    .dataframe tbody tr th {\n",
       "        vertical-align: top;\n",
       "    }\n",
       "\n",
       "    .dataframe thead th {\n",
       "        text-align: right;\n",
       "    }\n",
       "</style>\n",
       "<table border=\"1\" class=\"dataframe\">\n",
       "  <thead>\n",
       "    <tr style=\"text-align: right;\">\n",
       "      <th></th>\n",
       "      <th>gender</th>\n",
       "      <th>categorie_type</th>\n",
       "      <th>categories</th>\n",
       "      <th>years</th>\n",
       "      <th>Taux de pérennité</th>\n",
       "      <th>Borne inférieure à 95 % du\\ntaux de pérennité</th>\n",
       "      <th>Borne supérieure à 95 % du\\ntaux de pérennité</th>\n",
       "      <th>file_name</th>\n",
       "      <th>area</th>\n",
       "      <th>year_source</th>\n",
       "    </tr>\n",
       "  </thead>\n",
       "  <tbody>\n",
       "    <tr>\n",
       "      <th>2975</th>\n",
       "      <td>Ensemble</td>\n",
       "      <td>Âge du créateur en 2014</td>\n",
       "      <td>Moins de 30 ans</td>\n",
       "      <td>1 an</td>\n",
       "      <td>88.3</td>\n",
       "      <td>87.3</td>\n",
       "      <td>89.3</td>\n",
       "      <td>r_pe04.xlsx</td>\n",
       "      <td>FR</td>\n",
       "      <td>2014</td>\n",
       "    </tr>\n",
       "    <tr>\n",
       "      <th>2976</th>\n",
       "      <td>Ensemble</td>\n",
       "      <td>Âge du créateur en 2014</td>\n",
       "      <td>Moins de 30 ans</td>\n",
       "      <td>2 ans</td>\n",
       "      <td>79.1</td>\n",
       "      <td>77.7</td>\n",
       "      <td>80.4</td>\n",
       "      <td>r_pe04.xlsx</td>\n",
       "      <td>FR</td>\n",
       "      <td>2014</td>\n",
       "    </tr>\n",
       "    <tr>\n",
       "      <th>2977</th>\n",
       "      <td>Ensemble</td>\n",
       "      <td>Âge du créateur en 2014</td>\n",
       "      <td>Moins de 30 ans</td>\n",
       "      <td>3 ans</td>\n",
       "      <td>70.2</td>\n",
       "      <td>68.6</td>\n",
       "      <td>71.7</td>\n",
       "      <td>r_pe04.xlsx</td>\n",
       "      <td>FR</td>\n",
       "      <td>2014</td>\n",
       "    </tr>\n",
       "    <tr>\n",
       "      <th>2978</th>\n",
       "      <td>Ensemble</td>\n",
       "      <td>Âge du créateur en 2014</td>\n",
       "      <td>Moins de 30 ans</td>\n",
       "      <td>4 ans</td>\n",
       "      <td>63.0</td>\n",
       "      <td>61.3</td>\n",
       "      <td>64.7</td>\n",
       "      <td>r_pe04.xlsx</td>\n",
       "      <td>FR</td>\n",
       "      <td>2014</td>\n",
       "    </tr>\n",
       "    <tr>\n",
       "      <th>2979</th>\n",
       "      <td>Ensemble</td>\n",
       "      <td>Âge du créateur en 2014</td>\n",
       "      <td>Moins de 30 ans</td>\n",
       "      <td>5 ans</td>\n",
       "      <td>57.3</td>\n",
       "      <td>55.5</td>\n",
       "      <td>59.0</td>\n",
       "      <td>r_pe04.xlsx</td>\n",
       "      <td>FR</td>\n",
       "      <td>2014</td>\n",
       "    </tr>\n",
       "    <tr>\n",
       "      <th>2980</th>\n",
       "      <td>Ensemble</td>\n",
       "      <td>Âge du créateur en 2014</td>\n",
       "      <td>Entre 30 et 39 ans</td>\n",
       "      <td>1 an</td>\n",
       "      <td>91.7</td>\n",
       "      <td>91.0</td>\n",
       "      <td>92.4</td>\n",
       "      <td>r_pe04.xlsx</td>\n",
       "      <td>FR</td>\n",
       "      <td>2014</td>\n",
       "    </tr>\n",
       "    <tr>\n",
       "      <th>2981</th>\n",
       "      <td>Ensemble</td>\n",
       "      <td>Âge du créateur en 2014</td>\n",
       "      <td>Entre 30 et 39 ans</td>\n",
       "      <td>2 ans</td>\n",
       "      <td>82.8</td>\n",
       "      <td>81.8</td>\n",
       "      <td>83.8</td>\n",
       "      <td>r_pe04.xlsx</td>\n",
       "      <td>FR</td>\n",
       "      <td>2014</td>\n",
       "    </tr>\n",
       "    <tr>\n",
       "      <th>2982</th>\n",
       "      <td>Ensemble</td>\n",
       "      <td>Âge du créateur en 2014</td>\n",
       "      <td>Entre 30 et 39 ans</td>\n",
       "      <td>3 ans</td>\n",
       "      <td>73.9</td>\n",
       "      <td>72.7</td>\n",
       "      <td>75.1</td>\n",
       "      <td>r_pe04.xlsx</td>\n",
       "      <td>FR</td>\n",
       "      <td>2014</td>\n",
       "    </tr>\n",
       "    <tr>\n",
       "      <th>2983</th>\n",
       "      <td>Ensemble</td>\n",
       "      <td>Âge du créateur en 2014</td>\n",
       "      <td>Entre 30 et 39 ans</td>\n",
       "      <td>4 ans</td>\n",
       "      <td>66.7</td>\n",
       "      <td>65.3</td>\n",
       "      <td>68.0</td>\n",
       "      <td>r_pe04.xlsx</td>\n",
       "      <td>FR</td>\n",
       "      <td>2014</td>\n",
       "    </tr>\n",
       "    <tr>\n",
       "      <th>2984</th>\n",
       "      <td>Ensemble</td>\n",
       "      <td>Âge du créateur en 2014</td>\n",
       "      <td>Entre 30 et 39 ans</td>\n",
       "      <td>5 ans</td>\n",
       "      <td>61.3</td>\n",
       "      <td>59.9</td>\n",
       "      <td>62.8</td>\n",
       "      <td>r_pe04.xlsx</td>\n",
       "      <td>FR</td>\n",
       "      <td>2014</td>\n",
       "    </tr>\n",
       "    <tr>\n",
       "      <th>2985</th>\n",
       "      <td>Ensemble</td>\n",
       "      <td>Âge du créateur en 2014</td>\n",
       "      <td>Entre 40 et 49 ans</td>\n",
       "      <td>1 an</td>\n",
       "      <td>92.8</td>\n",
       "      <td>92.1</td>\n",
       "      <td>93.4</td>\n",
       "      <td>r_pe04.xlsx</td>\n",
       "      <td>FR</td>\n",
       "      <td>2014</td>\n",
       "    </tr>\n",
       "    <tr>\n",
       "      <th>2986</th>\n",
       "      <td>Ensemble</td>\n",
       "      <td>Âge du créateur en 2014</td>\n",
       "      <td>Entre 40 et 49 ans</td>\n",
       "      <td>2 ans</td>\n",
       "      <td>84.1</td>\n",
       "      <td>83.1</td>\n",
       "      <td>85.1</td>\n",
       "      <td>r_pe04.xlsx</td>\n",
       "      <td>FR</td>\n",
       "      <td>2014</td>\n",
       "    </tr>\n",
       "    <tr>\n",
       "      <th>2987</th>\n",
       "      <td>Ensemble</td>\n",
       "      <td>Âge du créateur en 2014</td>\n",
       "      <td>Entre 40 et 49 ans</td>\n",
       "      <td>3 ans</td>\n",
       "      <td>75.5</td>\n",
       "      <td>74.2</td>\n",
       "      <td>76.8</td>\n",
       "      <td>r_pe04.xlsx</td>\n",
       "      <td>FR</td>\n",
       "      <td>2014</td>\n",
       "    </tr>\n",
       "    <tr>\n",
       "      <th>2988</th>\n",
       "      <td>Ensemble</td>\n",
       "      <td>Âge du créateur en 2014</td>\n",
       "      <td>Entre 40 et 49 ans</td>\n",
       "      <td>4 ans</td>\n",
       "      <td>68.8</td>\n",
       "      <td>67.5</td>\n",
       "      <td>70.2</td>\n",
       "      <td>r_pe04.xlsx</td>\n",
       "      <td>FR</td>\n",
       "      <td>2014</td>\n",
       "    </tr>\n",
       "    <tr>\n",
       "      <th>2989</th>\n",
       "      <td>Ensemble</td>\n",
       "      <td>Âge du créateur en 2014</td>\n",
       "      <td>Entre 40 et 49 ans</td>\n",
       "      <td>5 ans</td>\n",
       "      <td>64.0</td>\n",
       "      <td>62.6</td>\n",
       "      <td>65.4</td>\n",
       "      <td>r_pe04.xlsx</td>\n",
       "      <td>FR</td>\n",
       "      <td>2014</td>\n",
       "    </tr>\n",
       "    <tr>\n",
       "      <th>2990</th>\n",
       "      <td>Ensemble</td>\n",
       "      <td>Âge du créateur en 2014</td>\n",
       "      <td>50 ans ou plus</td>\n",
       "      <td>1 an</td>\n",
       "      <td>91.3</td>\n",
       "      <td>90.5</td>\n",
       "      <td>92.1</td>\n",
       "      <td>r_pe04.xlsx</td>\n",
       "      <td>FR</td>\n",
       "      <td>2014</td>\n",
       "    </tr>\n",
       "    <tr>\n",
       "      <th>2991</th>\n",
       "      <td>Ensemble</td>\n",
       "      <td>Âge du créateur en 2014</td>\n",
       "      <td>50 ans ou plus</td>\n",
       "      <td>2 ans</td>\n",
       "      <td>82.8</td>\n",
       "      <td>81.6</td>\n",
       "      <td>84.0</td>\n",
       "      <td>r_pe04.xlsx</td>\n",
       "      <td>FR</td>\n",
       "      <td>2014</td>\n",
       "    </tr>\n",
       "    <tr>\n",
       "      <th>2992</th>\n",
       "      <td>Ensemble</td>\n",
       "      <td>Âge du créateur en 2014</td>\n",
       "      <td>50 ans ou plus</td>\n",
       "      <td>3 ans</td>\n",
       "      <td>73.7</td>\n",
       "      <td>72.3</td>\n",
       "      <td>75.2</td>\n",
       "      <td>r_pe04.xlsx</td>\n",
       "      <td>FR</td>\n",
       "      <td>2014</td>\n",
       "    </tr>\n",
       "    <tr>\n",
       "      <th>2993</th>\n",
       "      <td>Ensemble</td>\n",
       "      <td>Âge du créateur en 2014</td>\n",
       "      <td>50 ans ou plus</td>\n",
       "      <td>4 ans</td>\n",
       "      <td>66.8</td>\n",
       "      <td>65.3</td>\n",
       "      <td>68.4</td>\n",
       "      <td>r_pe04.xlsx</td>\n",
       "      <td>FR</td>\n",
       "      <td>2014</td>\n",
       "    </tr>\n",
       "    <tr>\n",
       "      <th>2994</th>\n",
       "      <td>Ensemble</td>\n",
       "      <td>Âge du créateur en 2014</td>\n",
       "      <td>50 ans ou plus</td>\n",
       "      <td>5 ans</td>\n",
       "      <td>61.6</td>\n",
       "      <td>59.9</td>\n",
       "      <td>63.2</td>\n",
       "      <td>r_pe04.xlsx</td>\n",
       "      <td>FR</td>\n",
       "      <td>2014</td>\n",
       "    </tr>\n",
       "    <tr>\n",
       "      <th>3000</th>\n",
       "      <td>Homme</td>\n",
       "      <td>Âge du créateur en 2014</td>\n",
       "      <td>Moins de 30 ans</td>\n",
       "      <td>1 an</td>\n",
       "      <td>89.1</td>\n",
       "      <td>87.9</td>\n",
       "      <td>90.3</td>\n",
       "      <td>r_pe04.xlsx</td>\n",
       "      <td>FR</td>\n",
       "      <td>2014</td>\n",
       "    </tr>\n",
       "    <tr>\n",
       "      <th>3001</th>\n",
       "      <td>Homme</td>\n",
       "      <td>Âge du créateur en 2014</td>\n",
       "      <td>Moins de 30 ans</td>\n",
       "      <td>2 ans</td>\n",
       "      <td>79.7</td>\n",
       "      <td>78.0</td>\n",
       "      <td>81.4</td>\n",
       "      <td>r_pe04.xlsx</td>\n",
       "      <td>FR</td>\n",
       "      <td>2014</td>\n",
       "    </tr>\n",
       "    <tr>\n",
       "      <th>3002</th>\n",
       "      <td>Homme</td>\n",
       "      <td>Âge du créateur en 2014</td>\n",
       "      <td>Moins de 30 ans</td>\n",
       "      <td>3 ans</td>\n",
       "      <td>70.9</td>\n",
       "      <td>68.9</td>\n",
       "      <td>72.9</td>\n",
       "      <td>r_pe04.xlsx</td>\n",
       "      <td>FR</td>\n",
       "      <td>2014</td>\n",
       "    </tr>\n",
       "    <tr>\n",
       "      <th>3003</th>\n",
       "      <td>Homme</td>\n",
       "      <td>Âge du créateur en 2014</td>\n",
       "      <td>Moins de 30 ans</td>\n",
       "      <td>4 ans</td>\n",
       "      <td>63.0</td>\n",
       "      <td>60.9</td>\n",
       "      <td>65.2</td>\n",
       "      <td>r_pe04.xlsx</td>\n",
       "      <td>FR</td>\n",
       "      <td>2014</td>\n",
       "    </tr>\n",
       "    <tr>\n",
       "      <th>3004</th>\n",
       "      <td>Homme</td>\n",
       "      <td>Âge du créateur en 2014</td>\n",
       "      <td>Moins de 30 ans</td>\n",
       "      <td>5 ans</td>\n",
       "      <td>56.6</td>\n",
       "      <td>54.4</td>\n",
       "      <td>58.9</td>\n",
       "      <td>r_pe04.xlsx</td>\n",
       "      <td>FR</td>\n",
       "      <td>2014</td>\n",
       "    </tr>\n",
       "    <tr>\n",
       "      <th>3005</th>\n",
       "      <td>Homme</td>\n",
       "      <td>Âge du créateur en 2014</td>\n",
       "      <td>Entre 30 et 39 ans</td>\n",
       "      <td>1 an</td>\n",
       "      <td>92.5</td>\n",
       "      <td>91.8</td>\n",
       "      <td>93.3</td>\n",
       "      <td>r_pe04.xlsx</td>\n",
       "      <td>FR</td>\n",
       "      <td>2014</td>\n",
       "    </tr>\n",
       "    <tr>\n",
       "      <th>3006</th>\n",
       "      <td>Homme</td>\n",
       "      <td>Âge du créateur en 2014</td>\n",
       "      <td>Entre 30 et 39 ans</td>\n",
       "      <td>2 ans</td>\n",
       "      <td>83.8</td>\n",
       "      <td>82.7</td>\n",
       "      <td>85.0</td>\n",
       "      <td>r_pe04.xlsx</td>\n",
       "      <td>FR</td>\n",
       "      <td>2014</td>\n",
       "    </tr>\n",
       "    <tr>\n",
       "      <th>3007</th>\n",
       "      <td>Homme</td>\n",
       "      <td>Âge du créateur en 2014</td>\n",
       "      <td>Entre 30 et 39 ans</td>\n",
       "      <td>3 ans</td>\n",
       "      <td>74.9</td>\n",
       "      <td>73.5</td>\n",
       "      <td>76.4</td>\n",
       "      <td>r_pe04.xlsx</td>\n",
       "      <td>FR</td>\n",
       "      <td>2014</td>\n",
       "    </tr>\n",
       "    <tr>\n",
       "      <th>3008</th>\n",
       "      <td>Homme</td>\n",
       "      <td>Âge du créateur en 2014</td>\n",
       "      <td>Entre 30 et 39 ans</td>\n",
       "      <td>4 ans</td>\n",
       "      <td>67.5</td>\n",
       "      <td>65.9</td>\n",
       "      <td>69.1</td>\n",
       "      <td>r_pe04.xlsx</td>\n",
       "      <td>FR</td>\n",
       "      <td>2014</td>\n",
       "    </tr>\n",
       "    <tr>\n",
       "      <th>3009</th>\n",
       "      <td>Homme</td>\n",
       "      <td>Âge du créateur en 2014</td>\n",
       "      <td>Entre 30 et 39 ans</td>\n",
       "      <td>5 ans</td>\n",
       "      <td>62.2</td>\n",
       "      <td>60.5</td>\n",
       "      <td>63.9</td>\n",
       "      <td>r_pe04.xlsx</td>\n",
       "      <td>FR</td>\n",
       "      <td>2014</td>\n",
       "    </tr>\n",
       "    <tr>\n",
       "      <th>3010</th>\n",
       "      <td>Homme</td>\n",
       "      <td>Âge du créateur en 2014</td>\n",
       "      <td>Entre 40 et 49 ans</td>\n",
       "      <td>1 an</td>\n",
       "      <td>93.0</td>\n",
       "      <td>92.3</td>\n",
       "      <td>93.8</td>\n",
       "      <td>r_pe04.xlsx</td>\n",
       "      <td>FR</td>\n",
       "      <td>2014</td>\n",
       "    </tr>\n",
       "    <tr>\n",
       "      <th>3011</th>\n",
       "      <td>Homme</td>\n",
       "      <td>Âge du créateur en 2014</td>\n",
       "      <td>Entre 40 et 49 ans</td>\n",
       "      <td>2 ans</td>\n",
       "      <td>84.5</td>\n",
       "      <td>83.2</td>\n",
       "      <td>85.7</td>\n",
       "      <td>r_pe04.xlsx</td>\n",
       "      <td>FR</td>\n",
       "      <td>2014</td>\n",
       "    </tr>\n",
       "    <tr>\n",
       "      <th>3012</th>\n",
       "      <td>Homme</td>\n",
       "      <td>Âge du créateur en 2014</td>\n",
       "      <td>Entre 40 et 49 ans</td>\n",
       "      <td>3 ans</td>\n",
       "      <td>75.7</td>\n",
       "      <td>74.2</td>\n",
       "      <td>77.2</td>\n",
       "      <td>r_pe04.xlsx</td>\n",
       "      <td>FR</td>\n",
       "      <td>2014</td>\n",
       "    </tr>\n",
       "    <tr>\n",
       "      <th>3013</th>\n",
       "      <td>Homme</td>\n",
       "      <td>Âge du créateur en 2014</td>\n",
       "      <td>Entre 40 et 49 ans</td>\n",
       "      <td>4 ans</td>\n",
       "      <td>69.2</td>\n",
       "      <td>67.6</td>\n",
       "      <td>70.9</td>\n",
       "      <td>r_pe04.xlsx</td>\n",
       "      <td>FR</td>\n",
       "      <td>2014</td>\n",
       "    </tr>\n",
       "    <tr>\n",
       "      <th>3014</th>\n",
       "      <td>Homme</td>\n",
       "      <td>Âge du créateur en 2014</td>\n",
       "      <td>Entre 40 et 49 ans</td>\n",
       "      <td>5 ans</td>\n",
       "      <td>64.4</td>\n",
       "      <td>62.7</td>\n",
       "      <td>66.1</td>\n",
       "      <td>r_pe04.xlsx</td>\n",
       "      <td>FR</td>\n",
       "      <td>2014</td>\n",
       "    </tr>\n",
       "    <tr>\n",
       "      <th>3015</th>\n",
       "      <td>Homme</td>\n",
       "      <td>Âge du créateur en 2014</td>\n",
       "      <td>50 ans ou plus</td>\n",
       "      <td>1 an</td>\n",
       "      <td>91.5</td>\n",
       "      <td>90.6</td>\n",
       "      <td>92.4</td>\n",
       "      <td>r_pe04.xlsx</td>\n",
       "      <td>FR</td>\n",
       "      <td>2014</td>\n",
       "    </tr>\n",
       "    <tr>\n",
       "      <th>3016</th>\n",
       "      <td>Homme</td>\n",
       "      <td>Âge du créateur en 2014</td>\n",
       "      <td>50 ans ou plus</td>\n",
       "      <td>2 ans</td>\n",
       "      <td>83.3</td>\n",
       "      <td>81.9</td>\n",
       "      <td>84.6</td>\n",
       "      <td>r_pe04.xlsx</td>\n",
       "      <td>FR</td>\n",
       "      <td>2014</td>\n",
       "    </tr>\n",
       "    <tr>\n",
       "      <th>3017</th>\n",
       "      <td>Homme</td>\n",
       "      <td>Âge du créateur en 2014</td>\n",
       "      <td>50 ans ou plus</td>\n",
       "      <td>3 ans</td>\n",
       "      <td>74.1</td>\n",
       "      <td>72.4</td>\n",
       "      <td>75.8</td>\n",
       "      <td>r_pe04.xlsx</td>\n",
       "      <td>FR</td>\n",
       "      <td>2014</td>\n",
       "    </tr>\n",
       "    <tr>\n",
       "      <th>3018</th>\n",
       "      <td>Homme</td>\n",
       "      <td>Âge du créateur en 2014</td>\n",
       "      <td>50 ans ou plus</td>\n",
       "      <td>4 ans</td>\n",
       "      <td>67.4</td>\n",
       "      <td>65.5</td>\n",
       "      <td>69.2</td>\n",
       "      <td>r_pe04.xlsx</td>\n",
       "      <td>FR</td>\n",
       "      <td>2014</td>\n",
       "    </tr>\n",
       "    <tr>\n",
       "      <th>3019</th>\n",
       "      <td>Homme</td>\n",
       "      <td>Âge du créateur en 2014</td>\n",
       "      <td>50 ans ou plus</td>\n",
       "      <td>5 ans</td>\n",
       "      <td>61.9</td>\n",
       "      <td>60.0</td>\n",
       "      <td>63.8</td>\n",
       "      <td>r_pe04.xlsx</td>\n",
       "      <td>FR</td>\n",
       "      <td>2014</td>\n",
       "    </tr>\n",
       "    <tr>\n",
       "      <th>3025</th>\n",
       "      <td>Femme</td>\n",
       "      <td>Âge du créateur en 2014</td>\n",
       "      <td>Moins de 30 ans</td>\n",
       "      <td>1 an</td>\n",
       "      <td>86.9</td>\n",
       "      <td>85.2</td>\n",
       "      <td>88.7</td>\n",
       "      <td>r_pe04.xlsx</td>\n",
       "      <td>FR</td>\n",
       "      <td>2014</td>\n",
       "    </tr>\n",
       "    <tr>\n",
       "      <th>3026</th>\n",
       "      <td>Femme</td>\n",
       "      <td>Âge du créateur en 2014</td>\n",
       "      <td>Moins de 30 ans</td>\n",
       "      <td>2 ans</td>\n",
       "      <td>78.0</td>\n",
       "      <td>75.8</td>\n",
       "      <td>80.1</td>\n",
       "      <td>r_pe04.xlsx</td>\n",
       "      <td>FR</td>\n",
       "      <td>2014</td>\n",
       "    </tr>\n",
       "    <tr>\n",
       "      <th>3027</th>\n",
       "      <td>Femme</td>\n",
       "      <td>Âge du créateur en 2014</td>\n",
       "      <td>Moins de 30 ans</td>\n",
       "      <td>3 ans</td>\n",
       "      <td>68.8</td>\n",
       "      <td>66.3</td>\n",
       "      <td>71.3</td>\n",
       "      <td>r_pe04.xlsx</td>\n",
       "      <td>FR</td>\n",
       "      <td>2014</td>\n",
       "    </tr>\n",
       "    <tr>\n",
       "      <th>3028</th>\n",
       "      <td>Femme</td>\n",
       "      <td>Âge du créateur en 2014</td>\n",
       "      <td>Moins de 30 ans</td>\n",
       "      <td>4 ans</td>\n",
       "      <td>63.0</td>\n",
       "      <td>60.3</td>\n",
       "      <td>65.6</td>\n",
       "      <td>r_pe04.xlsx</td>\n",
       "      <td>FR</td>\n",
       "      <td>2014</td>\n",
       "    </tr>\n",
       "    <tr>\n",
       "      <th>3029</th>\n",
       "      <td>Femme</td>\n",
       "      <td>Âge du créateur en 2014</td>\n",
       "      <td>Moins de 30 ans</td>\n",
       "      <td>5 ans</td>\n",
       "      <td>58.4</td>\n",
       "      <td>55.7</td>\n",
       "      <td>61.2</td>\n",
       "      <td>r_pe04.xlsx</td>\n",
       "      <td>FR</td>\n",
       "      <td>2014</td>\n",
       "    </tr>\n",
       "    <tr>\n",
       "      <th>3030</th>\n",
       "      <td>Femme</td>\n",
       "      <td>Âge du créateur en 2014</td>\n",
       "      <td>Entre 30 et 39 ans</td>\n",
       "      <td>1 an</td>\n",
       "      <td>89.7</td>\n",
       "      <td>88.4</td>\n",
       "      <td>91.0</td>\n",
       "      <td>r_pe04.xlsx</td>\n",
       "      <td>FR</td>\n",
       "      <td>2014</td>\n",
       "    </tr>\n",
       "    <tr>\n",
       "      <th>3031</th>\n",
       "      <td>Femme</td>\n",
       "      <td>Âge du créateur en 2014</td>\n",
       "      <td>Entre 30 et 39 ans</td>\n",
       "      <td>2 ans</td>\n",
       "      <td>80.2</td>\n",
       "      <td>78.3</td>\n",
       "      <td>82.0</td>\n",
       "      <td>r_pe04.xlsx</td>\n",
       "      <td>FR</td>\n",
       "      <td>2014</td>\n",
       "    </tr>\n",
       "    <tr>\n",
       "      <th>3032</th>\n",
       "      <td>Femme</td>\n",
       "      <td>Âge du créateur en 2014</td>\n",
       "      <td>Entre 30 et 39 ans</td>\n",
       "      <td>3 ans</td>\n",
       "      <td>71.4</td>\n",
       "      <td>69.1</td>\n",
       "      <td>73.7</td>\n",
       "      <td>r_pe04.xlsx</td>\n",
       "      <td>FR</td>\n",
       "      <td>2014</td>\n",
       "    </tr>\n",
       "    <tr>\n",
       "      <th>3033</th>\n",
       "      <td>Femme</td>\n",
       "      <td>Âge du créateur en 2014</td>\n",
       "      <td>Entre 30 et 39 ans</td>\n",
       "      <td>4 ans</td>\n",
       "      <td>64.6</td>\n",
       "      <td>62.2</td>\n",
       "      <td>67.1</td>\n",
       "      <td>r_pe04.xlsx</td>\n",
       "      <td>FR</td>\n",
       "      <td>2014</td>\n",
       "    </tr>\n",
       "    <tr>\n",
       "      <th>3034</th>\n",
       "      <td>Femme</td>\n",
       "      <td>Âge du créateur en 2014</td>\n",
       "      <td>Entre 30 et 39 ans</td>\n",
       "      <td>5 ans</td>\n",
       "      <td>59.2</td>\n",
       "      <td>56.6</td>\n",
       "      <td>61.7</td>\n",
       "      <td>r_pe04.xlsx</td>\n",
       "      <td>FR</td>\n",
       "      <td>2014</td>\n",
       "    </tr>\n",
       "    <tr>\n",
       "      <th>3035</th>\n",
       "      <td>Femme</td>\n",
       "      <td>Âge du créateur en 2014</td>\n",
       "      <td>Entre 40 et 49 ans</td>\n",
       "      <td>1 an</td>\n",
       "      <td>92.2</td>\n",
       "      <td>90.9</td>\n",
       "      <td>93.5</td>\n",
       "      <td>r_pe04.xlsx</td>\n",
       "      <td>FR</td>\n",
       "      <td>2014</td>\n",
       "    </tr>\n",
       "    <tr>\n",
       "      <th>3036</th>\n",
       "      <td>Femme</td>\n",
       "      <td>Âge du créateur en 2014</td>\n",
       "      <td>Entre 40 et 49 ans</td>\n",
       "      <td>2 ans</td>\n",
       "      <td>83.2</td>\n",
       "      <td>81.2</td>\n",
       "      <td>85.1</td>\n",
       "      <td>r_pe04.xlsx</td>\n",
       "      <td>FR</td>\n",
       "      <td>2014</td>\n",
       "    </tr>\n",
       "    <tr>\n",
       "      <th>3037</th>\n",
       "      <td>Femme</td>\n",
       "      <td>Âge du créateur en 2014</td>\n",
       "      <td>Entre 40 et 49 ans</td>\n",
       "      <td>3 ans</td>\n",
       "      <td>74.9</td>\n",
       "      <td>72.6</td>\n",
       "      <td>77.2</td>\n",
       "      <td>r_pe04.xlsx</td>\n",
       "      <td>FR</td>\n",
       "      <td>2014</td>\n",
       "    </tr>\n",
       "    <tr>\n",
       "      <th>3038</th>\n",
       "      <td>Femme</td>\n",
       "      <td>Âge du créateur en 2014</td>\n",
       "      <td>Entre 40 et 49 ans</td>\n",
       "      <td>4 ans</td>\n",
       "      <td>67.8</td>\n",
       "      <td>65.3</td>\n",
       "      <td>70.3</td>\n",
       "      <td>r_pe04.xlsx</td>\n",
       "      <td>FR</td>\n",
       "      <td>2014</td>\n",
       "    </tr>\n",
       "    <tr>\n",
       "      <th>3039</th>\n",
       "      <td>Femme</td>\n",
       "      <td>Âge du créateur en 2014</td>\n",
       "      <td>Entre 40 et 49 ans</td>\n",
       "      <td>5 ans</td>\n",
       "      <td>62.8</td>\n",
       "      <td>60.2</td>\n",
       "      <td>65.5</td>\n",
       "      <td>r_pe04.xlsx</td>\n",
       "      <td>FR</td>\n",
       "      <td>2014</td>\n",
       "    </tr>\n",
       "    <tr>\n",
       "      <th>3040</th>\n",
       "      <td>Femme</td>\n",
       "      <td>Âge du créateur en 2014</td>\n",
       "      <td>50 ans ou plus</td>\n",
       "      <td>1 an</td>\n",
       "      <td>90.6</td>\n",
       "      <td>89.1</td>\n",
       "      <td>92.1</td>\n",
       "      <td>r_pe04.xlsx</td>\n",
       "      <td>FR</td>\n",
       "      <td>2014</td>\n",
       "    </tr>\n",
       "    <tr>\n",
       "      <th>3041</th>\n",
       "      <td>Femme</td>\n",
       "      <td>Âge du créateur en 2014</td>\n",
       "      <td>50 ans ou plus</td>\n",
       "      <td>2 ans</td>\n",
       "      <td>81.4</td>\n",
       "      <td>79.0</td>\n",
       "      <td>83.7</td>\n",
       "      <td>r_pe04.xlsx</td>\n",
       "      <td>FR</td>\n",
       "      <td>2014</td>\n",
       "    </tr>\n",
       "    <tr>\n",
       "      <th>3042</th>\n",
       "      <td>Femme</td>\n",
       "      <td>Âge du créateur en 2014</td>\n",
       "      <td>50 ans ou plus</td>\n",
       "      <td>3 ans</td>\n",
       "      <td>72.6</td>\n",
       "      <td>69.7</td>\n",
       "      <td>75.4</td>\n",
       "      <td>r_pe04.xlsx</td>\n",
       "      <td>FR</td>\n",
       "      <td>2014</td>\n",
       "    </tr>\n",
       "    <tr>\n",
       "      <th>3043</th>\n",
       "      <td>Femme</td>\n",
       "      <td>Âge du créateur en 2014</td>\n",
       "      <td>50 ans ou plus</td>\n",
       "      <td>4 ans</td>\n",
       "      <td>65.1</td>\n",
       "      <td>62.0</td>\n",
       "      <td>68.2</td>\n",
       "      <td>r_pe04.xlsx</td>\n",
       "      <td>FR</td>\n",
       "      <td>2014</td>\n",
       "    </tr>\n",
       "    <tr>\n",
       "      <th>3044</th>\n",
       "      <td>Femme</td>\n",
       "      <td>Âge du créateur en 2014</td>\n",
       "      <td>50 ans ou plus</td>\n",
       "      <td>5 ans</td>\n",
       "      <td>60.5</td>\n",
       "      <td>57.3</td>\n",
       "      <td>63.8</td>\n",
       "      <td>r_pe04.xlsx</td>\n",
       "      <td>FR</td>\n",
       "      <td>2014</td>\n",
       "    </tr>\n",
       "  </tbody>\n",
       "</table>\n",
       "</div>"
      ],
      "text/plain": [
       "        gender           categorie_type          categories  years  \\\n",
       "2975  Ensemble  Âge du créateur en 2014     Moins de 30 ans   1 an   \n",
       "2976  Ensemble  Âge du créateur en 2014     Moins de 30 ans  2 ans   \n",
       "2977  Ensemble  Âge du créateur en 2014     Moins de 30 ans  3 ans   \n",
       "2978  Ensemble  Âge du créateur en 2014     Moins de 30 ans  4 ans   \n",
       "2979  Ensemble  Âge du créateur en 2014     Moins de 30 ans  5 ans   \n",
       "2980  Ensemble  Âge du créateur en 2014  Entre 30 et 39 ans   1 an   \n",
       "2981  Ensemble  Âge du créateur en 2014  Entre 30 et 39 ans  2 ans   \n",
       "2982  Ensemble  Âge du créateur en 2014  Entre 30 et 39 ans  3 ans   \n",
       "2983  Ensemble  Âge du créateur en 2014  Entre 30 et 39 ans  4 ans   \n",
       "2984  Ensemble  Âge du créateur en 2014  Entre 30 et 39 ans  5 ans   \n",
       "2985  Ensemble  Âge du créateur en 2014  Entre 40 et 49 ans   1 an   \n",
       "2986  Ensemble  Âge du créateur en 2014  Entre 40 et 49 ans  2 ans   \n",
       "2987  Ensemble  Âge du créateur en 2014  Entre 40 et 49 ans  3 ans   \n",
       "2988  Ensemble  Âge du créateur en 2014  Entre 40 et 49 ans  4 ans   \n",
       "2989  Ensemble  Âge du créateur en 2014  Entre 40 et 49 ans  5 ans   \n",
       "2990  Ensemble  Âge du créateur en 2014      50 ans ou plus   1 an   \n",
       "2991  Ensemble  Âge du créateur en 2014      50 ans ou plus  2 ans   \n",
       "2992  Ensemble  Âge du créateur en 2014      50 ans ou plus  3 ans   \n",
       "2993  Ensemble  Âge du créateur en 2014      50 ans ou plus  4 ans   \n",
       "2994  Ensemble  Âge du créateur en 2014      50 ans ou plus  5 ans   \n",
       "3000     Homme  Âge du créateur en 2014     Moins de 30 ans   1 an   \n",
       "3001     Homme  Âge du créateur en 2014     Moins de 30 ans  2 ans   \n",
       "3002     Homme  Âge du créateur en 2014     Moins de 30 ans  3 ans   \n",
       "3003     Homme  Âge du créateur en 2014     Moins de 30 ans  4 ans   \n",
       "3004     Homme  Âge du créateur en 2014     Moins de 30 ans  5 ans   \n",
       "3005     Homme  Âge du créateur en 2014  Entre 30 et 39 ans   1 an   \n",
       "3006     Homme  Âge du créateur en 2014  Entre 30 et 39 ans  2 ans   \n",
       "3007     Homme  Âge du créateur en 2014  Entre 30 et 39 ans  3 ans   \n",
       "3008     Homme  Âge du créateur en 2014  Entre 30 et 39 ans  4 ans   \n",
       "3009     Homme  Âge du créateur en 2014  Entre 30 et 39 ans  5 ans   \n",
       "3010     Homme  Âge du créateur en 2014  Entre 40 et 49 ans   1 an   \n",
       "3011     Homme  Âge du créateur en 2014  Entre 40 et 49 ans  2 ans   \n",
       "3012     Homme  Âge du créateur en 2014  Entre 40 et 49 ans  3 ans   \n",
       "3013     Homme  Âge du créateur en 2014  Entre 40 et 49 ans  4 ans   \n",
       "3014     Homme  Âge du créateur en 2014  Entre 40 et 49 ans  5 ans   \n",
       "3015     Homme  Âge du créateur en 2014      50 ans ou plus   1 an   \n",
       "3016     Homme  Âge du créateur en 2014      50 ans ou plus  2 ans   \n",
       "3017     Homme  Âge du créateur en 2014      50 ans ou plus  3 ans   \n",
       "3018     Homme  Âge du créateur en 2014      50 ans ou plus  4 ans   \n",
       "3019     Homme  Âge du créateur en 2014      50 ans ou plus  5 ans   \n",
       "3025     Femme  Âge du créateur en 2014     Moins de 30 ans   1 an   \n",
       "3026     Femme  Âge du créateur en 2014     Moins de 30 ans  2 ans   \n",
       "3027     Femme  Âge du créateur en 2014     Moins de 30 ans  3 ans   \n",
       "3028     Femme  Âge du créateur en 2014     Moins de 30 ans  4 ans   \n",
       "3029     Femme  Âge du créateur en 2014     Moins de 30 ans  5 ans   \n",
       "3030     Femme  Âge du créateur en 2014  Entre 30 et 39 ans   1 an   \n",
       "3031     Femme  Âge du créateur en 2014  Entre 30 et 39 ans  2 ans   \n",
       "3032     Femme  Âge du créateur en 2014  Entre 30 et 39 ans  3 ans   \n",
       "3033     Femme  Âge du créateur en 2014  Entre 30 et 39 ans  4 ans   \n",
       "3034     Femme  Âge du créateur en 2014  Entre 30 et 39 ans  5 ans   \n",
       "3035     Femme  Âge du créateur en 2014  Entre 40 et 49 ans   1 an   \n",
       "3036     Femme  Âge du créateur en 2014  Entre 40 et 49 ans  2 ans   \n",
       "3037     Femme  Âge du créateur en 2014  Entre 40 et 49 ans  3 ans   \n",
       "3038     Femme  Âge du créateur en 2014  Entre 40 et 49 ans  4 ans   \n",
       "3039     Femme  Âge du créateur en 2014  Entre 40 et 49 ans  5 ans   \n",
       "3040     Femme  Âge du créateur en 2014      50 ans ou plus   1 an   \n",
       "3041     Femme  Âge du créateur en 2014      50 ans ou plus  2 ans   \n",
       "3042     Femme  Âge du créateur en 2014      50 ans ou plus  3 ans   \n",
       "3043     Femme  Âge du créateur en 2014      50 ans ou plus  4 ans   \n",
       "3044     Femme  Âge du créateur en 2014      50 ans ou plus  5 ans   \n",
       "\n",
       "      Taux de pérennité  Borne inférieure à 95 % du\\ntaux de pérennité  \\\n",
       "2975               88.3                                           87.3   \n",
       "2976               79.1                                           77.7   \n",
       "2977               70.2                                           68.6   \n",
       "2978               63.0                                           61.3   \n",
       "2979               57.3                                           55.5   \n",
       "2980               91.7                                           91.0   \n",
       "2981               82.8                                           81.8   \n",
       "2982               73.9                                           72.7   \n",
       "2983               66.7                                           65.3   \n",
       "2984               61.3                                           59.9   \n",
       "2985               92.8                                           92.1   \n",
       "2986               84.1                                           83.1   \n",
       "2987               75.5                                           74.2   \n",
       "2988               68.8                                           67.5   \n",
       "2989               64.0                                           62.6   \n",
       "2990               91.3                                           90.5   \n",
       "2991               82.8                                           81.6   \n",
       "2992               73.7                                           72.3   \n",
       "2993               66.8                                           65.3   \n",
       "2994               61.6                                           59.9   \n",
       "3000               89.1                                           87.9   \n",
       "3001               79.7                                           78.0   \n",
       "3002               70.9                                           68.9   \n",
       "3003               63.0                                           60.9   \n",
       "3004               56.6                                           54.4   \n",
       "3005               92.5                                           91.8   \n",
       "3006               83.8                                           82.7   \n",
       "3007               74.9                                           73.5   \n",
       "3008               67.5                                           65.9   \n",
       "3009               62.2                                           60.5   \n",
       "3010               93.0                                           92.3   \n",
       "3011               84.5                                           83.2   \n",
       "3012               75.7                                           74.2   \n",
       "3013               69.2                                           67.6   \n",
       "3014               64.4                                           62.7   \n",
       "3015               91.5                                           90.6   \n",
       "3016               83.3                                           81.9   \n",
       "3017               74.1                                           72.4   \n",
       "3018               67.4                                           65.5   \n",
       "3019               61.9                                           60.0   \n",
       "3025               86.9                                           85.2   \n",
       "3026               78.0                                           75.8   \n",
       "3027               68.8                                           66.3   \n",
       "3028               63.0                                           60.3   \n",
       "3029               58.4                                           55.7   \n",
       "3030               89.7                                           88.4   \n",
       "3031               80.2                                           78.3   \n",
       "3032               71.4                                           69.1   \n",
       "3033               64.6                                           62.2   \n",
       "3034               59.2                                           56.6   \n",
       "3035               92.2                                           90.9   \n",
       "3036               83.2                                           81.2   \n",
       "3037               74.9                                           72.6   \n",
       "3038               67.8                                           65.3   \n",
       "3039               62.8                                           60.2   \n",
       "3040               90.6                                           89.1   \n",
       "3041               81.4                                           79.0   \n",
       "3042               72.6                                           69.7   \n",
       "3043               65.1                                           62.0   \n",
       "3044               60.5                                           57.3   \n",
       "\n",
       "      Borne supérieure à 95 % du\\ntaux de pérennité    file_name area  \\\n",
       "2975                                           89.3  r_pe04.xlsx   FR   \n",
       "2976                                           80.4  r_pe04.xlsx   FR   \n",
       "2977                                           71.7  r_pe04.xlsx   FR   \n",
       "2978                                           64.7  r_pe04.xlsx   FR   \n",
       "2979                                           59.0  r_pe04.xlsx   FR   \n",
       "2980                                           92.4  r_pe04.xlsx   FR   \n",
       "2981                                           83.8  r_pe04.xlsx   FR   \n",
       "2982                                           75.1  r_pe04.xlsx   FR   \n",
       "2983                                           68.0  r_pe04.xlsx   FR   \n",
       "2984                                           62.8  r_pe04.xlsx   FR   \n",
       "2985                                           93.4  r_pe04.xlsx   FR   \n",
       "2986                                           85.1  r_pe04.xlsx   FR   \n",
       "2987                                           76.8  r_pe04.xlsx   FR   \n",
       "2988                                           70.2  r_pe04.xlsx   FR   \n",
       "2989                                           65.4  r_pe04.xlsx   FR   \n",
       "2990                                           92.1  r_pe04.xlsx   FR   \n",
       "2991                                           84.0  r_pe04.xlsx   FR   \n",
       "2992                                           75.2  r_pe04.xlsx   FR   \n",
       "2993                                           68.4  r_pe04.xlsx   FR   \n",
       "2994                                           63.2  r_pe04.xlsx   FR   \n",
       "3000                                           90.3  r_pe04.xlsx   FR   \n",
       "3001                                           81.4  r_pe04.xlsx   FR   \n",
       "3002                                           72.9  r_pe04.xlsx   FR   \n",
       "3003                                           65.2  r_pe04.xlsx   FR   \n",
       "3004                                           58.9  r_pe04.xlsx   FR   \n",
       "3005                                           93.3  r_pe04.xlsx   FR   \n",
       "3006                                           85.0  r_pe04.xlsx   FR   \n",
       "3007                                           76.4  r_pe04.xlsx   FR   \n",
       "3008                                           69.1  r_pe04.xlsx   FR   \n",
       "3009                                           63.9  r_pe04.xlsx   FR   \n",
       "3010                                           93.8  r_pe04.xlsx   FR   \n",
       "3011                                           85.7  r_pe04.xlsx   FR   \n",
       "3012                                           77.2  r_pe04.xlsx   FR   \n",
       "3013                                           70.9  r_pe04.xlsx   FR   \n",
       "3014                                           66.1  r_pe04.xlsx   FR   \n",
       "3015                                           92.4  r_pe04.xlsx   FR   \n",
       "3016                                           84.6  r_pe04.xlsx   FR   \n",
       "3017                                           75.8  r_pe04.xlsx   FR   \n",
       "3018                                           69.2  r_pe04.xlsx   FR   \n",
       "3019                                           63.8  r_pe04.xlsx   FR   \n",
       "3025                                           88.7  r_pe04.xlsx   FR   \n",
       "3026                                           80.1  r_pe04.xlsx   FR   \n",
       "3027                                           71.3  r_pe04.xlsx   FR   \n",
       "3028                                           65.6  r_pe04.xlsx   FR   \n",
       "3029                                           61.2  r_pe04.xlsx   FR   \n",
       "3030                                           91.0  r_pe04.xlsx   FR   \n",
       "3031                                           82.0  r_pe04.xlsx   FR   \n",
       "3032                                           73.7  r_pe04.xlsx   FR   \n",
       "3033                                           67.1  r_pe04.xlsx   FR   \n",
       "3034                                           61.7  r_pe04.xlsx   FR   \n",
       "3035                                           93.5  r_pe04.xlsx   FR   \n",
       "3036                                           85.1  r_pe04.xlsx   FR   \n",
       "3037                                           77.2  r_pe04.xlsx   FR   \n",
       "3038                                           70.3  r_pe04.xlsx   FR   \n",
       "3039                                           65.5  r_pe04.xlsx   FR   \n",
       "3040                                           92.1  r_pe04.xlsx   FR   \n",
       "3041                                           83.7  r_pe04.xlsx   FR   \n",
       "3042                                           75.4  r_pe04.xlsx   FR   \n",
       "3043                                           68.2  r_pe04.xlsx   FR   \n",
       "3044                                           63.8  r_pe04.xlsx   FR   \n",
       "\n",
       "      year_source  \n",
       "2975         2014  \n",
       "2976         2014  \n",
       "2977         2014  \n",
       "2978         2014  \n",
       "2979         2014  \n",
       "2980         2014  \n",
       "2981         2014  \n",
       "2982         2014  \n",
       "2983         2014  \n",
       "2984         2014  \n",
       "2985         2014  \n",
       "2986         2014  \n",
       "2987         2014  \n",
       "2988         2014  \n",
       "2989         2014  \n",
       "2990         2014  \n",
       "2991         2014  \n",
       "2992         2014  \n",
       "2993         2014  \n",
       "2994         2014  \n",
       "3000         2014  \n",
       "3001         2014  \n",
       "3002         2014  \n",
       "3003         2014  \n",
       "3004         2014  \n",
       "3005         2014  \n",
       "3006         2014  \n",
       "3007         2014  \n",
       "3008         2014  \n",
       "3009         2014  \n",
       "3010         2014  \n",
       "3011         2014  \n",
       "3012         2014  \n",
       "3013         2014  \n",
       "3014         2014  \n",
       "3015         2014  \n",
       "3016         2014  \n",
       "3017         2014  \n",
       "3018         2014  \n",
       "3019         2014  \n",
       "3025         2014  \n",
       "3026         2014  \n",
       "3027         2014  \n",
       "3028         2014  \n",
       "3029         2014  \n",
       "3030         2014  \n",
       "3031         2014  \n",
       "3032         2014  \n",
       "3033         2014  \n",
       "3034         2014  \n",
       "3035         2014  \n",
       "3036         2014  \n",
       "3037         2014  \n",
       "3038         2014  \n",
       "3039         2014  \n",
       "3040         2014  \n",
       "3041         2014  \n",
       "3042         2014  \n",
       "3043         2014  \n",
       "3044         2014  "
      ]
     },
     "execution_count": 9,
     "metadata": {},
     "output_type": "execute_result"
    }
   ],
   "source": [
    "df_plot"
   ]
  },
  {
   "cell_type": "code",
   "execution_count": 91,
   "id": "dc4562a4",
   "metadata": {},
   "outputs": [
    {
     "data": {
      "image/png": "[encoded data removed]",
      "text/plain": [
       "<Figure size 1200x600 with 1 Axes>"
      ]
     },
     "metadata": {},
     "output_type": "display_data"
    }
   ],
   "source": [
    "plt.figure(figsize=(12, 6))\n",
    "\n",
    "sns.barplot(\n",
    "    data=df_plot,\n",
    "    x=\"categories\", y=\"Taux de pérennité\", hue=\"gender\"\n",
    ")\n",
    "\n",
    "plt.title(\"Pérennité par sexe et année selon la tranche d'age du créateur lors de la création en 2014\")\n",
    "plt.show()"
   ]
  },
  {
   "cell_type": "code",
   "execution_count": 95,
   "id": "50a7f8d6",
   "metadata": {},
   "outputs": [
    {
     "data": {
      "application/vnd.plotly.v1+json": {
       "config": {
        "plotlyServerURL": "https://plot.ly"
       },
       "data": [
        {
         "alignmentgroup": "True",
         "hovertemplate": "Genre=Ensemble<br>years=1 an<br>Tranche d'âge=%{x}<br>Taux de pérennité (%)=%{y}<extra></extra>",
         "legendgroup": "Ensemble",
         "marker": {
          "color": "#636efa",
          "pattern": {
           "shape": ""
          }
         },
         "name": "Ensemble",
         "offsetgroup": "Ensemble",
         "orientation": "v",
         "showlegend": true,
         "textposition": "auto",
         "type": "bar",
         "x": [
          "Moins de 30 ans",
          "30 à 39 ans",
          "40 à 49 ans",
          "50 ans et plus"
         ],
         "xaxis": "x",
         "y": {
          "bdata": "ZmZmZmbGUEAzMzMzMxNUQM3MzMzMzFRAZmZmZmbmVEA=",
          "dtype": "f8"
         },
         "yaxis": "y"
        },
        {
         "alignmentgroup": "True",
         "hovertemplate": "Genre=Homme<br>years=1 an<br>Tranche d'âge=%{x}<br>Taux de pérennité (%)=%{y}<extra></extra>",
         "legendgroup": "Homme",
         "marker": {
          "color": "#EF553B",
          "pattern": {
           "shape": ""
          }
         },
         "name": "Homme",
         "offsetgroup": "Homme",
         "orientation": "v",
         "showlegend": true,
         "textposition": "auto",
         "type": "bar",
         "x": [
          "Moins de 30 ans",
          "30 à 39 ans",
          "40 à 49 ans",
          "50 ans et plus"
         ],
         "xaxis": "x",
         "y": {
          "bdata": "zczMzMzMUEBmZmZmZsZTQAAAAAAAIFRAzczMzMyMVEA=",
          "dtype": "f8"
         },
         "yaxis": "y"
        },
        {
         "alignmentgroup": "True",
         "hovertemplate": "Genre=Femme<br>years=1 an<br>Tranche d'âge=%{x}<br>Taux de pérennité (%)=%{y}<extra></extra>",
         "legendgroup": "Femme",
         "marker": {
          "color": "#00cc96",
          "pattern": {
           "shape": ""
          }
         },
         "name": "Femme",
         "offsetgroup": "Femme",
         "orientation": "v",
         "showlegend": true,
         "textposition": "auto",
         "type": "bar",
         "x": [
          "Moins de 30 ans",
          "30 à 39 ans",
          "40 à 49 ans",
          "50 ans et plus"
         ],
         "xaxis": "x",
         "y": {
          "bdata": "AAAAAADAUECamZmZmXlUQJqZmZmZmVVAZmZmZmZmVUA=",
          "dtype": "f8"
         },
         "yaxis": "y"
        }
       ],
       "frames": [
        {
         "data": [
          {
           "alignmentgroup": "True",
           "hovertemplate": "Genre=Ensemble<br>years=1 an<br>Tranche d'âge=%{x}<br>Taux de pérennité (%)=%{y}<extra></extra>",
           "legendgroup": "Ensemble",
           "marker": {
            "color": "#636efa",
            "pattern": {
             "shape": ""
            }
           },
           "name": "Ensemble",
           "offsetgroup": "Ensemble",
           "orientation": "v",
           "showlegend": true,
           "textposition": "auto",
           "type": "bar",
           "x": [
            "Moins de 30 ans",
            "30 à 39 ans",
            "40 à 49 ans",
            "50 ans et plus"
           ],
           "xaxis": "x",
           "y": {
            "bdata": "ZmZmZmbGUEAzMzMzMxNUQM3MzMzMzFRAZmZmZmbmVEA=",
            "dtype": "f8"
           },
           "yaxis": "y"
          },
          {
           "alignmentgroup": "True",
           "hovertemplate": "Genre=Homme<br>years=1 an<br>Tranche d'âge=%{x}<br>Taux de pérennité (%)=%{y}<extra></extra>",
           "legendgroup": "Homme",
           "marker": {
            "color": "#EF553B",
            "pattern": {
             "shape": ""
            }
           },
           "name": "Homme",
           "offsetgroup": "Homme",
           "orientation": "v",
           "showlegend": true,
           "textposition": "auto",
           "type": "bar",
           "x": [
            "Moins de 30 ans",
            "30 à 39 ans",
            "40 à 49 ans",
            "50 ans et plus"
           ],
           "xaxis": "x",
           "y": {
            "bdata": "zczMzMzMUEBmZmZmZsZTQAAAAAAAIFRAzczMzMyMVEA=",
            "dtype": "f8"
           },
           "yaxis": "y"
          },
          {
           "alignmentgroup": "True",
           "hovertemplate": "Genre=Femme<br>years=1 an<br>Tranche d'âge=%{x}<br>Taux de pérennité (%)=%{y}<extra></extra>",
           "legendgroup": "Femme",
           "marker": {
            "color": "#00cc96",
            "pattern": {
             "shape": ""
            }
           },
           "name": "Femme",
           "offsetgroup": "Femme",
           "orientation": "v",
           "showlegend": true,
           "textposition": "auto",
           "type": "bar",
           "x": [
            "Moins de 30 ans",
            "30 à 39 ans",
            "40 à 49 ans",
            "50 ans et plus"
           ],
           "xaxis": "x",
           "y": {
            "bdata": "AAAAAADAUECamZmZmXlUQJqZmZmZmVVAZmZmZmZmVUA=",
            "dtype": "f8"
           },
           "yaxis": "y"
          }
         ],
         "name": "1 an"
        },
        {
         "data": [
          {
           "alignmentgroup": "True",
           "hovertemplate": "Genre=Ensemble<br>years=2 ans<br>Tranche d'âge=%{x}<br>Taux de pérennité (%)=%{y}<extra></extra>",
           "legendgroup": "Ensemble",
           "marker": {
            "color": "#636efa",
            "pattern": {
             "shape": ""
            }
           },
           "name": "Ensemble",
           "offsetgroup": "Ensemble",
           "orientation": "v",
           "showlegend": true,
           "textposition": "auto",
           "type": "bar",
           "x": [
            "Moins de 30 ans",
            "30 à 39 ans",
            "40 à 49 ans",
            "50 ans et plus"
           ],
           "xaxis": "x",
           "y": {
            "bdata": "zczMzMxMSEAzMzMzM/NOQJqZmZmZ2VBAAAAAAACgUEA=",
            "dtype": "f8"
           },
           "yaxis": "y"
          },
          {
           "alignmentgroup": "True",
           "hovertemplate": "Genre=Homme<br>years=2 ans<br>Tranche d'âge=%{x}<br>Taux de pérennité (%)=%{y}<extra></extra>",
           "legendgroup": "Homme",
           "marker": {
            "color": "#EF553B",
            "pattern": {
             "shape": ""
            }
           },
           "name": "Homme",
           "offsetgroup": "Homme",
           "orientation": "v",
           "showlegend": true,
           "textposition": "auto",
           "type": "bar",
           "x": [
            "Moins de 30 ans",
            "30 à 39 ans",
            "40 à 49 ans",
            "50 ans et plus"
           ],
           "xaxis": "x",
           "y": {
            "bdata": "mpmZmZnZR0BmZmZmZuZNQGZmZmZmJlBAMzMzMzPzT0A=",
            "dtype": "f8"
           },
           "yaxis": "y"
          },
          {
           "alignmentgroup": "True",
           "hovertemplate": "Genre=Femme<br>years=2 ans<br>Tranche d'âge=%{x}<br>Taux de pérennité (%)=%{y}<extra></extra>",
           "legendgroup": "Femme",
           "marker": {
            "color": "#00cc96",
            "pattern": {
             "shape": ""
            }
           },
           "name": "Femme",
           "offsetgroup": "Femme",
           "orientation": "v",
           "showlegend": true,
           "textposition": "auto",
           "type": "bar",
           "x": [
            "Moins de 30 ans",
            "30 à 39 ans",
            "40 à 49 ans",
            "50 ans et plus"
           ],
           "xaxis": "x",
           "y": {
            "bdata": "zczMzMwMSUBmZmZmZiZQQJqZmZmZuVFAmpmZmZmZUUA=",
            "dtype": "f8"
           },
           "yaxis": "y"
          }
         ],
         "name": "2 ans"
        },
        {
         "data": [
          {
           "alignmentgroup": "True",
           "hovertemplate": "Genre=Ensemble<br>years=3 ans<br>Tranche d'âge=%{x}<br>Taux de pérennité (%)=%{y}<extra></extra>",
           "legendgroup": "Ensemble",
           "marker": {
            "color": "#636efa",
            "pattern": {
             "shape": ""
            }
           },
           "name": "Ensemble",
           "offsetgroup": "Ensemble",
           "orientation": "v",
           "showlegend": true,
           "textposition": "auto",
           "type": "bar",
           "x": [
            "Moins de 30 ans",
            "30 à 39 ans",
            "40 à 49 ans",
            "50 ans et plus"
           ],
           "xaxis": "x",
           "y": {
            "bdata": "mpmZmZmZQUCamZmZmVlIQM3MzMzMTEtAzczMzMyMSkA=",
            "dtype": "f8"
           },
           "yaxis": "y"
          },
          {
           "alignmentgroup": "True",
           "hovertemplate": "Genre=Homme<br>years=3 ans<br>Tranche d'âge=%{x}<br>Taux de pérennité (%)=%{y}<extra></extra>",
           "legendgroup": "Homme",
           "marker": {
            "color": "#EF553B",
            "pattern": {
             "shape": ""
            }
           },
           "name": "Homme",
           "offsetgroup": "Homme",
           "orientation": "v",
           "showlegend": true,
           "textposition": "auto",
           "type": "bar",
           "x": [
            "Moins de 30 ans",
            "30 à 39 ans",
            "40 à 49 ans",
            "50 ans et plus"
           ],
           "xaxis": "x",
           "y": {
            "bdata": "AAAAAADAQEAAAAAAAABHQGZmZmZm5klAZmZmZmZmSUA=",
            "dtype": "f8"
           },
           "yaxis": "y"
          },
          {
           "alignmentgroup": "True",
           "hovertemplate": "Genre=Femme<br>years=3 ans<br>Tranche d'âge=%{x}<br>Taux de pérennité (%)=%{y}<extra></extra>",
           "legendgroup": "Femme",
           "marker": {
            "color": "#00cc96",
            "pattern": {
             "shape": ""
            }
           },
           "name": "Femme",
           "offsetgroup": "Femme",
           "orientation": "v",
           "showlegend": true,
           "textposition": "auto",
           "type": "bar",
           "x": [
            "Moins de 30 ans",
            "30 à 39 ans",
            "40 à 49 ans",
            "50 ans et plus",
            "50 ans et plus"
           ],
           "xaxis": "x",
           "y": {
            "bdata": "ZmZmZmYmQ0DNzMzMzAxKQM3MzMzMDE1AmpmZmZlZTEAAAAAAAAD4fw==",
            "dtype": "f8"
           },
           "yaxis": "y"
          }
         ],
         "name": "3 ans"
        }
       ],
       "layout": {
        "barmode": "group",
        "height": 600,
        "legend": {
         "title": {
          "text": "Genre"
         },
         "tracegroupgap": 0
        },
        "margin": {
         "b": 80,
         "l": 40,
         "r": 40,
         "t": 80
        },
        "sliders": [
         {
          "active": 0,
          "currentvalue": {
           "prefix": "years="
          },
          "len": 0.9,
          "pad": {
           "b": 10,
           "t": 60
          },
          "steps": [
           {
            "args": [
             [
              "1 an"
             ],
             {
              "frame": {
               "duration": 0,
               "redraw": true
              },
              "fromcurrent": true,
              "mode": "immediate",
              "transition": {
               "duration": 0,
               "easing": "linear"
              }
             }
            ],
            "label": "1 an",
            "method": "animate"
           },
           {
            "args": [
             [
              "2 ans"
             ],
             {
              "frame": {
               "duration": 0,
               "redraw": true
              },
              "fromcurrent": true,
              "mode": "immediate",
              "transition": {
               "duration": 0,
               "easing": "linear"
              }
             }
            ],
            "label": "2 ans",
            "method": "animate"
           },
           {
            "args": [
             [
              "3 ans"
             ],
             {
              "frame": {
               "duration": 0,
               "redraw": true
              },
              "fromcurrent": true,
              "mode": "immediate",
              "transition": {
               "duration": 0,
               "easing": "linear"
              }
             }
            ],
            "label": "3 ans",
            "method": "animate"
           }
          ],
          "x": 0.1,
          "xanchor": "left",
          "y": 0,
          "yanchor": "top"
         }
        ],
        "template": {
         "data": {
          "bar": [
           {
            "error_x": {
             "color": "#2a3f5f"
            },
            "error_y": {
             "color": "#2a3f5f"
            },
            "marker": {
             "line": {
              "color": "#E5ECF6",
              "width": 0.5
             },
             "pattern": {
              "fillmode": "overlay",
              "size": 10,
              "solidity": 0.2
             }
            },
            "type": "bar"
           }
          ],
          "barpolar": [
           {
            "marker": {
             "line": {
              "color": "#E5ECF6",
              "width": 0.5
             },
             "pattern": {
              "fillmode": "overlay",
              "size": 10,
              "solidity": 0.2
             }
            },
            "type": "barpolar"
           }
          ],
          "carpet": [
           {
            "aaxis": {
             "endlinecolor": "#2a3f5f",
             "gridcolor": "white",
             "linecolor": "white",
             "minorgridcolor": "white",
             "startlinecolor": "#2a3f5f"
            },
            "baxis": {
             "endlinecolor": "#2a3f5f",
             "gridcolor": "white",
             "linecolor": "white",
             "minorgridcolor": "white",
             "startlinecolor": "#2a3f5f"
            },
            "type": "carpet"
           }
          ],
          "choropleth": [
           {
            "colorbar": {
             "outlinewidth": 0,
             "ticks": ""
            },
            "type": "choropleth"
           }
          ],
          "contour": [
           {
            "colorbar": {
             "outlinewidth": 0,
             "ticks": ""
            },
            "colorscale": [
             [
              0,
              "#0d0887"
             ],
             [
              0.1111111111111111,
              "#46039f"
             ],
             [
              0.2222222222222222,
              "#7201a8"
             ],
             [
              0.3333333333333333,
              "#9c179e"
             ],
             [
              0.4444444444444444,
              "#bd3786"
             ],
             [
              0.5555555555555556,
              "#d8576b"
             ],
             [
              0.6666666666666666,
              "#ed7953"
             ],
             [
              0.7777777777777778,
              "#fb9f3a"
             ],
             [
              0.8888888888888888,
              "#fdca26"
             ],
             [
              1,
              "#f0f921"
             ]
            ],
            "type": "contour"
           }
          ],
          "contourcarpet": [
           {
            "colorbar": {
             "outlinewidth": 0,
             "ticks": ""
            },
            "type": "contourcarpet"
           }
          ],
          "heatmap": [
           {
            "colorbar": {
             "outlinewidth": 0,
             "ticks": ""
            },
            "colorscale": [
             [
              0,
              "#0d0887"
             ],
             [
              0.1111111111111111,
              "#46039f"
             ],
             [
              0.2222222222222222,
              "#7201a8"
             ],
             [
              0.3333333333333333,
              "#9c179e"
             ],
             [
              0.4444444444444444,
              "#bd3786"
             ],
             [
              0.5555555555555556,
              "#d8576b"
             ],
             [
              0.6666666666666666,
              "#ed7953"
             ],
             [
              0.7777777777777778,
              "#fb9f3a"
             ],
             [
              0.8888888888888888,
              "#fdca26"
             ],
             [
              1,
              "#f0f921"
             ]
            ],
            "type": "heatmap"
           }
          ],
          "histogram": [
           {
            "marker": {
             "pattern": {
              "fillmode": "overlay",
              "size": 10,
              "solidity": 0.2
             }
            },
            "type": "histogram"
           }
          ],
          "histogram2d": [
           {
            "colorbar": {
             "outlinewidth": 0,
             "ticks": ""
            },
            "colorscale": [
             [
              0,
              "#0d0887"
             ],
             [
              0.1111111111111111,
              "#46039f"
             ],
             [
              0.2222222222222222,
              "#7201a8"
             ],
             [
              0.3333333333333333,
              "#9c179e"
             ],
             [
              0.4444444444444444,
              "#bd3786"
             ],
             [
              0.5555555555555556,
              "#d8576b"
             ],
             [
              0.6666666666666666,
              "#ed7953"
             ],
             [
              0.7777777777777778,
              "#fb9f3a"
             ],
             [
              0.8888888888888888,
              "#fdca26"
             ],
             [
              1,
              "#f0f921"
             ]
            ],
            "type": "histogram2d"
           }
          ],
          "histogram2dcontour": [
           {
            "colorbar": {
             "outlinewidth": 0,
             "ticks": ""
            },
            "colorscale": [
             [
              0,
              "#0d0887"
             ],
             [
              0.1111111111111111,
              "#46039f"
             ],
             [
              0.2222222222222222,
              "#7201a8"
             ],
             [
              0.3333333333333333,
              "#9c179e"
             ],
             [
              0.4444444444444444,
              "#bd3786"
             ],
             [
              0.5555555555555556,
              "#d8576b"
             ],
             [
              0.6666666666666666,
              "#ed7953"
             ],
             [
              0.7777777777777778,
              "#fb9f3a"
             ],
             [
              0.8888888888888888,
              "#fdca26"
             ],
             [
              1,
              "#f0f921"
             ]
            ],
            "type": "histogram2dcontour"
           }
          ],
          "mesh3d": [
           {
            "colorbar": {
             "outlinewidth": 0,
             "ticks": ""
            },
            "type": "mesh3d"
           }
          ],
          "parcoords": [
           {
            "line": {
             "colorbar": {
              "outlinewidth": 0,
              "ticks": ""
             }
            },
            "type": "parcoords"
           }
          ],
          "pie": [
           {
            "automargin": true,
            "type": "pie"
           }
          ],
          "scatter": [
           {
            "fillpattern": {
             "fillmode": "overlay",
             "size": 10,
             "solidity": 0.2
            },
            "type": "scatter"
           }
          ],
          "scatter3d": [
           {
            "line": {
             "colorbar": {
              "outlinewidth": 0,
              "ticks": ""
             }
            },
            "marker": {
             "colorbar": {
              "outlinewidth": 0,
              "ticks": ""
             }
            },
            "type": "scatter3d"
           }
          ],
          "scattercarpet": [
           {
            "marker": {
             "colorbar": {
              "outlinewidth": 0,
              "ticks": ""
             }
            },
            "type": "scattercarpet"
           }
          ],
          "scattergeo": [
           {
            "marker": {
             "colorbar": {
              "outlinewidth": 0,
              "ticks": ""
             }
            },
            "type": "scattergeo"
           }
          ],
          "scattergl": [
           {
            "marker": {
             "colorbar": {
              "outlinewidth": 0,
              "ticks": ""
             }
            },
            "type": "scattergl"
           }
          ],
          "scattermap": [
           {
            "marker": {
             "colorbar": {
              "outlinewidth": 0,
              "ticks": ""
             }
            },
            "type": "scattermap"
           }
          ],
          "scattermapbox": [
           {
            "marker": {
             "colorbar": {
              "outlinewidth": 0,
              "ticks": ""
             }
            },
            "type": "scattermapbox"
           }
          ],
          "scatterpolar": [
           {
            "marker": {
             "colorbar": {
              "outlinewidth": 0,
              "ticks": ""
             }
            },
            "type": "scatterpolar"
           }
          ],
          "scatterpolargl": [
           {
            "marker": {
             "colorbar": {
              "outlinewidth": 0,
              "ticks": ""
             }
            },
            "type": "scatterpolargl"
           }
          ],
          "scatterternary": [
           {
            "marker": {
             "colorbar": {
              "outlinewidth": 0,
              "ticks": ""
             }
            },
            "type": "scatterternary"
           }
          ],
          "surface": [
           {
            "colorbar": {
             "outlinewidth": 0,
             "ticks": ""
            },
            "colorscale": [
             [
              0,
              "#0d0887"
             ],
             [
              0.1111111111111111,
              "#46039f"
             ],
             [
              0.2222222222222222,
              "#7201a8"
             ],
             [
              0.3333333333333333,
              "#9c179e"
             ],
             [
              0.4444444444444444,
              "#bd3786"
             ],
             [
              0.5555555555555556,
              "#d8576b"
             ],
             [
              0.6666666666666666,
              "#ed7953"
             ],
             [
              0.7777777777777778,
              "#fb9f3a"
             ],
             [
              0.8888888888888888,
              "#fdca26"
             ],
             [
              1,
              "#f0f921"
             ]
            ],
            "type": "surface"
           }
          ],
          "table": [
           {
            "cells": {
             "fill": {
              "color": "#EBF0F8"
             },
             "line": {
              "color": "white"
             }
            },
            "header": {
             "fill": {
              "color": "#C8D4E3"
             },
             "line": {
              "color": "white"
             }
            },
            "type": "table"
           }
          ]
         },
         "layout": {
          "annotationdefaults": {
           "arrowcolor": "#2a3f5f",
           "arrowhead": 0,
           "arrowwidth": 1
          },
          "autotypenumbers": "strict",
          "coloraxis": {
           "colorbar": {
            "outlinewidth": 0,
            "ticks": ""
           }
          },
          "colorscale": {
           "diverging": [
            [
             0,
             "#8e0152"
            ],
            [
             0.1,
             "#c51b7d"
            ],
            [
             0.2,
             "#de77ae"
            ],
            [
             0.3,
             "#f1b6da"
            ],
            [
             0.4,
             "#fde0ef"
            ],
            [
             0.5,
             "#f7f7f7"
            ],
            [
             0.6,
             "#e6f5d0"
            ],
            [
             0.7,
             "#b8e186"
            ],
            [
             0.8,
             "#7fbc41"
            ],
            [
             0.9,
             "#4d9221"
            ],
            [
             1,
             "#276419"
            ]
           ],
           "sequential": [
            [
             0,
             "#0d0887"
            ],
            [
             0.1111111111111111,
             "#46039f"
            ],
            [
             0.2222222222222222,
             "#7201a8"
            ],
            [
             0.3333333333333333,
             "#9c179e"
            ],
            [
             0.4444444444444444,
             "#bd3786"
            ],
            [
             0.5555555555555556,
             "#d8576b"
            ],
            [
             0.6666666666666666,
             "#ed7953"
            ],
            [
             0.7777777777777778,
             "#fb9f3a"
            ],
            [
             0.8888888888888888,
             "#fdca26"
            ],
            [
             1,
             "#f0f921"
            ]
           ],
           "sequentialminus": [
            [
             0,
             "#0d0887"
            ],
            [
             0.1111111111111111,
             "#46039f"
            ],
            [
             0.2222222222222222,
             "#7201a8"
            ],
            [
             0.3333333333333333,
             "#9c179e"
            ],
            [
             0.4444444444444444,
             "#bd3786"
            ],
            [
             0.5555555555555556,
             "#d8576b"
            ],
            [
             0.6666666666666666,
             "#ed7953"
            ],
            [
             0.7777777777777778,
             "#fb9f3a"
            ],
            [
             0.8888888888888888,
             "#fdca26"
            ],
            [
             1,
             "#f0f921"
            ]
           ]
          },
          "colorway": [
           "#636efa",
           "#EF553B",
           "#00cc96",
           "#ab63fa",
           "#FFA15A",
           "#19d3f3",
           "#FF6692",
           "#B6E880",
           "#FF97FF",
           "#FECB52"
          ],
          "font": {
           "color": "#2a3f5f"
          },
          "geo": {
           "bgcolor": "white",
           "lakecolor": "white",
           "landcolor": "#E5ECF6",
           "showlakes": true,
           "showland": true,
           "subunitcolor": "white"
          },
          "hoverlabel": {
           "align": "left"
          },
          "hovermode": "closest",
          "mapbox": {
           "style": "light"
          },
          "paper_bgcolor": "white",
          "plot_bgcolor": "#E5ECF6",
          "polar": {
           "angularaxis": {
            "gridcolor": "white",
            "linecolor": "white",
            "ticks": ""
           },
           "bgcolor": "#E5ECF6",
           "radialaxis": {
            "gridcolor": "white",
            "linecolor": "white",
            "ticks": ""
           }
          },
          "scene": {
           "xaxis": {
            "backgroundcolor": "#E5ECF6",
            "gridcolor": "white",
            "gridwidth": 2,
            "linecolor": "white",
            "showbackground": true,
            "ticks": "",
            "zerolinecolor": "white"
           },
           "yaxis": {
            "backgroundcolor": "#E5ECF6",
            "gridcolor": "white",
            "gridwidth": 2,
            "linecolor": "white",
            "showbackground": true,
            "ticks": "",
            "zerolinecolor": "white"
           },
           "zaxis": {
            "backgroundcolor": "#E5ECF6",
            "gridcolor": "white",
            "gridwidth": 2,
            "linecolor": "white",
            "showbackground": true,
            "ticks": "",
            "zerolinecolor": "white"
           }
          },
          "shapedefaults": {
           "line": {
            "color": "#2a3f5f"
           }
          },
          "ternary": {
           "aaxis": {
            "gridcolor": "white",
            "linecolor": "white",
            "ticks": ""
           },
           "baxis": {
            "gridcolor": "white",
            "linecolor": "white",
            "ticks": ""
           },
           "bgcolor": "#E5ECF6",
           "caxis": {
            "gridcolor": "white",
            "linecolor": "white",
            "ticks": ""
           }
          },
          "title": {
           "x": 0.05
          },
          "xaxis": {
           "automargin": true,
           "gridcolor": "white",
           "linecolor": "white",
           "ticks": "",
           "title": {
            "standoff": 15
           },
           "zerolinecolor": "white",
           "zerolinewidth": 2
          },
          "yaxis": {
           "automargin": true,
           "gridcolor": "white",
           "linecolor": "white",
           "ticks": "",
           "title": {
            "standoff": 15
           },
           "zerolinecolor": "white",
           "zerolinewidth": 2
          }
         }
        },
        "title": {
         "text": "Évolution de la pérennité selon le genre et la tranche d'âge"
        },
        "updatemenus": [
         {
          "buttons": [
           {
            "args": [
             null,
             {
              "frame": {
               "duration": 500,
               "redraw": true
              },
              "fromcurrent": true,
              "mode": "immediate",
              "transition": {
               "duration": 500,
               "easing": "linear"
              }
             }
            ],
            "label": "&#9654;",
            "method": "animate"
           },
           {
            "args": [
             [
              null
             ],
             {
              "frame": {
               "duration": 0,
               "redraw": true
              },
              "fromcurrent": true,
              "mode": "immediate",
              "transition": {
               "duration": 0,
               "easing": "linear"
              }
             }
            ],
            "label": "&#9724;",
            "method": "animate"
           }
          ],
          "direction": "left",
          "pad": {
           "r": 10,
           "t": 70
          },
          "showactive": false,
          "type": "buttons",
          "x": 0.1,
          "xanchor": "right",
          "y": 0,
          "yanchor": "top"
         }
        ],
        "width": 1000,
        "xaxis": {
         "anchor": "y",
         "domain": [
          0,
          1
         ],
         "tickangle": -45,
         "title": {
          "text": "Tranche d'âge"
         }
        },
        "yaxis": {
         "anchor": "x",
         "domain": [
          0,
          1
         ],
         "title": {
          "text": "Taux de pérennité (%)"
         }
        }
       }
      }
     },
     "metadata": {},
     "output_type": "display_data"
    }
   ],
   "source": [
    "df_plot_2018 = df_2018[\n",
    "    (df_2018[\"categorie_type\"] == \"Tranche d’âge du créateur en 2018\") &\n",
    "    (df_2018[\"area\"] == \"FR\") &\n",
    "    (df_2018[\"categories\"] != \"Ensemble\")\n",
    "].copy()\n",
    "\n",
    "fig = px.bar(\n",
    "    df_plot_2018,\n",
    "    x=\"categories\",\n",
    "    y=\"Taux de pérennité (%)\",\n",
    "    color=\"gender\",\n",
    "    animation_frame=\"years\",\n",
    "    barmode=\"group\",\n",
    "    labels={\"categories\": \"Tranche d'âge\", \"gender\": \"Genre\"},\n",
    "    title=\"Évolution de la pérennité selon le genre et la tranche d'âge\",\n",
    ")\n",
    "\n",
    "fig.update_layout(\n",
    "    xaxis_tickangle=-45,\n",
    "    width=1000,\n",
    "    height=600,\n",
    "    margin=dict(l=40, r=40, t=80, b=80)\n",
    ")\n",
    "\n",
    "fig.show()\n"
   ]
  },
  {
   "cell_type": "code",
   "execution_count": 82,
   "id": "bac8bd41",
   "metadata": {},
   "outputs": [],
   "source": [
    "# Dégradés simples\n",
    "palette_femme = [\"#006D2C\", \"#31A354\", \"#A1D99B\"]  \n",
    "palette_homme = [\"#08306B\", \"#2171B5\", \"#6BAED6\"]      \n",
    "palette_ensemble = [\"#99000D\", \"#CB181D\", \"#FB6A4A\"]   \n",
    "\n",
    "palettes = {\n",
    "    \"Femme\": palette_femme,\n",
    "    \"Homme\": palette_homme,\n",
    "    \"Ensemble\": palette_ensemble,\n",
    "}"
   ]
  },
  {
   "cell_type": "code",
   "execution_count": 83,
   "id": "8a64fa28",
   "metadata": {},
   "outputs": [
    {
     "data": {
      "application/vnd.plotly.v1+json": {
       "config": {
        "plotlyServerURL": "https://plot.ly"
       },
       "data": [
        {
         "line": {
          "color": "#99000D",
          "width": 2
         },
         "marker": {
          "color": "#99000D"
         },
         "mode": "lines+markers",
         "name": "Ensemble - 1 an",
         "type": "scatter",
         "x": [
          "Moins de 30 ans",
          "30 à 39 ans",
          "40 à 49 ans",
          "50 ans et plus"
         ],
         "y": [
          67.1,
          80.3,
          83.2,
          83.6
         ]
        },
        {
         "line": {
          "color": "#CB181D",
          "width": 2
         },
         "marker": {
          "color": "#CB181D"
         },
         "mode": "lines+markers",
         "name": "Ensemble - 2 ans",
         "type": "scatter",
         "x": [
          "Moins de 30 ans",
          "30 à 39 ans",
          "40 à 49 ans",
          "50 ans et plus"
         ],
         "y": [
          48.6,
          61.9,
          67.4,
          66.5
         ]
        },
        {
         "line": {
          "color": "#FB6A4A",
          "width": 2
         },
         "marker": {
          "color": "#FB6A4A"
         },
         "mode": "lines+markers",
         "name": "Ensemble - 3 ans",
         "type": "scatter",
         "x": [
          "Moins de 30 ans",
          "30 à 39 ans",
          "40 à 49 ans",
          "50 ans et plus"
         ],
         "y": [
          35.2,
          48.7,
          54.6,
          53.1
         ]
        },
        {
         "line": {
          "color": "#08306B",
          "width": 2
         },
         "marker": {
          "color": "#08306B"
         },
         "mode": "lines+markers",
         "name": "Homme - 1 an",
         "type": "scatter",
         "x": [
          "Moins de 30 ans",
          "30 à 39 ans",
          "40 à 49 ans",
          "50 ans et plus"
         ],
         "y": [
          67.2,
          79.1,
          80.5,
          82.2
         ]
        },
        {
         "line": {
          "color": "#2171B5",
          "width": 2
         },
         "marker": {
          "color": "#2171B5"
         },
         "mode": "lines+markers",
         "name": "Homme - 2 ans",
         "type": "scatter",
         "x": [
          "Moins de 30 ans",
          "30 à 39 ans",
          "40 à 49 ans",
          "50 ans et plus"
         ],
         "y": [
          47.7,
          59.8,
          64.6,
          63.9
         ]
        },
        {
         "line": {
          "color": "#6BAED6",
          "width": 2
         },
         "marker": {
          "color": "#6BAED6"
         },
         "mode": "lines+markers",
         "name": "Homme - 3 ans",
         "type": "scatter",
         "x": [
          "Moins de 30 ans",
          "30 à 39 ans",
          "40 à 49 ans",
          "50 ans et plus"
         ],
         "y": [
          33.5,
          46,
          51.8,
          50.8
         ]
        },
        {
         "line": {
          "color": "#006D2C",
          "width": 2
         },
         "marker": {
          "color": "#006D2C"
         },
         "mode": "lines+markers",
         "name": "Femme - 1 an",
         "type": "scatter",
         "x": [
          "Moins de 30 ans",
          "30 à 39 ans",
          "40 à 49 ans",
          "50 ans et plus"
         ],
         "y": [
          67,
          81.9,
          86.4,
          85.6
         ]
        },
        {
         "line": {
          "color": "#31A354",
          "width": 2
         },
         "marker": {
          "color": "#31A354"
         },
         "mode": "lines+markers",
         "name": "Femme - 2 ans",
         "type": "scatter",
         "x": [
          "Moins de 30 ans",
          "30 à 39 ans",
          "40 à 49 ans",
          "50 ans et plus"
         ],
         "y": [
          50.1,
          64.6,
          70.9,
          70.4
         ]
        },
        {
         "line": {
          "color": "#A1D99B",
          "width": 2
         },
         "marker": {
          "color": "#A1D99B"
         },
         "mode": "lines+markers",
         "name": "Femme - 3 ans",
         "type": "scatter",
         "x": [
          "Moins de 30 ans",
          "30 à 39 ans",
          "40 à 49 ans",
          "50 ans et plus",
          "50 ans et plus"
         ],
         "y": [
          38.3,
          52.1,
          58.1,
          56.7,
          null
         ]
        }
       ],
       "layout": {
        "height": 600,
        "legend": {
         "title": {
          "text": "Genre - Année"
         }
        },
        "template": {
         "data": {
          "bar": [
           {
            "error_x": {
             "color": "#2a3f5f"
            },
            "error_y": {
             "color": "#2a3f5f"
            },
            "marker": {
             "line": {
              "color": "white",
              "width": 0.5
             },
             "pattern": {
              "fillmode": "overlay",
              "size": 10,
              "solidity": 0.2
             }
            },
            "type": "bar"
           }
          ],
          "barpolar": [
           {
            "marker": {
             "line": {
              "color": "white",
              "width": 0.5
             },
             "pattern": {
              "fillmode": "overlay",
              "size": 10,
              "solidity": 0.2
             }
            },
            "type": "barpolar"
           }
          ],
          "carpet": [
           {
            "aaxis": {
             "endlinecolor": "#2a3f5f",
             "gridcolor": "#C8D4E3",
             "linecolor": "#C8D4E3",
             "minorgridcolor": "#C8D4E3",
             "startlinecolor": "#2a3f5f"
            },
            "baxis": {
             "endlinecolor": "#2a3f5f",
             "gridcolor": "#C8D4E3",
             "linecolor": "#C8D4E3",
             "minorgridcolor": "#C8D4E3",
             "startlinecolor": "#2a3f5f"
            },
            "type": "carpet"
           }
          ],
          "choropleth": [
           {
            "colorbar": {
             "outlinewidth": 0,
             "ticks": ""
            },
            "type": "choropleth"
           }
          ],
          "contour": [
           {
            "colorbar": {
             "outlinewidth": 0,
             "ticks": ""
            },
            "colorscale": [
             [
              0,
              "#0d0887"
             ],
             [
              0.1111111111111111,
              "#46039f"
             ],
             [
              0.2222222222222222,
              "#7201a8"
             ],
             [
              0.3333333333333333,
              "#9c179e"
             ],
             [
              0.4444444444444444,
              "#bd3786"
             ],
             [
              0.5555555555555556,
              "#d8576b"
             ],
             [
              0.6666666666666666,
              "#ed7953"
             ],
             [
              0.7777777777777778,
              "#fb9f3a"
             ],
             [
              0.8888888888888888,
              "#fdca26"
             ],
             [
              1,
              "#f0f921"
             ]
            ],
            "type": "contour"
           }
          ],
          "contourcarpet": [
           {
            "colorbar": {
             "outlinewidth": 0,
             "ticks": ""
            },
            "type": "contourcarpet"
           }
          ],
          "heatmap": [
           {
            "colorbar": {
             "outlinewidth": 0,
             "ticks": ""
            },
            "colorscale": [
             [
              0,
              "#0d0887"
             ],
             [
              0.1111111111111111,
              "#46039f"
             ],
             [
              0.2222222222222222,
              "#7201a8"
             ],
             [
              0.3333333333333333,
              "#9c179e"
             ],
             [
              0.4444444444444444,
              "#bd3786"
             ],
             [
              0.5555555555555556,
              "#d8576b"
             ],
             [
              0.6666666666666666,
              "#ed7953"
             ],
             [
              0.7777777777777778,
              "#fb9f3a"
             ],
             [
              0.8888888888888888,
              "#fdca26"
             ],
             [
              1,
              "#f0f921"
             ]
            ],
            "type": "heatmap"
           }
          ],
          "histogram": [
           {
            "marker": {
             "pattern": {
              "fillmode": "overlay",
              "size": 10,
              "solidity": 0.2
             }
            },
            "type": "histogram"
           }
          ],
          "histogram2d": [
           {
            "colorbar": {
             "outlinewidth": 0,
             "ticks": ""
            },
            "colorscale": [
             [
              0,
              "#0d0887"
             ],
             [
              0.1111111111111111,
              "#46039f"
             ],
             [
              0.2222222222222222,
              "#7201a8"
             ],
             [
              0.3333333333333333,
              "#9c179e"
             ],
             [
              0.4444444444444444,
              "#bd3786"
             ],
             [
              0.5555555555555556,
              "#d8576b"
             ],
             [
              0.6666666666666666,
              "#ed7953"
             ],
             [
              0.7777777777777778,
              "#fb9f3a"
             ],
             [
              0.8888888888888888,
              "#fdca26"
             ],
             [
              1,
              "#f0f921"
             ]
            ],
            "type": "histogram2d"
           }
          ],
          "histogram2dcontour": [
           {
            "colorbar": {
             "outlinewidth": 0,
             "ticks": ""
            },
            "colorscale": [
             [
              0,
              "#0d0887"
             ],
             [
              0.1111111111111111,
              "#46039f"
             ],
             [
              0.2222222222222222,
              "#7201a8"
             ],
             [
              0.3333333333333333,
              "#9c179e"
             ],
             [
              0.4444444444444444,
              "#bd3786"
             ],
             [
              0.5555555555555556,
              "#d8576b"
             ],
             [
              0.6666666666666666,
              "#ed7953"
             ],
             [
              0.7777777777777778,
              "#fb9f3a"
             ],
             [
              0.8888888888888888,
              "#fdca26"
             ],
             [
              1,
              "#f0f921"
             ]
            ],
            "type": "histogram2dcontour"
           }
          ],
          "mesh3d": [
           {
            "colorbar": {
             "outlinewidth": 0,
             "ticks": ""
            },
            "type": "mesh3d"
           }
          ],
          "parcoords": [
           {
            "line": {
             "colorbar": {
              "outlinewidth": 0,
              "ticks": ""
             }
            },
            "type": "parcoords"
           }
          ],
          "pie": [
           {
            "automargin": true,
            "type": "pie"
           }
          ],
          "scatter": [
           {
            "fillpattern": {
             "fillmode": "overlay",
             "size": 10,
             "solidity": 0.2
            },
            "type": "scatter"
           }
          ],
          "scatter3d": [
           {
            "line": {
             "colorbar": {
              "outlinewidth": 0,
              "ticks": ""
             }
            },
            "marker": {
             "colorbar": {
              "outlinewidth": 0,
              "ticks": ""
             }
            },
            "type": "scatter3d"
           }
          ],
          "scattercarpet": [
           {
            "marker": {
             "colorbar": {
              "outlinewidth": 0,
              "ticks": ""
             }
            },
            "type": "scattercarpet"
           }
          ],
          "scattergeo": [
           {
            "marker": {
             "colorbar": {
              "outlinewidth": 0,
              "ticks": ""
             }
            },
            "type": "scattergeo"
           }
          ],
          "scattergl": [
           {
            "marker": {
             "colorbar": {
              "outlinewidth": 0,
              "ticks": ""
             }
            },
            "type": "scattergl"
           }
          ],
          "scattermap": [
           {
            "marker": {
             "colorbar": {
              "outlinewidth": 0,
              "ticks": ""
             }
            },
            "type": "scattermap"
           }
          ],
          "scattermapbox": [
           {
            "marker": {
             "colorbar": {
              "outlinewidth": 0,
              "ticks": ""
             }
            },
            "type": "scattermapbox"
           }
          ],
          "scatterpolar": [
           {
            "marker": {
             "colorbar": {
              "outlinewidth": 0,
              "ticks": ""
             }
            },
            "type": "scatterpolar"
           }
          ],
          "scatterpolargl": [
           {
            "marker": {
             "colorbar": {
              "outlinewidth": 0,
              "ticks": ""
             }
            },
            "type": "scatterpolargl"
           }
          ],
          "scatterternary": [
           {
            "marker": {
             "colorbar": {
              "outlinewidth": 0,
              "ticks": ""
             }
            },
            "type": "scatterternary"
           }
          ],
          "surface": [
           {
            "colorbar": {
             "outlinewidth": 0,
             "ticks": ""
            },
            "colorscale": [
             [
              0,
              "#0d0887"
             ],
             [
              0.1111111111111111,
              "#46039f"
             ],
             [
              0.2222222222222222,
              "#7201a8"
             ],
             [
              0.3333333333333333,
              "#9c179e"
             ],
             [
              0.4444444444444444,
              "#bd3786"
             ],
             [
              0.5555555555555556,
              "#d8576b"
             ],
             [
              0.6666666666666666,
              "#ed7953"
             ],
             [
              0.7777777777777778,
              "#fb9f3a"
             ],
             [
              0.8888888888888888,
              "#fdca26"
             ],
             [
              1,
              "#f0f921"
             ]
            ],
            "type": "surface"
           }
          ],
          "table": [
           {
            "cells": {
             "fill": {
              "color": "#EBF0F8"
             },
             "line": {
              "color": "white"
             }
            },
            "header": {
             "fill": {
              "color": "#C8D4E3"
             },
             "line": {
              "color": "white"
             }
            },
            "type": "table"
           }
          ]
         },
         "layout": {
          "annotationdefaults": {
           "arrowcolor": "#2a3f5f",
           "arrowhead": 0,
           "arrowwidth": 1
          },
          "autotypenumbers": "strict",
          "coloraxis": {
           "colorbar": {
            "outlinewidth": 0,
            "ticks": ""
           }
          },
          "colorscale": {
           "diverging": [
            [
             0,
             "#8e0152"
            ],
            [
             0.1,
             "#c51b7d"
            ],
            [
             0.2,
             "#de77ae"
            ],
            [
             0.3,
             "#f1b6da"
            ],
            [
             0.4,
             "#fde0ef"
            ],
            [
             0.5,
             "#f7f7f7"
            ],
            [
             0.6,
             "#e6f5d0"
            ],
            [
             0.7,
             "#b8e186"
            ],
            [
             0.8,
             "#7fbc41"
            ],
            [
             0.9,
             "#4d9221"
            ],
            [
             1,
             "#276419"
            ]
           ],
           "sequential": [
            [
             0,
             "#0d0887"
            ],
            [
             0.1111111111111111,
             "#46039f"
            ],
            [
             0.2222222222222222,
             "#7201a8"
            ],
            [
             0.3333333333333333,
             "#9c179e"
            ],
            [
             0.4444444444444444,
             "#bd3786"
            ],
            [
             0.5555555555555556,
             "#d8576b"
            ],
            [
             0.6666666666666666,
             "#ed7953"
            ],
            [
             0.7777777777777778,
             "#fb9f3a"
            ],
            [
             0.8888888888888888,
             "#fdca26"
            ],
            [
             1,
             "#f0f921"
            ]
           ],
           "sequentialminus": [
            [
             0,
             "#0d0887"
            ],
            [
             0.1111111111111111,
             "#46039f"
            ],
            [
             0.2222222222222222,
             "#7201a8"
            ],
            [
             0.3333333333333333,
             "#9c179e"
            ],
            [
             0.4444444444444444,
             "#bd3786"
            ],
            [
             0.5555555555555556,
             "#d8576b"
            ],
            [
             0.6666666666666666,
             "#ed7953"
            ],
            [
             0.7777777777777778,
             "#fb9f3a"
            ],
            [
             0.8888888888888888,
             "#fdca26"
            ],
            [
             1,
             "#f0f921"
            ]
           ]
          },
          "colorway": [
           "#636efa",
           "#EF553B",
           "#00cc96",
           "#ab63fa",
           "#FFA15A",
           "#19d3f3",
           "#FF6692",
           "#B6E880",
           "#FF97FF",
           "#FECB52"
          ],
          "font": {
           "color": "#2a3f5f"
          },
          "geo": {
           "bgcolor": "white",
           "lakecolor": "white",
           "landcolor": "white",
           "showlakes": true,
           "showland": true,
           "subunitcolor": "#C8D4E3"
          },
          "hoverlabel": {
           "align": "left"
          },
          "hovermode": "closest",
          "mapbox": {
           "style": "light"
          },
          "paper_bgcolor": "white",
          "plot_bgcolor": "white",
          "polar": {
           "angularaxis": {
            "gridcolor": "#EBF0F8",
            "linecolor": "#EBF0F8",
            "ticks": ""
           },
           "bgcolor": "white",
           "radialaxis": {
            "gridcolor": "#EBF0F8",
            "linecolor": "#EBF0F8",
            "ticks": ""
           }
          },
          "scene": {
           "xaxis": {
            "backgroundcolor": "white",
            "gridcolor": "#DFE8F3",
            "gridwidth": 2,
            "linecolor": "#EBF0F8",
            "showbackground": true,
            "ticks": "",
            "zerolinecolor": "#EBF0F8"
           },
           "yaxis": {
            "backgroundcolor": "white",
            "gridcolor": "#DFE8F3",
            "gridwidth": 2,
            "linecolor": "#EBF0F8",
            "showbackground": true,
            "ticks": "",
            "zerolinecolor": "#EBF0F8"
           },
           "zaxis": {
            "backgroundcolor": "white",
            "gridcolor": "#DFE8F3",
            "gridwidth": 2,
            "linecolor": "#EBF0F8",
            "showbackground": true,
            "ticks": "",
            "zerolinecolor": "#EBF0F8"
           }
          },
          "shapedefaults": {
           "line": {
            "color": "#2a3f5f"
           }
          },
          "ternary": {
           "aaxis": {
            "gridcolor": "#DFE8F3",
            "linecolor": "#A2B1C6",
            "ticks": ""
           },
           "baxis": {
            "gridcolor": "#DFE8F3",
            "linecolor": "#A2B1C6",
            "ticks": ""
           },
           "bgcolor": "white",
           "caxis": {
            "gridcolor": "#DFE8F3",
            "linecolor": "#A2B1C6",
            "ticks": ""
           }
          },
          "title": {
           "x": 0.05
          },
          "xaxis": {
           "automargin": true,
           "gridcolor": "#EBF0F8",
           "linecolor": "#EBF0F8",
           "ticks": "",
           "title": {
            "standoff": 15
           },
           "zerolinecolor": "#EBF0F8",
           "zerolinewidth": 2
          },
          "yaxis": {
           "automargin": true,
           "gridcolor": "#EBF0F8",
           "linecolor": "#EBF0F8",
           "ticks": "",
           "title": {
            "standoff": 15
           },
           "zerolinecolor": "#EBF0F8",
           "zerolinewidth": 2
          }
         }
        },
        "title": {
         "text": "Taux de pérennité selon l'âge du créateur, le genre et l'ancienneté"
        },
        "width": 1000,
        "xaxis": {
         "tickangle": -45,
         "title": {
          "text": "Tranche d'âge"
         }
        },
        "yaxis": {
         "title": {
          "text": "Taux de pérennité (%)"
         }
        }
       }
      }
     },
     "metadata": {},
     "output_type": "display_data"
    }
   ],
   "source": [
    "fig = go.Figure()\n",
    "\n",
    "# Boucle sur chaque genre\n",
    "for genre in df_plot[\"gender\"].unique():\n",
    "    df_genre = df_plot[df_plot[\"gender\"] == genre]\n",
    "    palette = palettes.get(genre, [\"gray\", \"gray\", \"gray\"])  # fallback sécurité\n",
    "\n",
    "    # Boucle sur chaque année (1, 2, 3 ans)\n",
    "    for i, year in enumerate(sorted(df_genre[\"years\"].unique())):\n",
    "        df_year = df_genre[df_genre[\"years\"] == year]\n",
    "\n",
    "        fig.add_trace(go.Scatter(\n",
    "            x=df_year[\"categories\"],\n",
    "            y=df_year[\"Taux de pérennité (%)\"],\n",
    "            mode=\"lines+markers\",\n",
    "            name=f\"{genre} - {year}\",\n",
    "            line=dict(color=palette[i], width=2),\n",
    "            marker=dict(color=palette[i]),\n",
    "        ))\n",
    "\n",
    "# Mise en forme\n",
    "fig.update_layout(\n",
    "    title=\"Taux de pérennité selon l'âge du créateur, le genre et l'ancienneté\",\n",
    "    xaxis_title=\"Tranche d'âge\",\n",
    "    yaxis_title=\"Taux de pérennité (%)\",\n",
    "    xaxis_tickangle=-45,\n",
    "    width=1000,\n",
    "    height=600,\n",
    "    legend_title=\"Genre - Année\",\n",
    "    template=\"plotly_white\"\n",
    ")\n",
    "\n",
    "fig.show()\n"
   ]
  },
  {
   "cell_type": "markdown",
   "id": "8ae95b01",
   "metadata": {},
   "source": [
    "lecture du graph : on remarque ici que les femmes ont tendance à créer une entreprise qui perdure dans le temps, peu importe l'âge à laquelle elle créé son entreprise. Le plus haut taux de pérénité au bout de 3 ans reste cependant lorsque la tranche d'âge se trouve entre 40 et 49 ans. (hommes (51%) comme femmes (58%))"
   ]
  },
  {
   "cell_type": "markdown",
   "id": "6d46728f",
   "metadata": {},
   "source": [
    "# Clean Data"
   ]
  },
  {
   "cell_type": "markdown",
   "id": "644808a0",
   "metadata": {},
   "source": [
    "objectif : regrouper datas pour former un seul dataframe complet pour le modèle Machine Learning"
   ]
  },
  {
   "cell_type": "markdown",
   "id": "7875e447",
   "metadata": {},
   "source": [
    "## Renommer les variables"
   ]
  },
  {
   "cell_type": "markdown",
   "id": "7bf2c381",
   "metadata": {},
   "source": [
    "On ne renomme que les variables communes aux 2 datasets"
   ]
  },
  {
   "cell_type": "code",
   "execution_count": 187,
   "id": "0961fe5e",
   "metadata": {},
   "outputs": [],
   "source": [
    "df_2014[\"categories\"] = df_2014[\"categories\"].str.replace(\"\\n\", \" \", regex=False).str.strip()\n",
    "df_2018[\"categories\"] = df_2018[\"categories\"].str.replace(\"\\n\", \" \", regex=False).str.strip()\n",
    "df_2014.columns = df_2014.columns.str.replace(\"\\n\", \" \").str.strip()\n",
    "df_2018.columns = df_2018.columns.str.replace(\"\\n\", \" \").str.strip()"
   ]
  },
  {
   "cell_type": "code",
   "execution_count": 188,
   "id": "247da339",
   "metadata": {},
   "outputs": [],
   "source": [
    "df_2018.rename(columns={\"Taux de pérennité (%)\" : \"Taux de pérennité\"}, inplace=True)"
   ]
  },
  {
   "cell_type": "code",
   "execution_count": 189,
   "id": "98cf7a0f",
   "metadata": {},
   "outputs": [],
   "source": [
    "rename_2014 = {\n",
    "    \"Âge du créateur en 2014\": \"Tranche d'âge du créateur à la création\",\n",
    "    \"Qualification préalable du créateur (PCS avant la\\ncréation)\": \"Qualifications préalable du créateur\",\n",
    "    \"Situation antérieure à la création\": \"Situation professionnelle au moment de la création\",\n",
    "    \"Diplôme le plus élevé en 2014\": \"Diplôme le plus élevé à la création\",\n",
    "    \"Nombre de créations ou reprises avant 2014\": \"Nombre de créations ou reprises au préalable\",\n",
    "    \"Participation à une formation particulière pour la\\nréalisation du projet\": \"Formation particulière suivie pour la création\",\n",
    "    \"Bénéfice d'aides ou d'exonérations publiques\": \"Aides bénéficiées\",\n",
    "    \"Situation familiale du créateur en 2014\": \"Situation personnelle au moment de la création\"\n",
    "}\n",
    "\n",
    "rename_2018 = {\n",
    "    \"Tranche d’âge du créateur en 2018\": \"Tranche d'âge du créateur à la création\",\n",
    "    \"Qualification préalable du créateur (PCS avant la\\ncréation)\": \"Qualifications préalable du créateur\",\n",
    "    \"Situation immédiate avant la création\": \"Situation professionnelle au moment de la création\",\n",
    "    \"Diplôme le plus élevé du créateur\": \"Diplôme le plus élevé à la création\",\n",
    "    \"création ou reprise d'une entreprise avant 2018\\n(autre que entreprise actuelle)\": \"Nombre de créations ou reprises au préalable\",\n",
    "    \"Suivi d'une formation particulière pour la\\nréalisation du projet\": \"Formation particulière suivie pour la création\",\n",
    "    \"Dispositifs d’aides dont a bénéficié le créateur\": \"Aides bénéficiées\",\n",
    "    \"Situation personnelle du créateur\": \"Situation personnelle au moment de la création\",\n",
    "    \"Durée de l’expérience dans le métier Principal\": \"Expérience du créateur dans le métier principal\",\n",
    "    \"Secteur d’activité en 7 postes\": \"Secteur d'activité\",\n",
    "    \"Principales raisons de choisir le régime de\\nmicro-entrepreneur\": \"Motivations à la création\",\n",
    "    \"Principales difficultés rencontrées pour mettre en\\nplace le projet\": \"Principales difficultés rencontrées lors de la\\ncréation\",\n",
    "}"
   ]
  },
  {
   "cell_type": "code",
   "execution_count": 190,
   "id": "573fdd53",
   "metadata": {},
   "outputs": [],
   "source": [
    "df_2014[\"categorie_type\"] = df_2014[\"categorie_type\"].replace(rename_2014)\n",
    "df_2018[\"categorie_type\"] = df_2018[\"categorie_type\"].replace(rename_2018)"
   ]
  },
  {
   "cell_type": "code",
   "execution_count": 100,
   "id": "17fc4fbe",
   "metadata": {},
   "outputs": [
    {
     "data": {
      "text/plain": [
       "Index(['gender', 'categorie_type', 'categories', 'years', 'Taux de pérennité',\n",
       "       'Borne inférieure du taux de pérennité',\n",
       "       'Borne supérieure du taux de pérennité', 'Nature des bornes',\n",
       "       'file_name', 'area', 'year_source'],\n",
       "      dtype='object')"
      ]
     },
     "execution_count": 100,
     "metadata": {},
     "output_type": "execute_result"
    }
   ],
   "source": [
    "df_2018.columns"
   ]
  },
  {
   "cell_type": "markdown",
   "id": "6deec7a7",
   "metadata": {},
   "source": [
    "## Filtrer les datasets"
   ]
  },
  {
   "cell_type": "markdown",
   "id": "f7f07984",
   "metadata": {},
   "source": [
    "on ne garde que les variables utiles"
   ]
  },
  {
   "cell_type": "code",
   "execution_count": 191,
   "id": "1101e100",
   "metadata": {},
   "outputs": [],
   "source": [
    "df_2014 = df_2014.drop(columns=[\"Borne inférieure à 95\\xa0% du taux de pérennité\",\"Borne supérieure à 95\\xa0% du taux de pérennité\",\"file_name\"])\n",
    "df_2018 = df_2018.drop(columns=[\"Borne inférieure du taux de pérennité\",\"Borne supérieure du taux de pérennité\",\"Nature des bornes\",\"file_name\"])"
   ]
  },
  {
   "cell_type": "code",
   "execution_count": 192,
   "id": "c3343355",
   "metadata": {},
   "outputs": [],
   "source": [
    "def nettoyage_df(df):\n",
    "    # Supprimer les lignes où le genre est \"Ensemble\"\n",
    "    df = df[df[\"gender\"] != \"Ensemble\"]\n",
    "    df = df[df[\"categories\"] != \"Ensemble\"]\n",
    "\n",
    "    # Supprimer les lignes avec \"4 ans\" ou \"5 ans\" pour avoir uniquement les données sur 3 ans\n",
    "    df = df[~df[\"years\"].isin([\"4 ans\", \"5 ans\"])]\n",
    "\n",
    "    # Nettoyer la colonne \"years\" pour extraire l'entier\n",
    "    df[\"years\"] = df[\"years\"].str.extract(r\"(\\d)\").astype(int)\n",
    "\n",
    "    return df"
   ]
  },
  {
   "cell_type": "code",
   "execution_count": 193,
   "id": "5a5176a0",
   "metadata": {},
   "outputs": [],
   "source": [
    "df_2014 = nettoyage_df(df_2014)\n",
    "df_2018 = nettoyage_df(df_2018)"
   ]
  },
  {
   "cell_type": "markdown",
   "id": "23a0ebd2",
   "metadata": {},
   "source": [
    "filtres les datasets pour ne garder que les catégories qui sont présentes dans les 2 datasets"
   ]
  },
  {
   "cell_type": "code",
   "execution_count": 194,
   "id": "9737c940",
   "metadata": {},
   "outputs": [],
   "source": [
    "common_categorie_types = set(df_2014[\"categorie_type\"].unique()) & set(df_2018[\"categorie_type\"].unique())\n",
    "\n",
    "df_2014 = df_2014[df_2014[\"categorie_type\"].isin(common_categorie_types)]\n",
    "df_2018 = df_2018[df_2018[\"categorie_type\"].isin(common_categorie_types)]"
   ]
  },
  {
   "cell_type": "markdown",
   "id": "c9ed3063",
   "metadata": {},
   "source": [
    "## Regrouper les catégories trop détaillées"
   ]
  },
  {
   "cell_type": "markdown",
   "id": "a95346c3",
   "metadata": {},
   "source": [
    "Certaines sous-catégories sont plus ou moins détaillées selon les années, il faut dont les regrouper pour avoir les mêmes bases"
   ]
  },
  {
   "cell_type": "code",
   "execution_count": 195,
   "id": "71e3d2d5",
   "metadata": {},
   "outputs": [],
   "source": [
    "mapping_2014 = {\n",
    "    \"Volonté d'être indépendant\": \"Indépendance / liberté\",\n",
    "    \"Goût d'entreprendre ou le désir d'affronter de nouveaux défis\": \"Indépendance / liberté\",\n",
    "    \"Perspectives d'augmenter les revenus\": \"Revenus\",\n",
    "    \"Opportunité\": \"Tester un projet\",\n",
    "    \"Idée nouvelle de produit, de service, de marché\": \"Tester un projet\",\n",
    "    \"Exemple réussi d'entrepreneurs dans l'entourage\": \"Tester un projet\",\n",
    "    \"Sans emploi, par choix\": \"Créer son emploi\",\n",
    "    \"Sans emploi, par contrainte\": \"Créer son emploi\",\n",
    "    \"Seule possibilité pour exercer la profession\": \"Créer son emploi\"\n",
    "}\n",
    "\n",
    "df_2014['categories'] = df_2014.apply(\n",
    "    lambda row: mapping_2014[row['categories']] if row['categorie_type'] == \"Motivations à la création\" else row['categories'],\n",
    "    axis=1\n",
    ")"
   ]
  },
  {
   "cell_type": "code",
   "execution_count": 196,
   "id": "0f8e5a2f",
   "metadata": {},
   "outputs": [
    {
     "data": {
      "text/plain": [
       "array(['Moins de 30 ans', '30 à 39 ans', '40 à 49 ans', '50 ans et plus',\n",
       "       'Seul', 'En couple', 'Aucun diplôme qualifiant', 'CAP, BEP',\n",
       "       'Baccalauréat', 'Diplôme du supérieur de 1er cycle',\n",
       "       'Diplôme du supérieur de 2e ou 3e cycle',\n",
       "       'Indépendant, chef d’entreprise salarié, P.D.G.',\n",
       "       'Agent de la fonction publique, Salarié du secteur privé, Intérimaire en CDD, Intermittent du spectacle',\n",
       "       'Au chômage', 'Étudiant, Sans activité professionnelle, Retraité',\n",
       "       'Même activité que le métier principal et aucune expérience',\n",
       "       \"Même activité que le métier principal et moins de 3 ans d'expérience\",\n",
       "       \"Même activité que le métier principal et de 3 à 10 ans d'expérience\",\n",
       "       'Même activité que le métier principal et plus de 10 ans d’expérience',\n",
       "       'Activité différente du métier principal', 'Oui', 'Non',\n",
       "       'Industrie', 'Construction',\n",
       "       'Commerce de gros et de détail, transports, hébergement et restauration',\n",
       "       'Information et communication, activités immobilières, financières et d’assurance',\n",
       "       'Activités spécialisées, scientifiques et techniques et activités de services administratifs et de soutien',\n",
       "       'Enseignement, santé humaine et action sociale',\n",
       "       'Autres activités de services',\n",
       "       'Essentiellement assurer votre propre emploi',\n",
       "       'Développer une activité de complément', 'Créer votre entreprise',\n",
       "       \"Tester un projet d'entreprise\",\n",
       "       'Travailler pour votre ancien employeur',\n",
       "       'Travailler pour une plate-forme numérique de mise en relation',\n",
       "       'Régulariser votre activité',\n",
       "       'Répondre à une opportunité ponctuelle',\n",
       "       'Maintenir une activité intellectuelle',\n",
       "       'Effectuer seul les démarches',\n",
       "       'Fixer le prix de vos produits et services',\n",
       "       'Trouver un local commercial approprié',\n",
       "       'Etablir des contacts avec la clientèle',\n",
       "       'Régler les formations administratives', 'Obtenir un financement',\n",
       "       \"Obtenir l'autorisation d'un découvert bancaire\",\n",
       "       'Ouvrir un compte bancaire', 'Trouver une assurance',\n",
       "       'Connaître la législation en vigueur',\n",
       "       'Obtenir des renseignements, conseils, formations',\n",
       "       'Aucune difficulté particulière', 'Aucun', 'Moins de 1 000€',\n",
       "       'De 1 000€ à moins de 4 000€', '4 000€ ou plus',\n",
       "       'Aucun dispositif d’aide', 'Bénéfice de l’ACCRE',\n",
       "       'Bénéfice d’une autre aide que l’ACCRE'], dtype=object)"
      ]
     },
     "execution_count": 196,
     "metadata": {},
     "output_type": "execute_result"
    }
   ],
   "source": [
    "df_2018[\"categories\"].unique()"
   ]
  },
  {
   "cell_type": "code",
   "execution_count": 197,
   "id": "ad3a3d32",
   "metadata": {},
   "outputs": [],
   "source": [
    "mapping_2018 = {\n",
    "    \"Créer votre entreprise\": \"Indépendance / liberté\",\n",
    "    \"Maintenir une activité intellectuelle\": \"Indépendance / liberté\",\n",
    "    \"Développer une activité de complément\": \"Revenus\",\n",
    "    \"Tester un projet d'entreprise\": \"Tester un projet\", \n",
    "    \"Répondre à une opportunité ponctuelle\": \"Tester un projet\",\n",
    "    \"Essentiellement assurer votre propre emploi\": \"Créer son emploi\",\n",
    "    \"Régulariser votre activité\": \"Créer son emploi\",\n",
    "    \"Travailler pour une plate-forme numérique de mise en relation\": \"Créer son emploi\",\n",
    "    \"Travailler pour votre ancien employeur\": \"Créer son emploi\"\n",
    "}\n",
    "\n",
    "mapping_secteur_2018 = {\n",
    "    \"Industrie\": \"Industrie et construction\",\n",
    "    \"Construction\": \"Industrie et construction\",\n",
    "    \"Commerce de gros et de détail, transports, hébergement et restauration\": \"Commerce, transport, hébergement\",\n",
    "    \"Information et communication, activités immobilières, financières et d’assurance\": \"Services spécialisés et support\",\n",
    "    \"Activités spécialisées, scientifiques et techniques et activités de services administratifs et de soutien\": \"Services spécialisés et support\",\n",
    "    \"Enseignement, santé humaine et action sociale\": \"Santé, enseignement, social\",\n",
    "    \"Autres activités de services\": \"Autres services\"\n",
    "}\n",
    "\n",
    "df_2018['categories'] = df_2018.apply(\n",
    "    lambda row: mapping_2018[row['categories']] if row['categorie_type'] == \"Motivations à la création\" else row['categories'],\n",
    "    axis=1\n",
    ")\n",
    "df_2018['categories'] = df_2018.apply(\n",
    "    lambda row: mapping_secteur_2018[row['categories']] if row['categorie_type'] == \"Secteur d'activité\" else row['categories'],\n",
    "    axis=1\n",
    ")\n"
   ]
  },
  {
   "cell_type": "code",
   "execution_count": 198,
   "id": "53d78d57",
   "metadata": {},
   "outputs": [],
   "source": [
    "df_2014[\"categorie_type\"] = (\n",
    "    df_2014[\"categorie_type\"]\n",
    "    .str.replace(\"\\n\", \" \", regex=False)\n",
    "    .str.replace(\"\\xa0\", \" \", regex=False)\n",
    "    .str.strip()\n",
    ")\n",
    "\n",
    "df_2018[\"categorie_type\"] = (\n",
    "    df_2018[\"categorie_type\"]\n",
    "    .str.replace(\"\\n\", \" \", regex=False)\n",
    "    .str.replace(\"\\xa0\", \" \", regex=False)\n",
    "    .str.strip()\n",
    ")"
   ]
  },
  {
   "cell_type": "code",
   "execution_count": 199,
   "id": "4b8e6634",
   "metadata": {},
   "outputs": [
    {
     "data": {
      "text/plain": [
       "Index(['gender', 'categorie_type', 'categories', 'years', 'Taux de pérennité',\n",
       "       'area', 'year_source'],\n",
       "      dtype='object')"
      ]
     },
     "execution_count": 199,
     "metadata": {},
     "output_type": "execute_result"
    }
   ],
   "source": [
    "df_2018.columns"
   ]
  },
  {
   "cell_type": "code",
   "execution_count": 200,
   "id": "c5b2b4c0",
   "metadata": {},
   "outputs": [
    {
     "name": "stdout",
     "output_type": "stream",
     "text": [
      "[\"Secteur d'activité\" \"Tranche d'âge du créateur à la création\"\n",
      " 'Situation professionnelle au moment de la création'\n",
      " 'Diplôme le plus élevé à la création' 'Motivations à la création'\n",
      " 'Nombre de créations ou reprises au préalable'\n",
      " 'Formation particulière suivie pour la création' 'Aides bénéficiées'\n",
      " 'Moyens financiers nécessaires pour démarrer'\n",
      " 'Situation personnelle au moment de la création'\n",
      " 'Principales difficultés rencontrées lors de la création'\n",
      " 'Expérience du créateur dans le métier principal']\n"
     ]
    }
   ],
   "source": [
    "print(df_2014[\"categorie_type\"].unique())"
   ]
  },
  {
   "cell_type": "code",
   "execution_count": 202,
   "id": "d8fa418a",
   "metadata": {},
   "outputs": [
    {
     "name": "stdout",
     "output_type": "stream",
     "text": [
      "2014 :  ['Industrie et construction'\n",
      " 'Commerce de gros et de détail, transports, hébergement et restauration'\n",
      " 'Information-communication, finance-assurance, immobilier\\xa0- activités scientifiques et techniques - services administratifs et de soutien'\n",
      " 'Enseignement, santé humaine, action sociale et autres activités de services']\n",
      "2018 :  ['Industrie et construction' 'Commerce, transport, hébergement'\n",
      " 'Services spécialisés et support' 'Santé, enseignement, social'\n",
      " 'Autres services']\n"
     ]
    }
   ],
   "source": [
    "print(\"2014 : \", df_2014[df_2014[\"categorie_type\"] == \"Secteur d'activité\"][\"categories\"].unique())\n",
    "print(\"2018 : \", df_2018[df_2018[\"categorie_type\"] == \"Secteur d'activité\"][\"categories\"].unique())"
   ]
  },
  {
   "cell_type": "markdown",
   "id": "d68ce48c",
   "metadata": {},
   "source": [
    "renommer toutes les sous-catégories pour avoir la même nomenclature partout"
   ]
  },
  {
   "cell_type": "code",
   "execution_count": 203,
   "id": "8f24e443",
   "metadata": {},
   "outputs": [],
   "source": [
    "secteur_activite = {\n",
    "    \"Commerce, transport, hébergement\": \"Commerce de gros et de détail, transports, hébergement et restauration\",\n",
    "    \"Services spécialisés et support\": \"Information-communication, finance-assurance, immobilier\\xa0- activités scientifiques et techniques - services administratifs et de soutien\",\n",
    "    \"Santé, enseignement, social\": \"Enseignement, santé humaine, action sociale et autres activités de services\",\n",
    "    \"Autres services\": \"Enseignement, santé humaine, action sociale et autres activités de services\"\n",
    "}\n",
    "\n",
    "tranche_age = {\n",
    "    \"30 à 39 ans\": \"Entre 30 et 39 ans\",\n",
    "    \"40 à 49 ans\": \"Entre 40 et 49 ans\",\n",
    "    \"50 ans et plus\": \"50 ans ou plus\"\n",
    "}\n",
    "\n",
    "situation_pro = {\n",
    "    \"Indépendant, chef d'entreprise\": \"Indépendant, chef d’entreprise salarié, P.D.G.\",\n",
    "    \"Agent de la fonction publique, salarié du privé, intérimaire\": \"Agent de la fonction publique, Salarié du secteur privé, Intérimaire en CDD, Intermittent du spectacle\",\n",
    "    \"Chômeur\": \"Au chômage\",\n",
    "    \"Étudiant, sans activité professionnelle, retraité\" : \"Étudiant, Sans activité professionnelle, Retraité\"\n",
    "}\n",
    "\n",
    "creation_entreprise = {\n",
    "    \"0 création\": \"Non\",\n",
    "    \"1 création\": \"Oui\",\n",
    "    \"2 créations ou plus\": \"Oui\"\n",
    "}\n",
    "\n",
    "formations = {\n",
    "    \"Oui, à ma demande\": \"Oui\",\n",
    "    \"Oui, parce que cette formation est imposée\": \"Oui\"\n",
    "}\n",
    "\n",
    "aides = {\n",
    "    \"Bénéfice de l’ACCRE\": \"Oui\",\n",
    "    \"Bénéfice d’une autre aide que l’ACCRE\": \"Oui\",\n",
    "    \"Aucun dispositif d’aide\": \"Non\"\n",
    "}\n",
    "\n",
    "#notons ici que les échelles ne sont pas les mêmes pour les deux années, et nous faisons un mapping le plus adéquat possible\n",
    "moyens_financiers_2014 = {\n",
    "    \"Moins de 2 000 euros\": \"Moins de 1 000€\",\n",
    "    \"De 2 000 euros à moins de 6 000 euros\": \"De 1 000€ à moins de 4 000€\",\n",
    "    \"De 6 000 euros à moins de 16 000 euros\": \"4 000€ ou plus\",\n",
    "    \"De 16 000 euros à moins de 80 000 euros\": \"4 000€ ou plus\",\n",
    "    \"80 000 euros ou plus\": \"4 000€ ou plus\"\n",
    "}\n",
    "\n",
    "moyens_financiers_2018 = {\n",
    "    \"Aucun\": \"Moins de 1 000€\",\n",
    "}\n",
    "\n",
    "situation_perso = {\n",
    "    \"Vit en couple\": \"En couple\",\n",
    "    \"Ne vit pas en couple\": \"Seul\"\n",
    "}\n",
    "\n",
    "difficulte_2014 = {\n",
    "    \"Aucune difficulté particulière\": \"Aucune difficulté particulière\",\n",
    "    \"Être seul comme entrepreneur\": \"Effectuer seul les démarches\",\n",
    "    \"Embaucher du personnel qualifié\": \"Autres difficultés\",\n",
    "    \"Établir des contacts avec la clientèle\": \"Etablir des contacts avec la clientèle\",\n",
    "    \"Fixer le prix des produits et services\": \"Fixer le prix de vos produits et services\",\n",
    "    \"Trouver un local approprié\": \"Trouver un local commercial approprié\",\n",
    "    \"Ouvrir un compte bancaire professionnel\": \"Ouvrir un compte bancaire\",\n",
    "    \"Choisir un statut ou un régime pour l'entreprise\": \"Connaître la législation en vigueur\"\n",
    "}\n",
    "\n",
    "difficulte_2018 = {\n",
    "    \"Obtenir des renseignements, conseils, formations\": \"Autres difficultés\",\n",
    "    \"Trouver une assurance\": \"Autres difficultés\",\n",
    "    \"Régler les formations administratives\": \"Régler les formalités administratives\"\n",
    "}\n",
    "\n",
    "experience = {\n",
    "    \"Même activité que le métier principal et aucune expérience\": \"Aucune expérience\",\n",
    "    \"Même activité que le métier principal et moins de 3 ans d'expérience\": \"Moins de 3 ans\",\n",
    "    \"Même activité que le métier principal et de 3 à 10 ans d'expérience\": \"De 3 à 10 ans\",\n",
    "    \"Même activité que le métier principal et plus de 10 ans d’expérience\": \"Plus de 10 ans\",\n",
    "    \"Activité différente du métier principal\": \"Aucune expérience\"\n",
    "}\n",
    "\n",
    "\n",
    "def apply_category_mapping(df, mapping, target_categorie_type):\n",
    "    df['categories'] = df.apply(\n",
    "        lambda row: mapping.get(row['categories'], row['categories']) if row['categorie_type'] == target_categorie_type else row['categories'],\n",
    "        axis=1\n",
    "    )\n",
    "    return df"
   ]
  },
  {
   "cell_type": "code",
   "execution_count": 204,
   "id": "583e8b4e",
   "metadata": {},
   "outputs": [],
   "source": [
    "df_2018 = apply_category_mapping(df_2018, secteur_activite, \"Secteur d'activité\")\n",
    "df_2018 = apply_category_mapping(df_2018, tranche_age, \"Tranche d'âge du créateur à la création\")\n",
    "df_2014 = apply_category_mapping(df_2014, situation_pro, \"Situation professionnelle au moment de la création\")\n",
    "df_2014 = apply_category_mapping(df_2014, creation_entreprise, \"Nombre de créations ou reprises au préalable\")\n",
    "df_2014 = apply_category_mapping(df_2014, formations, \"Formation particulière suivie pour la création\")\n",
    "df_2018 = apply_category_mapping(df_2018, aides, \"Aides bénéficiées\")\n",
    "df_2014 = apply_category_mapping(df_2014, moyens_financiers_2014, \"Moyens financiers nécessaires pour démarrer\")\n",
    "df_2018 = apply_category_mapping(df_2018, moyens_financiers_2018, \"Moyens financiers nécessaires pour démarrer\")\n",
    "df_2014 = apply_category_mapping(df_2014, situation_perso, \"Situation personnelle au moment de la création\")\n",
    "df_2014 = apply_category_mapping(df_2014, difficulte_2014, \"Principales difficultés rencontrées lors de la création\")\n",
    "df_2018 = apply_category_mapping(df_2018, difficulte_2018, \"Principales difficultés rencontrées lors de la création\")\n",
    "df_2018 = apply_category_mapping(df_2018, experience, \"Expérience du créateur dans le métier principal\")\n"
   ]
  },
  {
   "cell_type": "markdown",
   "id": "7c495120",
   "metadata": {},
   "source": [
    "## Pivoter les df"
   ]
  },
  {
   "cell_type": "markdown",
   "id": "815da7e6",
   "metadata": {},
   "source": [
    "pour que le dataset soit bien lu par le modèle de machine learning, nous allons passer toutes les catégories et sous catégories en colonnes"
   ]
  },
  {
   "cell_type": "code",
   "execution_count": 169,
   "id": "829ccdaa",
   "metadata": {},
   "outputs": [
    {
     "data": {
      "text/html": [
       "<div>\n",
       "<style scoped>\n",
       "    .dataframe tbody tr th:only-of-type {\n",
       "        vertical-align: middle;\n",
       "    }\n",
       "\n",
       "    .dataframe tbody tr th {\n",
       "        vertical-align: top;\n",
       "    }\n",
       "\n",
       "    .dataframe thead th {\n",
       "        text-align: right;\n",
       "    }\n",
       "</style>\n",
       "<table border=\"1\" class=\"dataframe\">\n",
       "  <thead>\n",
       "    <tr style=\"text-align: right;\">\n",
       "      <th></th>\n",
       "      <th>gender</th>\n",
       "      <th>categorie_type</th>\n",
       "      <th>categories</th>\n",
       "      <th>years</th>\n",
       "      <th>Taux de pérennité</th>\n",
       "      <th>area</th>\n",
       "      <th>year_source</th>\n",
       "    </tr>\n",
       "  </thead>\n",
       "  <tbody>\n",
       "    <tr>\n",
       "      <th>18</th>\n",
       "      <td>Homme</td>\n",
       "      <td>Tranche d'âge du créateur à la création</td>\n",
       "      <td>Moins de 30 ans</td>\n",
       "      <td>1</td>\n",
       "      <td>67.2</td>\n",
       "      <td>FR</td>\n",
       "      <td>2018</td>\n",
       "    </tr>\n",
       "    <tr>\n",
       "      <th>19</th>\n",
       "      <td>Homme</td>\n",
       "      <td>Tranche d'âge du créateur à la création</td>\n",
       "      <td>Moins de 30 ans</td>\n",
       "      <td>2</td>\n",
       "      <td>47.7</td>\n",
       "      <td>FR</td>\n",
       "      <td>2018</td>\n",
       "    </tr>\n",
       "    <tr>\n",
       "      <th>20</th>\n",
       "      <td>Homme</td>\n",
       "      <td>Tranche d'âge du créateur à la création</td>\n",
       "      <td>Moins de 30 ans</td>\n",
       "      <td>3</td>\n",
       "      <td>33.5</td>\n",
       "      <td>FR</td>\n",
       "      <td>2018</td>\n",
       "    </tr>\n",
       "    <tr>\n",
       "      <th>21</th>\n",
       "      <td>Homme</td>\n",
       "      <td>Tranche d'âge du créateur à la création</td>\n",
       "      <td>Entre 30 et 39 ans</td>\n",
       "      <td>1</td>\n",
       "      <td>79.1</td>\n",
       "      <td>FR</td>\n",
       "      <td>2018</td>\n",
       "    </tr>\n",
       "    <tr>\n",
       "      <th>22</th>\n",
       "      <td>Homme</td>\n",
       "      <td>Tranche d'âge du créateur à la création</td>\n",
       "      <td>Entre 30 et 39 ans</td>\n",
       "      <td>2</td>\n",
       "      <td>59.8</td>\n",
       "      <td>FR</td>\n",
       "      <td>2018</td>\n",
       "    </tr>\n",
       "    <tr>\n",
       "      <th>...</th>\n",
       "      <td>...</td>\n",
       "      <td>...</td>\n",
       "      <td>...</td>\n",
       "      <td>...</td>\n",
       "      <td>...</td>\n",
       "      <td>...</td>\n",
       "      <td>...</td>\n",
       "    </tr>\n",
       "    <tr>\n",
       "      <th>18193</th>\n",
       "      <td>Femme</td>\n",
       "      <td>Aides bénéficiées</td>\n",
       "      <td>Oui</td>\n",
       "      <td>3</td>\n",
       "      <td>55.8</td>\n",
       "      <td>94</td>\n",
       "      <td>2018</td>\n",
       "    </tr>\n",
       "    <tr>\n",
       "      <th>18194</th>\n",
       "      <td>Femme</td>\n",
       "      <td>Aides bénéficiées</td>\n",
       "      <td>Oui</td>\n",
       "      <td>1</td>\n",
       "      <td>0.0</td>\n",
       "      <td>94</td>\n",
       "      <td>2018</td>\n",
       "    </tr>\n",
       "    <tr>\n",
       "      <th>18195</th>\n",
       "      <td>Femme</td>\n",
       "      <td>Aides bénéficiées</td>\n",
       "      <td>Oui</td>\n",
       "      <td>2</td>\n",
       "      <td>0.0</td>\n",
       "      <td>94</td>\n",
       "      <td>2018</td>\n",
       "    </tr>\n",
       "    <tr>\n",
       "      <th>18196</th>\n",
       "      <td>Femme</td>\n",
       "      <td>Aides bénéficiées</td>\n",
       "      <td>Oui</td>\n",
       "      <td>3</td>\n",
       "      <td>0.0</td>\n",
       "      <td>94</td>\n",
       "      <td>2018</td>\n",
       "    </tr>\n",
       "    <tr>\n",
       "      <th>18197</th>\n",
       "      <td>Femme</td>\n",
       "      <td>Aides bénéficiées</td>\n",
       "      <td>Oui</td>\n",
       "      <td>3</td>\n",
       "      <td>NaN</td>\n",
       "      <td>94</td>\n",
       "      <td>2018</td>\n",
       "    </tr>\n",
       "  </tbody>\n",
       "</table>\n",
       "<p>6588 rows × 7 columns</p>\n",
       "</div>"
      ],
      "text/plain": [
       "      gender                           categorie_type          categories  \\\n",
       "18     Homme  Tranche d'âge du créateur à la création     Moins de 30 ans   \n",
       "19     Homme  Tranche d'âge du créateur à la création     Moins de 30 ans   \n",
       "20     Homme  Tranche d'âge du créateur à la création     Moins de 30 ans   \n",
       "21     Homme  Tranche d'âge du créateur à la création  Entre 30 et 39 ans   \n",
       "22     Homme  Tranche d'âge du créateur à la création  Entre 30 et 39 ans   \n",
       "...      ...                                      ...                 ...   \n",
       "18193  Femme                        Aides bénéficiées                 Oui   \n",
       "18194  Femme                        Aides bénéficiées                 Oui   \n",
       "18195  Femme                        Aides bénéficiées                 Oui   \n",
       "18196  Femme                        Aides bénéficiées                 Oui   \n",
       "18197  Femme                        Aides bénéficiées                 Oui   \n",
       "\n",
       "       years  Taux de pérennité area  year_source  \n",
       "18         1               67.2   FR         2018  \n",
       "19         2               47.7   FR         2018  \n",
       "20         3               33.5   FR         2018  \n",
       "21         1               79.1   FR         2018  \n",
       "22         2               59.8   FR         2018  \n",
       "...      ...                ...  ...          ...  \n",
       "18193      3               55.8   94         2018  \n",
       "18194      1                0.0   94         2018  \n",
       "18195      2                0.0   94         2018  \n",
       "18196      3                0.0   94         2018  \n",
       "18197      3                NaN   94         2018  \n",
       "\n",
       "[6588 rows x 7 columns]"
      ]
     },
     "execution_count": 169,
     "metadata": {},
     "output_type": "execute_result"
    }
   ],
   "source": [
    "df_2018"
   ]
  },
  {
   "cell_type": "code",
   "execution_count": 205,
   "id": "8da1fb7e",
   "metadata": {},
   "outputs": [],
   "source": [
    "def pivot (df):\n",
    "    df_pivot = df.pivot_table(\n",
    "        index=['gender', 'years', 'area', 'year_source'], \n",
    "        columns=['categorie_type', 'categories'],\n",
    "        values='Taux de pérennité'\n",
    "        ).reset_index()\n",
    "    return df_pivot"
   ]
  },
  {
   "cell_type": "code",
   "execution_count": 206,
   "id": "aaf412c4",
   "metadata": {},
   "outputs": [],
   "source": [
    "df_2014_pivot = pivot(df_2014)\n",
    "df_2018_pivot = pivot(df_2018)"
   ]
  },
  {
   "cell_type": "code",
   "execution_count": 207,
   "id": "f3ad0d81",
   "metadata": {},
   "outputs": [
    {
     "data": {
      "text/html": [
       "<div>\n",
       "<style scoped>\n",
       "    .dataframe tbody tr th:only-of-type {\n",
       "        vertical-align: middle;\n",
       "    }\n",
       "\n",
       "    .dataframe tbody tr th {\n",
       "        vertical-align: top;\n",
       "    }\n",
       "\n",
       "    .dataframe thead tr th {\n",
       "        text-align: left;\n",
       "    }\n",
       "</style>\n",
       "<table border=\"1\" class=\"dataframe\">\n",
       "  <thead>\n",
       "    <tr>\n",
       "      <th>categorie_type</th>\n",
       "      <th>gender</th>\n",
       "      <th>years</th>\n",
       "      <th>area</th>\n",
       "      <th>year_source</th>\n",
       "      <th colspan=\"2\" halign=\"left\">Aides bénéficiées</th>\n",
       "      <th colspan=\"4\" halign=\"left\">Diplôme le plus élevé à la création</th>\n",
       "      <th>...</th>\n",
       "      <th colspan=\"2\" halign=\"left\">Situation personnelle au moment de la création</th>\n",
       "      <th colspan=\"4\" halign=\"left\">Situation professionnelle au moment de la création</th>\n",
       "      <th colspan=\"4\" halign=\"left\">Tranche d'âge du créateur à la création</th>\n",
       "    </tr>\n",
       "    <tr>\n",
       "      <th>categories</th>\n",
       "      <th></th>\n",
       "      <th></th>\n",
       "      <th></th>\n",
       "      <th></th>\n",
       "      <th>Non</th>\n",
       "      <th>Oui</th>\n",
       "      <th>Aucun diplôme qualifiant</th>\n",
       "      <th>Baccalauréat</th>\n",
       "      <th>CAP, BEP</th>\n",
       "      <th>Diplôme du supérieur de 1er cycle</th>\n",
       "      <th>...</th>\n",
       "      <th>En couple</th>\n",
       "      <th>Seul</th>\n",
       "      <th>Agent de la fonction publique, Salarié du secteur privé, Intérimaire en CDD, Intermittent du spectacle</th>\n",
       "      <th>Au chômage</th>\n",
       "      <th>Indépendant, chef d’entreprise salarié, P.D.G.</th>\n",
       "      <th>Étudiant, Sans activité professionnelle, Retraité</th>\n",
       "      <th>50 ans ou plus</th>\n",
       "      <th>Entre 30 et 39 ans</th>\n",
       "      <th>Entre 40 et 49 ans</th>\n",
       "      <th>Moins de 30 ans</th>\n",
       "    </tr>\n",
       "  </thead>\n",
       "  <tbody>\n",
       "    <tr>\n",
       "      <th>0</th>\n",
       "      <td>Femme</td>\n",
       "      <td>1</td>\n",
       "      <td>01</td>\n",
       "      <td>2014</td>\n",
       "      <td>87.2</td>\n",
       "      <td>90.5</td>\n",
       "      <td>0.0</td>\n",
       "      <td>0.0</td>\n",
       "      <td>0.0</td>\n",
       "      <td>0.0</td>\n",
       "      <td>...</td>\n",
       "      <td>90.7</td>\n",
       "      <td>86.2</td>\n",
       "      <td>0.0</td>\n",
       "      <td>82.8</td>\n",
       "      <td>0.0</td>\n",
       "      <td>0.0</td>\n",
       "      <td>0.0</td>\n",
       "      <td>89.4</td>\n",
       "      <td>91.0</td>\n",
       "      <td>82.1</td>\n",
       "    </tr>\n",
       "    <tr>\n",
       "      <th>1</th>\n",
       "      <td>Femme</td>\n",
       "      <td>1</td>\n",
       "      <td>02</td>\n",
       "      <td>2014</td>\n",
       "      <td>88.4</td>\n",
       "      <td>83.2</td>\n",
       "      <td>0.0</td>\n",
       "      <td>0.0</td>\n",
       "      <td>0.0</td>\n",
       "      <td>0.0</td>\n",
       "      <td>...</td>\n",
       "      <td>88.5</td>\n",
       "      <td>84.4</td>\n",
       "      <td>89.7</td>\n",
       "      <td>83.4</td>\n",
       "      <td>0.0</td>\n",
       "      <td>0.0</td>\n",
       "      <td>87.4</td>\n",
       "      <td>77.6</td>\n",
       "      <td>0.0</td>\n",
       "      <td>0.0</td>\n",
       "    </tr>\n",
       "    <tr>\n",
       "      <th>2</th>\n",
       "      <td>Femme</td>\n",
       "      <td>1</td>\n",
       "      <td>03</td>\n",
       "      <td>2014</td>\n",
       "      <td>84.3</td>\n",
       "      <td>0.0</td>\n",
       "      <td>0.0</td>\n",
       "      <td>0.0</td>\n",
       "      <td>0.0</td>\n",
       "      <td>0.0</td>\n",
       "      <td>...</td>\n",
       "      <td>79.5</td>\n",
       "      <td>87.6</td>\n",
       "      <td>0.0</td>\n",
       "      <td>0.0</td>\n",
       "      <td>0.0</td>\n",
       "      <td>0.0</td>\n",
       "      <td>0.0</td>\n",
       "      <td>85.2</td>\n",
       "      <td>0.0</td>\n",
       "      <td>0.0</td>\n",
       "    </tr>\n",
       "    <tr>\n",
       "      <th>3</th>\n",
       "      <td>Femme</td>\n",
       "      <td>1</td>\n",
       "      <td>04</td>\n",
       "      <td>2014</td>\n",
       "      <td>78.5</td>\n",
       "      <td>84.8</td>\n",
       "      <td>75.5</td>\n",
       "      <td>85.6</td>\n",
       "      <td>73.5</td>\n",
       "      <td>87.1</td>\n",
       "      <td>...</td>\n",
       "      <td>76.7</td>\n",
       "      <td>83.8</td>\n",
       "      <td>84.4</td>\n",
       "      <td>82.3</td>\n",
       "      <td>85.8</td>\n",
       "      <td>66.6</td>\n",
       "      <td>0.0</td>\n",
       "      <td>79.5</td>\n",
       "      <td>78.7</td>\n",
       "      <td>81.6</td>\n",
       "    </tr>\n",
       "    <tr>\n",
       "      <th>4</th>\n",
       "      <td>Femme</td>\n",
       "      <td>1</td>\n",
       "      <td>11</td>\n",
       "      <td>2014</td>\n",
       "      <td>95.2</td>\n",
       "      <td>88.9</td>\n",
       "      <td>91.2</td>\n",
       "      <td>92.0</td>\n",
       "      <td>91.3</td>\n",
       "      <td>93.0</td>\n",
       "      <td>...</td>\n",
       "      <td>93.8</td>\n",
       "      <td>92.3</td>\n",
       "      <td>93.2</td>\n",
       "      <td>89.2</td>\n",
       "      <td>97.1</td>\n",
       "      <td>91.4</td>\n",
       "      <td>94.9</td>\n",
       "      <td>93.4</td>\n",
       "      <td>95.6</td>\n",
       "      <td>87.0</td>\n",
       "    </tr>\n",
       "    <tr>\n",
       "      <th>...</th>\n",
       "      <td>...</td>\n",
       "      <td>...</td>\n",
       "      <td>...</td>\n",
       "      <td>...</td>\n",
       "      <td>...</td>\n",
       "      <td>...</td>\n",
       "      <td>...</td>\n",
       "      <td>...</td>\n",
       "      <td>...</td>\n",
       "      <td>...</td>\n",
       "      <td>...</td>\n",
       "      <td>...</td>\n",
       "      <td>...</td>\n",
       "      <td>...</td>\n",
       "      <td>...</td>\n",
       "      <td>...</td>\n",
       "      <td>...</td>\n",
       "      <td>...</td>\n",
       "      <td>...</td>\n",
       "      <td>...</td>\n",
       "      <td>...</td>\n",
       "    </tr>\n",
       "    <tr>\n",
       "      <th>103</th>\n",
       "      <td>Homme</td>\n",
       "      <td>3</td>\n",
       "      <td>76</td>\n",
       "      <td>2014</td>\n",
       "      <td>73.8</td>\n",
       "      <td>71.7</td>\n",
       "      <td>72.1</td>\n",
       "      <td>70.7</td>\n",
       "      <td>71.7</td>\n",
       "      <td>73.5</td>\n",
       "      <td>...</td>\n",
       "      <td>66.3</td>\n",
       "      <td>75.7</td>\n",
       "      <td>76.2</td>\n",
       "      <td>66.2</td>\n",
       "      <td>79.1</td>\n",
       "      <td>61.3</td>\n",
       "      <td>70.5</td>\n",
       "      <td>74.7</td>\n",
       "      <td>75.9</td>\n",
       "      <td>66.3</td>\n",
       "    </tr>\n",
       "    <tr>\n",
       "      <th>104</th>\n",
       "      <td>Homme</td>\n",
       "      <td>3</td>\n",
       "      <td>84</td>\n",
       "      <td>2014</td>\n",
       "      <td>77.6</td>\n",
       "      <td>71.5</td>\n",
       "      <td>69.5</td>\n",
       "      <td>75.5</td>\n",
       "      <td>69.4</td>\n",
       "      <td>78.5</td>\n",
       "      <td>...</td>\n",
       "      <td>70.5</td>\n",
       "      <td>76.1</td>\n",
       "      <td>73.2</td>\n",
       "      <td>71.4</td>\n",
       "      <td>83.5</td>\n",
       "      <td>65.4</td>\n",
       "      <td>79.5</td>\n",
       "      <td>75.5</td>\n",
       "      <td>75.4</td>\n",
       "      <td>66.8</td>\n",
       "    </tr>\n",
       "    <tr>\n",
       "      <th>105</th>\n",
       "      <td>Homme</td>\n",
       "      <td>3</td>\n",
       "      <td>93</td>\n",
       "      <td>2014</td>\n",
       "      <td>76.0</td>\n",
       "      <td>74.7</td>\n",
       "      <td>74.9</td>\n",
       "      <td>74.7</td>\n",
       "      <td>69.8</td>\n",
       "      <td>81.0</td>\n",
       "      <td>...</td>\n",
       "      <td>76.9</td>\n",
       "      <td>74.9</td>\n",
       "      <td>73.7</td>\n",
       "      <td>75.2</td>\n",
       "      <td>81.3</td>\n",
       "      <td>65.7</td>\n",
       "      <td>72.1</td>\n",
       "      <td>77.0</td>\n",
       "      <td>77.3</td>\n",
       "      <td>75.0</td>\n",
       "    </tr>\n",
       "    <tr>\n",
       "      <th>106</th>\n",
       "      <td>Homme</td>\n",
       "      <td>3</td>\n",
       "      <td>94</td>\n",
       "      <td>2014</td>\n",
       "      <td>79.1</td>\n",
       "      <td>74.1</td>\n",
       "      <td>79.4</td>\n",
       "      <td>76.8</td>\n",
       "      <td>75.3</td>\n",
       "      <td>75.7</td>\n",
       "      <td>...</td>\n",
       "      <td>75.5</td>\n",
       "      <td>77.8</td>\n",
       "      <td>74.8</td>\n",
       "      <td>79.1</td>\n",
       "      <td>77.9</td>\n",
       "      <td>76.0</td>\n",
       "      <td>75.4</td>\n",
       "      <td>80.7</td>\n",
       "      <td>82.1</td>\n",
       "      <td>66.6</td>\n",
       "    </tr>\n",
       "    <tr>\n",
       "      <th>107</th>\n",
       "      <td>Homme</td>\n",
       "      <td>3</td>\n",
       "      <td>FR</td>\n",
       "      <td>2014</td>\n",
       "      <td>75.7</td>\n",
       "      <td>72.4</td>\n",
       "      <td>71.3</td>\n",
       "      <td>74.6</td>\n",
       "      <td>71.2</td>\n",
       "      <td>76.3</td>\n",
       "      <td>...</td>\n",
       "      <td>70.6</td>\n",
       "      <td>75.8</td>\n",
       "      <td>75.1</td>\n",
       "      <td>70.8</td>\n",
       "      <td>78.6</td>\n",
       "      <td>67.8</td>\n",
       "      <td>74.1</td>\n",
       "      <td>74.9</td>\n",
       "      <td>75.7</td>\n",
       "      <td>70.9</td>\n",
       "    </tr>\n",
       "  </tbody>\n",
       "</table>\n",
       "<p>108 rows × 51 columns</p>\n",
       "</div>"
      ],
      "text/plain": [
       "categorie_type gender years area year_source Aides bénéficiées        \\\n",
       "categories                                                 Non   Oui   \n",
       "0               Femme     1   01        2014              87.2  90.5   \n",
       "1               Femme     1   02        2014              88.4  83.2   \n",
       "2               Femme     1   03        2014              84.3   0.0   \n",
       "3               Femme     1   04        2014              78.5  84.8   \n",
       "4               Femme     1   11        2014              95.2  88.9   \n",
       "..                ...   ...  ...         ...               ...   ...   \n",
       "103             Homme     3   76        2014              73.8  71.7   \n",
       "104             Homme     3   84        2014              77.6  71.5   \n",
       "105             Homme     3   93        2014              76.0  74.7   \n",
       "106             Homme     3   94        2014              79.1  74.1   \n",
       "107             Homme     3   FR        2014              75.7  72.4   \n",
       "\n",
       "categorie_type Diplôme le plus élevé à la création                        \\\n",
       "categories                Aucun diplôme qualifiant Baccalauréat CAP, BEP   \n",
       "0                                              0.0          0.0      0.0   \n",
       "1                                              0.0          0.0      0.0   \n",
       "2                                              0.0          0.0      0.0   \n",
       "3                                             75.5         85.6     73.5   \n",
       "4                                             91.2         92.0     91.3   \n",
       "..                                             ...          ...      ...   \n",
       "103                                           72.1         70.7     71.7   \n",
       "104                                           69.5         75.5     69.4   \n",
       "105                                           74.9         74.7     69.8   \n",
       "106                                           79.4         76.8     75.3   \n",
       "107                                           71.3         74.6     71.2   \n",
       "\n",
       "categorie_type                                    ...  \\\n",
       "categories     Diplôme du supérieur de 1er cycle  ...   \n",
       "0                                            0.0  ...   \n",
       "1                                            0.0  ...   \n",
       "2                                            0.0  ...   \n",
       "3                                           87.1  ...   \n",
       "4                                           93.0  ...   \n",
       "..                                           ...  ...   \n",
       "103                                         73.5  ...   \n",
       "104                                         78.5  ...   \n",
       "105                                         81.0  ...   \n",
       "106                                         75.7  ...   \n",
       "107                                         76.3  ...   \n",
       "\n",
       "categorie_type Situation personnelle au moment de la création        \\\n",
       "categories                                          En couple  Seul   \n",
       "0                                                        90.7  86.2   \n",
       "1                                                        88.5  84.4   \n",
       "2                                                        79.5  87.6   \n",
       "3                                                        76.7  83.8   \n",
       "4                                                        93.8  92.3   \n",
       "..                                                        ...   ...   \n",
       "103                                                      66.3  75.7   \n",
       "104                                                      70.5  76.1   \n",
       "105                                                      76.9  74.9   \n",
       "106                                                      75.5  77.8   \n",
       "107                                                      70.6  75.8   \n",
       "\n",
       "categorie_type                                                     Situation professionnelle au moment de la création  \\\n",
       "categories     Agent de la fonction publique, Salarié du secteur privé, Intérimaire en CDD, Intermittent du spectacle   \n",
       "0                                                             0.0                                                       \n",
       "1                                                            89.7                                                       \n",
       "2                                                             0.0                                                       \n",
       "3                                                            84.4                                                       \n",
       "4                                                            93.2                                                       \n",
       "..                                                            ...                                                       \n",
       "103                                                          76.2                                                       \n",
       "104                                                          73.2                                                       \n",
       "105                                                          73.7                                                       \n",
       "106                                                          74.8                                                       \n",
       "107                                                          75.1                                                       \n",
       "\n",
       "categorie_type                                                            \\\n",
       "categories     Au chômage Indépendant, chef d’entreprise salarié, P.D.G.   \n",
       "0                    82.8                                            0.0   \n",
       "1                    83.4                                            0.0   \n",
       "2                     0.0                                            0.0   \n",
       "3                    82.3                                           85.8   \n",
       "4                    89.2                                           97.1   \n",
       "..                    ...                                            ...   \n",
       "103                  66.2                                           79.1   \n",
       "104                  71.4                                           83.5   \n",
       "105                  75.2                                           81.3   \n",
       "106                  79.1                                           77.9   \n",
       "107                  70.8                                           78.6   \n",
       "\n",
       "categorie_type                                                    \\\n",
       "categories     Étudiant, Sans activité professionnelle, Retraité   \n",
       "0                                                            0.0   \n",
       "1                                                            0.0   \n",
       "2                                                            0.0   \n",
       "3                                                           66.6   \n",
       "4                                                           91.4   \n",
       "..                                                           ...   \n",
       "103                                                         61.3   \n",
       "104                                                         65.4   \n",
       "105                                                         65.7   \n",
       "106                                                         76.0   \n",
       "107                                                         67.8   \n",
       "\n",
       "categorie_type Tranche d'âge du créateur à la création                     \\\n",
       "categories                              50 ans ou plus Entre 30 et 39 ans   \n",
       "0                                                  0.0               89.4   \n",
       "1                                                 87.4               77.6   \n",
       "2                                                  0.0               85.2   \n",
       "3                                                  0.0               79.5   \n",
       "4                                                 94.9               93.4   \n",
       "..                                                 ...                ...   \n",
       "103                                               70.5               74.7   \n",
       "104                                               79.5               75.5   \n",
       "105                                               72.1               77.0   \n",
       "106                                               75.4               80.7   \n",
       "107                                               74.1               74.9   \n",
       "\n",
       "categorie_type                                     \n",
       "categories     Entre 40 et 49 ans Moins de 30 ans  \n",
       "0                            91.0            82.1  \n",
       "1                             0.0             0.0  \n",
       "2                             0.0             0.0  \n",
       "3                            78.7            81.6  \n",
       "4                            95.6            87.0  \n",
       "..                            ...             ...  \n",
       "103                          75.9            66.3  \n",
       "104                          75.4            66.8  \n",
       "105                          77.3            75.0  \n",
       "106                          82.1            66.6  \n",
       "107                          75.7            70.9  \n",
       "\n",
       "[108 rows x 51 columns]"
      ]
     },
     "execution_count": 207,
     "metadata": {},
     "output_type": "execute_result"
    }
   ],
   "source": [
    "df_2014_pivot"
   ]
  },
  {
   "cell_type": "code",
   "execution_count": 208,
   "id": "3cfeb37b",
   "metadata": {},
   "outputs": [
    {
     "data": {
      "text/html": [
       "<div>\n",
       "<style scoped>\n",
       "    .dataframe tbody tr th:only-of-type {\n",
       "        vertical-align: middle;\n",
       "    }\n",
       "\n",
       "    .dataframe tbody tr th {\n",
       "        vertical-align: top;\n",
       "    }\n",
       "\n",
       "    .dataframe thead tr th {\n",
       "        text-align: left;\n",
       "    }\n",
       "</style>\n",
       "<table border=\"1\" class=\"dataframe\">\n",
       "  <thead>\n",
       "    <tr>\n",
       "      <th>categorie_type</th>\n",
       "      <th>gender</th>\n",
       "      <th>years</th>\n",
       "      <th>area</th>\n",
       "      <th>year_source</th>\n",
       "      <th colspan=\"2\" halign=\"left\">Aides bénéficiées</th>\n",
       "      <th colspan=\"4\" halign=\"left\">Diplôme le plus élevé à la création</th>\n",
       "      <th>...</th>\n",
       "      <th colspan=\"2\" halign=\"left\">Situation personnelle au moment de la création</th>\n",
       "      <th colspan=\"4\" halign=\"left\">Situation professionnelle au moment de la création</th>\n",
       "      <th colspan=\"4\" halign=\"left\">Tranche d'âge du créateur à la création</th>\n",
       "    </tr>\n",
       "    <tr>\n",
       "      <th>categories</th>\n",
       "      <th></th>\n",
       "      <th></th>\n",
       "      <th></th>\n",
       "      <th></th>\n",
       "      <th>Non</th>\n",
       "      <th>Oui</th>\n",
       "      <th>Aucun diplôme qualifiant</th>\n",
       "      <th>Baccalauréat</th>\n",
       "      <th>CAP, BEP</th>\n",
       "      <th>Diplôme du supérieur de 1er cycle</th>\n",
       "      <th>...</th>\n",
       "      <th>En couple</th>\n",
       "      <th>Seul</th>\n",
       "      <th>Agent de la fonction publique, Salarié du secteur privé, Intérimaire en CDD, Intermittent du spectacle</th>\n",
       "      <th>Au chômage</th>\n",
       "      <th>Indépendant, chef d’entreprise salarié, P.D.G.</th>\n",
       "      <th>Étudiant, Sans activité professionnelle, Retraité</th>\n",
       "      <th>50 ans ou plus</th>\n",
       "      <th>Entre 30 et 39 ans</th>\n",
       "      <th>Entre 40 et 49 ans</th>\n",
       "      <th>Moins de 30 ans</th>\n",
       "    </tr>\n",
       "  </thead>\n",
       "  <tbody>\n",
       "    <tr>\n",
       "      <th>0</th>\n",
       "      <td>Femme</td>\n",
       "      <td>1</td>\n",
       "      <td>01</td>\n",
       "      <td>2018</td>\n",
       "      <td>0.0</td>\n",
       "      <td>0.00</td>\n",
       "      <td>0.0</td>\n",
       "      <td>0.0</td>\n",
       "      <td>0.0</td>\n",
       "      <td>0.0</td>\n",
       "      <td>...</td>\n",
       "      <td>0.0</td>\n",
       "      <td>0.0</td>\n",
       "      <td>0.0</td>\n",
       "      <td>0.0</td>\n",
       "      <td>0.0</td>\n",
       "      <td>0.0</td>\n",
       "      <td>0.0</td>\n",
       "      <td>0.0</td>\n",
       "      <td>0.0</td>\n",
       "      <td>0.0</td>\n",
       "    </tr>\n",
       "    <tr>\n",
       "      <th>1</th>\n",
       "      <td>Femme</td>\n",
       "      <td>1</td>\n",
       "      <td>02</td>\n",
       "      <td>2018</td>\n",
       "      <td>0.0</td>\n",
       "      <td>0.00</td>\n",
       "      <td>0.0</td>\n",
       "      <td>0.0</td>\n",
       "      <td>0.0</td>\n",
       "      <td>0.0</td>\n",
       "      <td>...</td>\n",
       "      <td>0.0</td>\n",
       "      <td>0.0</td>\n",
       "      <td>0.0</td>\n",
       "      <td>0.0</td>\n",
       "      <td>0.0</td>\n",
       "      <td>0.0</td>\n",
       "      <td>0.0</td>\n",
       "      <td>0.0</td>\n",
       "      <td>0.0</td>\n",
       "      <td>0.0</td>\n",
       "    </tr>\n",
       "    <tr>\n",
       "      <th>2</th>\n",
       "      <td>Femme</td>\n",
       "      <td>1</td>\n",
       "      <td>03</td>\n",
       "      <td>2018</td>\n",
       "      <td>0.0</td>\n",
       "      <td>0.00</td>\n",
       "      <td>0.0</td>\n",
       "      <td>0.0</td>\n",
       "      <td>0.0</td>\n",
       "      <td>0.0</td>\n",
       "      <td>...</td>\n",
       "      <td>0.0</td>\n",
       "      <td>0.0</td>\n",
       "      <td>0.0</td>\n",
       "      <td>0.0</td>\n",
       "      <td>0.0</td>\n",
       "      <td>0.0</td>\n",
       "      <td>0.0</td>\n",
       "      <td>0.0</td>\n",
       "      <td>0.0</td>\n",
       "      <td>0.0</td>\n",
       "    </tr>\n",
       "    <tr>\n",
       "      <th>3</th>\n",
       "      <td>Femme</td>\n",
       "      <td>1</td>\n",
       "      <td>04</td>\n",
       "      <td>2018</td>\n",
       "      <td>0.0</td>\n",
       "      <td>0.00</td>\n",
       "      <td>0.0</td>\n",
       "      <td>0.0</td>\n",
       "      <td>0.0</td>\n",
       "      <td>0.0</td>\n",
       "      <td>...</td>\n",
       "      <td>0.0</td>\n",
       "      <td>0.0</td>\n",
       "      <td>0.0</td>\n",
       "      <td>0.0</td>\n",
       "      <td>0.0</td>\n",
       "      <td>0.0</td>\n",
       "      <td>0.0</td>\n",
       "      <td>0.0</td>\n",
       "      <td>0.0</td>\n",
       "      <td>0.0</td>\n",
       "    </tr>\n",
       "    <tr>\n",
       "      <th>4</th>\n",
       "      <td>Femme</td>\n",
       "      <td>1</td>\n",
       "      <td>11</td>\n",
       "      <td>2018</td>\n",
       "      <td>71.8</td>\n",
       "      <td>76.25</td>\n",
       "      <td>77.4</td>\n",
       "      <td>70.7</td>\n",
       "      <td>72.0</td>\n",
       "      <td>78.5</td>\n",
       "      <td>...</td>\n",
       "      <td>79.3</td>\n",
       "      <td>68.3</td>\n",
       "      <td>75.8</td>\n",
       "      <td>80.3</td>\n",
       "      <td>87.3</td>\n",
       "      <td>64.0</td>\n",
       "      <td>85.6</td>\n",
       "      <td>79.0</td>\n",
       "      <td>90.1</td>\n",
       "      <td>58.6</td>\n",
       "    </tr>\n",
       "    <tr>\n",
       "      <th>...</th>\n",
       "      <td>...</td>\n",
       "      <td>...</td>\n",
       "      <td>...</td>\n",
       "      <td>...</td>\n",
       "      <td>...</td>\n",
       "      <td>...</td>\n",
       "      <td>...</td>\n",
       "      <td>...</td>\n",
       "      <td>...</td>\n",
       "      <td>...</td>\n",
       "      <td>...</td>\n",
       "      <td>...</td>\n",
       "      <td>...</td>\n",
       "      <td>...</td>\n",
       "      <td>...</td>\n",
       "      <td>...</td>\n",
       "      <td>...</td>\n",
       "      <td>...</td>\n",
       "      <td>...</td>\n",
       "      <td>...</td>\n",
       "      <td>...</td>\n",
       "    </tr>\n",
       "    <tr>\n",
       "      <th>103</th>\n",
       "      <td>Homme</td>\n",
       "      <td>3</td>\n",
       "      <td>76</td>\n",
       "      <td>2018</td>\n",
       "      <td>42.9</td>\n",
       "      <td>52.85</td>\n",
       "      <td>49.8</td>\n",
       "      <td>44.2</td>\n",
       "      <td>55.6</td>\n",
       "      <td>46.7</td>\n",
       "      <td>...</td>\n",
       "      <td>48.7</td>\n",
       "      <td>45.6</td>\n",
       "      <td>47.7</td>\n",
       "      <td>52.2</td>\n",
       "      <td>51.7</td>\n",
       "      <td>39.0</td>\n",
       "      <td>51.6</td>\n",
       "      <td>49.1</td>\n",
       "      <td>56.2</td>\n",
       "      <td>37.0</td>\n",
       "    </tr>\n",
       "    <tr>\n",
       "      <th>104</th>\n",
       "      <td>Homme</td>\n",
       "      <td>3</td>\n",
       "      <td>84</td>\n",
       "      <td>2018</td>\n",
       "      <td>44.2</td>\n",
       "      <td>42.05</td>\n",
       "      <td>47.3</td>\n",
       "      <td>46.2</td>\n",
       "      <td>48.8</td>\n",
       "      <td>49.9</td>\n",
       "      <td>...</td>\n",
       "      <td>48.6</td>\n",
       "      <td>44.5</td>\n",
       "      <td>44.7</td>\n",
       "      <td>52.3</td>\n",
       "      <td>59.3</td>\n",
       "      <td>40.8</td>\n",
       "      <td>51.0</td>\n",
       "      <td>50.1</td>\n",
       "      <td>54.7</td>\n",
       "      <td>37.7</td>\n",
       "    </tr>\n",
       "    <tr>\n",
       "      <th>105</th>\n",
       "      <td>Homme</td>\n",
       "      <td>3</td>\n",
       "      <td>93</td>\n",
       "      <td>2018</td>\n",
       "      <td>44.5</td>\n",
       "      <td>45.95</td>\n",
       "      <td>48.9</td>\n",
       "      <td>50.3</td>\n",
       "      <td>48.6</td>\n",
       "      <td>39.5</td>\n",
       "      <td>...</td>\n",
       "      <td>47.7</td>\n",
       "      <td>44.9</td>\n",
       "      <td>43.0</td>\n",
       "      <td>55.0</td>\n",
       "      <td>52.4</td>\n",
       "      <td>39.5</td>\n",
       "      <td>46.5</td>\n",
       "      <td>51.9</td>\n",
       "      <td>52.5</td>\n",
       "      <td>37.7</td>\n",
       "    </tr>\n",
       "    <tr>\n",
       "      <th>106</th>\n",
       "      <td>Homme</td>\n",
       "      <td>3</td>\n",
       "      <td>94</td>\n",
       "      <td>2018</td>\n",
       "      <td>46.8</td>\n",
       "      <td>29.00</td>\n",
       "      <td>56.9</td>\n",
       "      <td>51.3</td>\n",
       "      <td>57.7</td>\n",
       "      <td>46.1</td>\n",
       "      <td>...</td>\n",
       "      <td>54.3</td>\n",
       "      <td>50.3</td>\n",
       "      <td>51.5</td>\n",
       "      <td>63.7</td>\n",
       "      <td>0.0</td>\n",
       "      <td>47.6</td>\n",
       "      <td>53.8</td>\n",
       "      <td>53.0</td>\n",
       "      <td>55.6</td>\n",
       "      <td>48.7</td>\n",
       "    </tr>\n",
       "    <tr>\n",
       "      <th>107</th>\n",
       "      <td>Homme</td>\n",
       "      <td>3</td>\n",
       "      <td>FR</td>\n",
       "      <td>2018</td>\n",
       "      <td>42.5</td>\n",
       "      <td>43.65</td>\n",
       "      <td>46.8</td>\n",
       "      <td>42.1</td>\n",
       "      <td>50.0</td>\n",
       "      <td>43.2</td>\n",
       "      <td>...</td>\n",
       "      <td>46.9</td>\n",
       "      <td>39.7</td>\n",
       "      <td>43.7</td>\n",
       "      <td>48.1</td>\n",
       "      <td>53.5</td>\n",
       "      <td>36.0</td>\n",
       "      <td>50.8</td>\n",
       "      <td>46.0</td>\n",
       "      <td>51.8</td>\n",
       "      <td>33.5</td>\n",
       "    </tr>\n",
       "  </tbody>\n",
       "</table>\n",
       "<p>108 rows × 51 columns</p>\n",
       "</div>"
      ],
      "text/plain": [
       "categorie_type gender years area year_source Aides bénéficiées         \\\n",
       "categories                                                 Non    Oui   \n",
       "0               Femme     1   01        2018               0.0   0.00   \n",
       "1               Femme     1   02        2018               0.0   0.00   \n",
       "2               Femme     1   03        2018               0.0   0.00   \n",
       "3               Femme     1   04        2018               0.0   0.00   \n",
       "4               Femme     1   11        2018              71.8  76.25   \n",
       "..                ...   ...  ...         ...               ...    ...   \n",
       "103             Homme     3   76        2018              42.9  52.85   \n",
       "104             Homme     3   84        2018              44.2  42.05   \n",
       "105             Homme     3   93        2018              44.5  45.95   \n",
       "106             Homme     3   94        2018              46.8  29.00   \n",
       "107             Homme     3   FR        2018              42.5  43.65   \n",
       "\n",
       "categorie_type Diplôme le plus élevé à la création                        \\\n",
       "categories                Aucun diplôme qualifiant Baccalauréat CAP, BEP   \n",
       "0                                              0.0          0.0      0.0   \n",
       "1                                              0.0          0.0      0.0   \n",
       "2                                              0.0          0.0      0.0   \n",
       "3                                              0.0          0.0      0.0   \n",
       "4                                             77.4         70.7     72.0   \n",
       "..                                             ...          ...      ...   \n",
       "103                                           49.8         44.2     55.6   \n",
       "104                                           47.3         46.2     48.8   \n",
       "105                                           48.9         50.3     48.6   \n",
       "106                                           56.9         51.3     57.7   \n",
       "107                                           46.8         42.1     50.0   \n",
       "\n",
       "categorie_type                                    ...  \\\n",
       "categories     Diplôme du supérieur de 1er cycle  ...   \n",
       "0                                            0.0  ...   \n",
       "1                                            0.0  ...   \n",
       "2                                            0.0  ...   \n",
       "3                                            0.0  ...   \n",
       "4                                           78.5  ...   \n",
       "..                                           ...  ...   \n",
       "103                                         46.7  ...   \n",
       "104                                         49.9  ...   \n",
       "105                                         39.5  ...   \n",
       "106                                         46.1  ...   \n",
       "107                                         43.2  ...   \n",
       "\n",
       "categorie_type Situation personnelle au moment de la création        \\\n",
       "categories                                          En couple  Seul   \n",
       "0                                                         0.0   0.0   \n",
       "1                                                         0.0   0.0   \n",
       "2                                                         0.0   0.0   \n",
       "3                                                         0.0   0.0   \n",
       "4                                                        79.3  68.3   \n",
       "..                                                        ...   ...   \n",
       "103                                                      48.7  45.6   \n",
       "104                                                      48.6  44.5   \n",
       "105                                                      47.7  44.9   \n",
       "106                                                      54.3  50.3   \n",
       "107                                                      46.9  39.7   \n",
       "\n",
       "categorie_type                                                     Situation professionnelle au moment de la création  \\\n",
       "categories     Agent de la fonction publique, Salarié du secteur privé, Intérimaire en CDD, Intermittent du spectacle   \n",
       "0                                                             0.0                                                       \n",
       "1                                                             0.0                                                       \n",
       "2                                                             0.0                                                       \n",
       "3                                                             0.0                                                       \n",
       "4                                                            75.8                                                       \n",
       "..                                                            ...                                                       \n",
       "103                                                          47.7                                                       \n",
       "104                                                          44.7                                                       \n",
       "105                                                          43.0                                                       \n",
       "106                                                          51.5                                                       \n",
       "107                                                          43.7                                                       \n",
       "\n",
       "categorie_type                                                            \\\n",
       "categories     Au chômage Indépendant, chef d’entreprise salarié, P.D.G.   \n",
       "0                     0.0                                            0.0   \n",
       "1                     0.0                                            0.0   \n",
       "2                     0.0                                            0.0   \n",
       "3                     0.0                                            0.0   \n",
       "4                    80.3                                           87.3   \n",
       "..                    ...                                            ...   \n",
       "103                  52.2                                           51.7   \n",
       "104                  52.3                                           59.3   \n",
       "105                  55.0                                           52.4   \n",
       "106                  63.7                                            0.0   \n",
       "107                  48.1                                           53.5   \n",
       "\n",
       "categorie_type                                                    \\\n",
       "categories     Étudiant, Sans activité professionnelle, Retraité   \n",
       "0                                                            0.0   \n",
       "1                                                            0.0   \n",
       "2                                                            0.0   \n",
       "3                                                            0.0   \n",
       "4                                                           64.0   \n",
       "..                                                           ...   \n",
       "103                                                         39.0   \n",
       "104                                                         40.8   \n",
       "105                                                         39.5   \n",
       "106                                                         47.6   \n",
       "107                                                         36.0   \n",
       "\n",
       "categorie_type Tranche d'âge du créateur à la création                     \\\n",
       "categories                              50 ans ou plus Entre 30 et 39 ans   \n",
       "0                                                  0.0                0.0   \n",
       "1                                                  0.0                0.0   \n",
       "2                                                  0.0                0.0   \n",
       "3                                                  0.0                0.0   \n",
       "4                                                 85.6               79.0   \n",
       "..                                                 ...                ...   \n",
       "103                                               51.6               49.1   \n",
       "104                                               51.0               50.1   \n",
       "105                                               46.5               51.9   \n",
       "106                                               53.8               53.0   \n",
       "107                                               50.8               46.0   \n",
       "\n",
       "categorie_type                                     \n",
       "categories     Entre 40 et 49 ans Moins de 30 ans  \n",
       "0                             0.0             0.0  \n",
       "1                             0.0             0.0  \n",
       "2                             0.0             0.0  \n",
       "3                             0.0             0.0  \n",
       "4                            90.1            58.6  \n",
       "..                            ...             ...  \n",
       "103                          56.2            37.0  \n",
       "104                          54.7            37.7  \n",
       "105                          52.5            37.7  \n",
       "106                          55.6            48.7  \n",
       "107                          51.8            33.5  \n",
       "\n",
       "[108 rows x 51 columns]"
      ]
     },
     "execution_count": 208,
     "metadata": {},
     "output_type": "execute_result"
    }
   ],
   "source": [
    "df_2018_pivot"
   ]
  },
  {
   "cell_type": "code",
   "execution_count": 209,
   "id": "fca7515f",
   "metadata": {},
   "outputs": [
    {
     "name": "stdout",
     "output_type": "stream",
     "text": [
      "<class 'pandas.core.frame.DataFrame'>\n",
      "RangeIndex: 108 entries, 0 to 107\n",
      "Data columns (total 51 columns):\n",
      " #   Column                                                                                                                                                          Non-Null Count  Dtype  \n",
      "---  ------                                                                                                                                                          --------------  -----  \n",
      " 0   (gender, )                                                                                                                                                      108 non-null    object \n",
      " 1   (years, )                                                                                                                                                       108 non-null    int64  \n",
      " 2   (area, )                                                                                                                                                        108 non-null    object \n",
      " 3   (year_source, )                                                                                                                                                 108 non-null    int64  \n",
      " 4   (Aides bénéficiées, Non)                                                                                                                                        108 non-null    float64\n",
      " 5   (Aides bénéficiées, Oui)                                                                                                                                        108 non-null    float64\n",
      " 6   (Diplôme le plus élevé à la création, Aucun diplôme qualifiant)                                                                                                 108 non-null    float64\n",
      " 7   (Diplôme le plus élevé à la création, Baccalauréat)                                                                                                             108 non-null    float64\n",
      " 8   (Diplôme le plus élevé à la création, CAP, BEP)                                                                                                                 108 non-null    float64\n",
      " 9   (Diplôme le plus élevé à la création, Diplôme du supérieur de 1er cycle)                                                                                        108 non-null    float64\n",
      " 10  (Diplôme le plus élevé à la création, Diplôme du supérieur de 2e ou 3e cycle)                                                                                   108 non-null    float64\n",
      " 11  (Expérience du créateur dans le métier principal, Aucune expérience)                                                                                            108 non-null    float64\n",
      " 12  (Expérience du créateur dans le métier principal, De 3 à 10 ans)                                                                                                108 non-null    float64\n",
      " 13  (Expérience du créateur dans le métier principal, Moins de 3 ans)                                                                                               108 non-null    float64\n",
      " 14  (Expérience du créateur dans le métier principal, Plus de 10 ans)                                                                                               108 non-null    float64\n",
      " 15  (Formation particulière suivie pour la création, Non)                                                                                                           108 non-null    float64\n",
      " 16  (Formation particulière suivie pour la création, Oui)                                                                                                           108 non-null    float64\n",
      " 17  (Motivations à la création, Créer son emploi)                                                                                                                   108 non-null    float64\n",
      " 18  (Motivations à la création, Indépendance / liberté)                                                                                                             108 non-null    float64\n",
      " 19  (Motivations à la création, Revenus)                                                                                                                            108 non-null    float64\n",
      " 20  (Motivations à la création, Tester un projet)                                                                                                                   108 non-null    float64\n",
      " 21  (Moyens financiers nécessaires pour démarrer, 4 000€ ou plus)                                                                                                   108 non-null    float64\n",
      " 22  (Moyens financiers nécessaires pour démarrer, De 1 000€ à moins de 4 000€)                                                                                      108 non-null    float64\n",
      " 23  (Moyens financiers nécessaires pour démarrer, Moins de 1 000€)                                                                                                  108 non-null    float64\n",
      " 24  (Nombre de créations ou reprises au préalable, Non)                                                                                                             108 non-null    float64\n",
      " 25  (Nombre de créations ou reprises au préalable, Oui)                                                                                                             108 non-null    float64\n",
      " 26  (Principales difficultés rencontrées lors de la création, Aucune difficulté particulière)                                                                       108 non-null    float64\n",
      " 27  (Principales difficultés rencontrées lors de la création, Autres difficultés)                                                                                   108 non-null    float64\n",
      " 28  (Principales difficultés rencontrées lors de la création, Connaître la législation en vigueur)                                                                  108 non-null    float64\n",
      " 29  (Principales difficultés rencontrées lors de la création, Effectuer seul les démarches)                                                                         108 non-null    float64\n",
      " 30  (Principales difficultés rencontrées lors de la création, Etablir des contacts avec la clientèle)                                                               108 non-null    float64\n",
      " 31  (Principales difficultés rencontrées lors de la création, Fixer le prix de vos produits et services)                                                            108 non-null    float64\n",
      " 32  (Principales difficultés rencontrées lors de la création, Obtenir l'autorisation d'un découvert bancaire)                                                       108 non-null    float64\n",
      " 33  (Principales difficultés rencontrées lors de la création, Obtenir un financement)                                                                               108 non-null    float64\n",
      " 34  (Principales difficultés rencontrées lors de la création, Ouvrir un compte bancaire)                                                                            108 non-null    float64\n",
      " 35  (Principales difficultés rencontrées lors de la création, Régler les formalités administratives)                                                                108 non-null    float64\n",
      " 36  (Principales difficultés rencontrées lors de la création, Trouver un local commercial approprié)                                                                108 non-null    float64\n",
      " 37  (Secteur d'activité, Commerce de gros et de détail, transports, hébergement et restauration)                                                                    108 non-null    float64\n",
      " 38  (Secteur d'activité, Enseignement, santé humaine, action sociale et autres activités de services)                                                               108 non-null    float64\n",
      " 39  (Secteur d'activité, Industrie et construction)                                                                                                                 108 non-null    float64\n",
      " 40  (Secteur d'activité, Information-communication, finance-assurance, immobilier - activités scientifiques et techniques - services administratifs et de soutien)  108 non-null    float64\n",
      " 41  (Situation personnelle au moment de la création, En couple)                                                                                                     108 non-null    float64\n",
      " 42  (Situation personnelle au moment de la création, Seul)                                                                                                          108 non-null    float64\n",
      " 43  (Situation professionnelle au moment de la création, Agent de la fonction publique, Salarié du secteur privé, Intérimaire en CDD, Intermittent du spectacle)    108 non-null    float64\n",
      " 44  (Situation professionnelle au moment de la création, Au chômage)                                                                                                108 non-null    float64\n",
      " 45  (Situation professionnelle au moment de la création, Indépendant, chef d’entreprise salarié, P.D.G.)                                                            108 non-null    float64\n",
      " 46  (Situation professionnelle au moment de la création, Étudiant, Sans activité professionnelle, Retraité)                                                         108 non-null    float64\n",
      " 47  (Tranche d'âge du créateur à la création, 50 ans ou plus)                                                                                                       108 non-null    float64\n",
      " 48  (Tranche d'âge du créateur à la création, Entre 30 et 39 ans)                                                                                                   108 non-null    float64\n",
      " 49  (Tranche d'âge du créateur à la création, Entre 40 et 49 ans)                                                                                                   108 non-null    float64\n",
      " 50  (Tranche d'âge du créateur à la création, Moins de 30 ans)                                                                                                      108 non-null    float64\n",
      "dtypes: float64(47), int64(2), object(2)\n",
      "memory usage: 43.2+ KB\n"
     ]
    }
   ],
   "source": [
    "df_2018_pivot.info()"
   ]
  },
  {
   "cell_type": "markdown",
   "id": "55c77d37",
   "metadata": {},
   "source": [
    "# Merge data"
   ]
  },
  {
   "cell_type": "markdown",
   "id": "cb583300",
   "metadata": {},
   "source": [
    "notons ici que les données 2018 ne sont pas complètes dans la première et deucième année après la création de l'entreprise. Nous avons uniquement les données nationale et non régionale. \n",
    "nous allons faire un filtre pour ne garder que les données nationales sur les 2 datasets, pour les 1ère et 2ème années après la création"
   ]
  },
  {
   "cell_type": "code",
   "execution_count": 210,
   "id": "505a6caf",
   "metadata": {},
   "outputs": [],
   "source": [
    "def merge_dataset(df_2014, df_2018):\n",
    "\n",
    "    df_total = pd.concat([df_2014, df_2018], ignore_index=True)\n",
    "    \n",
    "    df_filtered = df_total[\n",
    "        (df_total[\"years\"] == 3) |\n",
    "        ((df_total[\"years\"].isin([1, 2])) & (df_total[\"area\"] == \"FR\"))\n",
    "    ]\n",
    "    \n",
    "    return df_filtered"
   ]
  },
  {
   "cell_type": "code",
   "execution_count": 211,
   "id": "c615e9bf",
   "metadata": {},
   "outputs": [],
   "source": [
    "df_alldata = merge_dataset(df_2014_pivot, df_2018_pivot)"
   ]
  },
  {
   "cell_type": "code",
   "execution_count": 212,
   "id": "5725f18b",
   "metadata": {},
   "outputs": [
    {
     "data": {
      "text/html": [
       "<div>\n",
       "<style scoped>\n",
       "    .dataframe tbody tr th:only-of-type {\n",
       "        vertical-align: middle;\n",
       "    }\n",
       "\n",
       "    .dataframe tbody tr th {\n",
       "        vertical-align: top;\n",
       "    }\n",
       "\n",
       "    .dataframe thead th {\n",
       "        text-align: right;\n",
       "    }\n",
       "</style>\n",
       "<table border=\"1\" class=\"dataframe\">\n",
       "  <thead>\n",
       "    <tr style=\"text-align: right;\">\n",
       "      <th>categories</th>\n",
       "      <th>Commerce de gros et de détail, transports, hébergement et restauration</th>\n",
       "      <th>Enseignement, santé humaine, action sociale et autres activités de services</th>\n",
       "      <th>Industrie et construction</th>\n",
       "      <th>Information-communication, finance-assurance, immobilier - activités scientifiques et techniques - services administratifs et de soutien</th>\n",
       "    </tr>\n",
       "  </thead>\n",
       "  <tbody>\n",
       "    <tr>\n",
       "      <th>17</th>\n",
       "      <td>87.6</td>\n",
       "      <td>91.90</td>\n",
       "      <td>89.50</td>\n",
       "      <td>90.40</td>\n",
       "    </tr>\n",
       "    <tr>\n",
       "      <th>35</th>\n",
       "      <td>77.6</td>\n",
       "      <td>84.50</td>\n",
       "      <td>77.20</td>\n",
       "      <td>81.40</td>\n",
       "    </tr>\n",
       "    <tr>\n",
       "      <th>36</th>\n",
       "      <td>65.7</td>\n",
       "      <td>74.90</td>\n",
       "      <td>0.00</td>\n",
       "      <td>67.60</td>\n",
       "    </tr>\n",
       "    <tr>\n",
       "      <th>37</th>\n",
       "      <td>69.7</td>\n",
       "      <td>65.80</td>\n",
       "      <td>0.00</td>\n",
       "      <td>80.60</td>\n",
       "    </tr>\n",
       "    <tr>\n",
       "      <th>38</th>\n",
       "      <td>58.6</td>\n",
       "      <td>76.70</td>\n",
       "      <td>0.00</td>\n",
       "      <td>0.00</td>\n",
       "    </tr>\n",
       "    <tr>\n",
       "      <th>...</th>\n",
       "      <td>...</td>\n",
       "      <td>...</td>\n",
       "      <td>...</td>\n",
       "      <td>...</td>\n",
       "    </tr>\n",
       "    <tr>\n",
       "      <th>211</th>\n",
       "      <td>37.8</td>\n",
       "      <td>53.65</td>\n",
       "      <td>58.60</td>\n",
       "      <td>45.55</td>\n",
       "    </tr>\n",
       "    <tr>\n",
       "      <th>212</th>\n",
       "      <td>34.2</td>\n",
       "      <td>54.35</td>\n",
       "      <td>57.40</td>\n",
       "      <td>46.70</td>\n",
       "    </tr>\n",
       "    <tr>\n",
       "      <th>213</th>\n",
       "      <td>35.3</td>\n",
       "      <td>48.55</td>\n",
       "      <td>57.85</td>\n",
       "      <td>47.25</td>\n",
       "    </tr>\n",
       "    <tr>\n",
       "      <th>214</th>\n",
       "      <td>53.8</td>\n",
       "      <td>25.70</td>\n",
       "      <td>28.40</td>\n",
       "      <td>25.30</td>\n",
       "    </tr>\n",
       "    <tr>\n",
       "      <th>215</th>\n",
       "      <td>34.1</td>\n",
       "      <td>50.60</td>\n",
       "      <td>54.80</td>\n",
       "      <td>43.75</td>\n",
       "    </tr>\n",
       "  </tbody>\n",
       "</table>\n",
       "<p>80 rows × 4 columns</p>\n",
       "</div>"
      ],
      "text/plain": [
       "categories  Commerce de gros et de détail, transports, hébergement et restauration  \\\n",
       "17                                                       87.6                        \n",
       "35                                                       77.6                        \n",
       "36                                                       65.7                        \n",
       "37                                                       69.7                        \n",
       "38                                                       58.6                        \n",
       "..                                                        ...                        \n",
       "211                                                      37.8                        \n",
       "212                                                      34.2                        \n",
       "213                                                      35.3                        \n",
       "214                                                      53.8                        \n",
       "215                                                      34.1                        \n",
       "\n",
       "categories  Enseignement, santé humaine, action sociale et autres activités de services  \\\n",
       "17                                                      91.90                             \n",
       "35                                                      84.50                             \n",
       "36                                                      74.90                             \n",
       "37                                                      65.80                             \n",
       "38                                                      76.70                             \n",
       "..                                                        ...                             \n",
       "211                                                     53.65                             \n",
       "212                                                     54.35                             \n",
       "213                                                     48.55                             \n",
       "214                                                     25.70                             \n",
       "215                                                     50.60                             \n",
       "\n",
       "categories  Industrie et construction  \\\n",
       "17                              89.50   \n",
       "35                              77.20   \n",
       "36                               0.00   \n",
       "37                               0.00   \n",
       "38                               0.00   \n",
       "..                                ...   \n",
       "211                             58.60   \n",
       "212                             57.40   \n",
       "213                             57.85   \n",
       "214                             28.40   \n",
       "215                             54.80   \n",
       "\n",
       "categories  Information-communication, finance-assurance, immobilier - activités scientifiques et techniques - services administratifs et de soutien  \n",
       "17                                                      90.40                                                                                         \n",
       "35                                                      81.40                                                                                         \n",
       "36                                                      67.60                                                                                         \n",
       "37                                                      80.60                                                                                         \n",
       "38                                                       0.00                                                                                         \n",
       "..                                                        ...                                                                                         \n",
       "211                                                     45.55                                                                                         \n",
       "212                                                     46.70                                                                                         \n",
       "213                                                     47.25                                                                                         \n",
       "214                                                     25.30                                                                                         \n",
       "215                                                     43.75                                                                                         \n",
       "\n",
       "[80 rows x 4 columns]"
      ]
     },
     "execution_count": 212,
     "metadata": {},
     "output_type": "execute_result"
    }
   ],
   "source": [
    "df_alldata[\"Secteur d'activité\"]"
   ]
  },
  {
   "cell_type": "code",
   "execution_count": 213,
   "id": "18c2214a",
   "metadata": {},
   "outputs": [
    {
     "data": {
      "text/html": [
       "<div>\n",
       "<style scoped>\n",
       "    .dataframe tbody tr th:only-of-type {\n",
       "        vertical-align: middle;\n",
       "    }\n",
       "\n",
       "    .dataframe tbody tr th {\n",
       "        vertical-align: top;\n",
       "    }\n",
       "\n",
       "    .dataframe thead tr th {\n",
       "        text-align: left;\n",
       "    }\n",
       "</style>\n",
       "<table border=\"1\" class=\"dataframe\">\n",
       "  <thead>\n",
       "    <tr>\n",
       "      <th>categorie_type</th>\n",
       "      <th>gender</th>\n",
       "      <th>years</th>\n",
       "      <th>area</th>\n",
       "      <th>year_source</th>\n",
       "      <th colspan=\"2\" halign=\"left\">Aides bénéficiées</th>\n",
       "      <th colspan=\"4\" halign=\"left\">Diplôme le plus élevé à la création</th>\n",
       "      <th>...</th>\n",
       "      <th colspan=\"2\" halign=\"left\">Situation personnelle au moment de la création</th>\n",
       "      <th colspan=\"4\" halign=\"left\">Situation professionnelle au moment de la création</th>\n",
       "      <th colspan=\"4\" halign=\"left\">Tranche d'âge du créateur à la création</th>\n",
       "    </tr>\n",
       "    <tr>\n",
       "      <th>categories</th>\n",
       "      <th></th>\n",
       "      <th></th>\n",
       "      <th></th>\n",
       "      <th></th>\n",
       "      <th>Non</th>\n",
       "      <th>Oui</th>\n",
       "      <th>Aucun diplôme qualifiant</th>\n",
       "      <th>Baccalauréat</th>\n",
       "      <th>CAP, BEP</th>\n",
       "      <th>Diplôme du supérieur de 1er cycle</th>\n",
       "      <th>...</th>\n",
       "      <th>En couple</th>\n",
       "      <th>Seul</th>\n",
       "      <th>Agent de la fonction publique, Salarié du secteur privé, Intérimaire en CDD, Intermittent du spectacle</th>\n",
       "      <th>Au chômage</th>\n",
       "      <th>Indépendant, chef d’entreprise salarié, P.D.G.</th>\n",
       "      <th>Étudiant, Sans activité professionnelle, Retraité</th>\n",
       "      <th>50 ans ou plus</th>\n",
       "      <th>Entre 30 et 39 ans</th>\n",
       "      <th>Entre 40 et 49 ans</th>\n",
       "      <th>Moins de 30 ans</th>\n",
       "    </tr>\n",
       "  </thead>\n",
       "  <tbody>\n",
       "    <tr>\n",
       "      <th>17</th>\n",
       "      <td>Femme</td>\n",
       "      <td>1</td>\n",
       "      <td>FR</td>\n",
       "      <td>2014</td>\n",
       "      <td>91.0</td>\n",
       "      <td>88.60</td>\n",
       "      <td>87.1</td>\n",
       "      <td>90.0</td>\n",
       "      <td>87.3</td>\n",
       "      <td>90.9</td>\n",
       "      <td>...</td>\n",
       "      <td>89.5</td>\n",
       "      <td>90.1</td>\n",
       "      <td>90.9</td>\n",
       "      <td>87.2</td>\n",
       "      <td>93.6</td>\n",
       "      <td>87.6</td>\n",
       "      <td>90.6</td>\n",
       "      <td>89.7</td>\n",
       "      <td>92.2</td>\n",
       "      <td>86.9</td>\n",
       "    </tr>\n",
       "    <tr>\n",
       "      <th>35</th>\n",
       "      <td>Femme</td>\n",
       "      <td>2</td>\n",
       "      <td>FR</td>\n",
       "      <td>2014</td>\n",
       "      <td>82.5</td>\n",
       "      <td>78.50</td>\n",
       "      <td>75.1</td>\n",
       "      <td>80.7</td>\n",
       "      <td>74.4</td>\n",
       "      <td>81.9</td>\n",
       "      <td>...</td>\n",
       "      <td>79.6</td>\n",
       "      <td>81.2</td>\n",
       "      <td>81.8</td>\n",
       "      <td>76.0</td>\n",
       "      <td>86.6</td>\n",
       "      <td>78.5</td>\n",
       "      <td>81.4</td>\n",
       "      <td>80.2</td>\n",
       "      <td>83.2</td>\n",
       "      <td>78.0</td>\n",
       "    </tr>\n",
       "    <tr>\n",
       "      <th>36</th>\n",
       "      <td>Femme</td>\n",
       "      <td>3</td>\n",
       "      <td>01</td>\n",
       "      <td>2014</td>\n",
       "      <td>67.4</td>\n",
       "      <td>74.10</td>\n",
       "      <td>70.6</td>\n",
       "      <td>64.1</td>\n",
       "      <td>0.0</td>\n",
       "      <td>77.6</td>\n",
       "      <td>...</td>\n",
       "      <td>68.7</td>\n",
       "      <td>70.6</td>\n",
       "      <td>72.5</td>\n",
       "      <td>64.9</td>\n",
       "      <td>74.5</td>\n",
       "      <td>68.5</td>\n",
       "      <td>69.4</td>\n",
       "      <td>67.7</td>\n",
       "      <td>76.5</td>\n",
       "      <td>64.3</td>\n",
       "    </tr>\n",
       "    <tr>\n",
       "      <th>37</th>\n",
       "      <td>Femme</td>\n",
       "      <td>3</td>\n",
       "      <td>02</td>\n",
       "      <td>2014</td>\n",
       "      <td>77.3</td>\n",
       "      <td>68.00</td>\n",
       "      <td>0.0</td>\n",
       "      <td>0.0</td>\n",
       "      <td>0.0</td>\n",
       "      <td>84.0</td>\n",
       "      <td>...</td>\n",
       "      <td>72.8</td>\n",
       "      <td>75.1</td>\n",
       "      <td>81.0</td>\n",
       "      <td>65.1</td>\n",
       "      <td>84.8</td>\n",
       "      <td>0.0</td>\n",
       "      <td>71.0</td>\n",
       "      <td>71.8</td>\n",
       "      <td>80.1</td>\n",
       "      <td>71.7</td>\n",
       "    </tr>\n",
       "    <tr>\n",
       "      <th>38</th>\n",
       "      <td>Femme</td>\n",
       "      <td>3</td>\n",
       "      <td>03</td>\n",
       "      <td>2014</td>\n",
       "      <td>68.6</td>\n",
       "      <td>0.00</td>\n",
       "      <td>0.0</td>\n",
       "      <td>0.0</td>\n",
       "      <td>0.0</td>\n",
       "      <td>0.0</td>\n",
       "      <td>...</td>\n",
       "      <td>64.1</td>\n",
       "      <td>73.0</td>\n",
       "      <td>76.1</td>\n",
       "      <td>0.0</td>\n",
       "      <td>0.0</td>\n",
       "      <td>0.0</td>\n",
       "      <td>0.0</td>\n",
       "      <td>73.8</td>\n",
       "      <td>0.0</td>\n",
       "      <td>0.0</td>\n",
       "    </tr>\n",
       "    <tr>\n",
       "      <th>...</th>\n",
       "      <td>...</td>\n",
       "      <td>...</td>\n",
       "      <td>...</td>\n",
       "      <td>...</td>\n",
       "      <td>...</td>\n",
       "      <td>...</td>\n",
       "      <td>...</td>\n",
       "      <td>...</td>\n",
       "      <td>...</td>\n",
       "      <td>...</td>\n",
       "      <td>...</td>\n",
       "      <td>...</td>\n",
       "      <td>...</td>\n",
       "      <td>...</td>\n",
       "      <td>...</td>\n",
       "      <td>...</td>\n",
       "      <td>...</td>\n",
       "      <td>...</td>\n",
       "      <td>...</td>\n",
       "      <td>...</td>\n",
       "      <td>...</td>\n",
       "    </tr>\n",
       "    <tr>\n",
       "      <th>211</th>\n",
       "      <td>Homme</td>\n",
       "      <td>3</td>\n",
       "      <td>76</td>\n",
       "      <td>2018</td>\n",
       "      <td>42.9</td>\n",
       "      <td>52.85</td>\n",
       "      <td>49.8</td>\n",
       "      <td>44.2</td>\n",
       "      <td>55.6</td>\n",
       "      <td>46.7</td>\n",
       "      <td>...</td>\n",
       "      <td>48.7</td>\n",
       "      <td>45.6</td>\n",
       "      <td>47.7</td>\n",
       "      <td>52.2</td>\n",
       "      <td>51.7</td>\n",
       "      <td>39.0</td>\n",
       "      <td>51.6</td>\n",
       "      <td>49.1</td>\n",
       "      <td>56.2</td>\n",
       "      <td>37.0</td>\n",
       "    </tr>\n",
       "    <tr>\n",
       "      <th>212</th>\n",
       "      <td>Homme</td>\n",
       "      <td>3</td>\n",
       "      <td>84</td>\n",
       "      <td>2018</td>\n",
       "      <td>44.2</td>\n",
       "      <td>42.05</td>\n",
       "      <td>47.3</td>\n",
       "      <td>46.2</td>\n",
       "      <td>48.8</td>\n",
       "      <td>49.9</td>\n",
       "      <td>...</td>\n",
       "      <td>48.6</td>\n",
       "      <td>44.5</td>\n",
       "      <td>44.7</td>\n",
       "      <td>52.3</td>\n",
       "      <td>59.3</td>\n",
       "      <td>40.8</td>\n",
       "      <td>51.0</td>\n",
       "      <td>50.1</td>\n",
       "      <td>54.7</td>\n",
       "      <td>37.7</td>\n",
       "    </tr>\n",
       "    <tr>\n",
       "      <th>213</th>\n",
       "      <td>Homme</td>\n",
       "      <td>3</td>\n",
       "      <td>93</td>\n",
       "      <td>2018</td>\n",
       "      <td>44.5</td>\n",
       "      <td>45.95</td>\n",
       "      <td>48.9</td>\n",
       "      <td>50.3</td>\n",
       "      <td>48.6</td>\n",
       "      <td>39.5</td>\n",
       "      <td>...</td>\n",
       "      <td>47.7</td>\n",
       "      <td>44.9</td>\n",
       "      <td>43.0</td>\n",
       "      <td>55.0</td>\n",
       "      <td>52.4</td>\n",
       "      <td>39.5</td>\n",
       "      <td>46.5</td>\n",
       "      <td>51.9</td>\n",
       "      <td>52.5</td>\n",
       "      <td>37.7</td>\n",
       "    </tr>\n",
       "    <tr>\n",
       "      <th>214</th>\n",
       "      <td>Homme</td>\n",
       "      <td>3</td>\n",
       "      <td>94</td>\n",
       "      <td>2018</td>\n",
       "      <td>46.8</td>\n",
       "      <td>29.00</td>\n",
       "      <td>56.9</td>\n",
       "      <td>51.3</td>\n",
       "      <td>57.7</td>\n",
       "      <td>46.1</td>\n",
       "      <td>...</td>\n",
       "      <td>54.3</td>\n",
       "      <td>50.3</td>\n",
       "      <td>51.5</td>\n",
       "      <td>63.7</td>\n",
       "      <td>0.0</td>\n",
       "      <td>47.6</td>\n",
       "      <td>53.8</td>\n",
       "      <td>53.0</td>\n",
       "      <td>55.6</td>\n",
       "      <td>48.7</td>\n",
       "    </tr>\n",
       "    <tr>\n",
       "      <th>215</th>\n",
       "      <td>Homme</td>\n",
       "      <td>3</td>\n",
       "      <td>FR</td>\n",
       "      <td>2018</td>\n",
       "      <td>42.5</td>\n",
       "      <td>43.65</td>\n",
       "      <td>46.8</td>\n",
       "      <td>42.1</td>\n",
       "      <td>50.0</td>\n",
       "      <td>43.2</td>\n",
       "      <td>...</td>\n",
       "      <td>46.9</td>\n",
       "      <td>39.7</td>\n",
       "      <td>43.7</td>\n",
       "      <td>48.1</td>\n",
       "      <td>53.5</td>\n",
       "      <td>36.0</td>\n",
       "      <td>50.8</td>\n",
       "      <td>46.0</td>\n",
       "      <td>51.8</td>\n",
       "      <td>33.5</td>\n",
       "    </tr>\n",
       "  </tbody>\n",
       "</table>\n",
       "<p>80 rows × 51 columns</p>\n",
       "</div>"
      ],
      "text/plain": [
       "categorie_type gender years area year_source Aides bénéficiées         \\\n",
       "categories                                                 Non    Oui   \n",
       "17              Femme     1   FR        2014              91.0  88.60   \n",
       "35              Femme     2   FR        2014              82.5  78.50   \n",
       "36              Femme     3   01        2014              67.4  74.10   \n",
       "37              Femme     3   02        2014              77.3  68.00   \n",
       "38              Femme     3   03        2014              68.6   0.00   \n",
       "..                ...   ...  ...         ...               ...    ...   \n",
       "211             Homme     3   76        2018              42.9  52.85   \n",
       "212             Homme     3   84        2018              44.2  42.05   \n",
       "213             Homme     3   93        2018              44.5  45.95   \n",
       "214             Homme     3   94        2018              46.8  29.00   \n",
       "215             Homme     3   FR        2018              42.5  43.65   \n",
       "\n",
       "categorie_type Diplôme le plus élevé à la création                        \\\n",
       "categories                Aucun diplôme qualifiant Baccalauréat CAP, BEP   \n",
       "17                                            87.1         90.0     87.3   \n",
       "35                                            75.1         80.7     74.4   \n",
       "36                                            70.6         64.1      0.0   \n",
       "37                                             0.0          0.0      0.0   \n",
       "38                                             0.0          0.0      0.0   \n",
       "..                                             ...          ...      ...   \n",
       "211                                           49.8         44.2     55.6   \n",
       "212                                           47.3         46.2     48.8   \n",
       "213                                           48.9         50.3     48.6   \n",
       "214                                           56.9         51.3     57.7   \n",
       "215                                           46.8         42.1     50.0   \n",
       "\n",
       "categorie_type                                    ...  \\\n",
       "categories     Diplôme du supérieur de 1er cycle  ...   \n",
       "17                                          90.9  ...   \n",
       "35                                          81.9  ...   \n",
       "36                                          77.6  ...   \n",
       "37                                          84.0  ...   \n",
       "38                                           0.0  ...   \n",
       "..                                           ...  ...   \n",
       "211                                         46.7  ...   \n",
       "212                                         49.9  ...   \n",
       "213                                         39.5  ...   \n",
       "214                                         46.1  ...   \n",
       "215                                         43.2  ...   \n",
       "\n",
       "categorie_type Situation personnelle au moment de la création        \\\n",
       "categories                                          En couple  Seul   \n",
       "17                                                       89.5  90.1   \n",
       "35                                                       79.6  81.2   \n",
       "36                                                       68.7  70.6   \n",
       "37                                                       72.8  75.1   \n",
       "38                                                       64.1  73.0   \n",
       "..                                                        ...   ...   \n",
       "211                                                      48.7  45.6   \n",
       "212                                                      48.6  44.5   \n",
       "213                                                      47.7  44.9   \n",
       "214                                                      54.3  50.3   \n",
       "215                                                      46.9  39.7   \n",
       "\n",
       "categorie_type                                                     Situation professionnelle au moment de la création  \\\n",
       "categories     Agent de la fonction publique, Salarié du secteur privé, Intérimaire en CDD, Intermittent du spectacle   \n",
       "17                                                           90.9                                                       \n",
       "35                                                           81.8                                                       \n",
       "36                                                           72.5                                                       \n",
       "37                                                           81.0                                                       \n",
       "38                                                           76.1                                                       \n",
       "..                                                            ...                                                       \n",
       "211                                                          47.7                                                       \n",
       "212                                                          44.7                                                       \n",
       "213                                                          43.0                                                       \n",
       "214                                                          51.5                                                       \n",
       "215                                                          43.7                                                       \n",
       "\n",
       "categorie_type                                                            \\\n",
       "categories     Au chômage Indépendant, chef d’entreprise salarié, P.D.G.   \n",
       "17                   87.2                                           93.6   \n",
       "35                   76.0                                           86.6   \n",
       "36                   64.9                                           74.5   \n",
       "37                   65.1                                           84.8   \n",
       "38                    0.0                                            0.0   \n",
       "..                    ...                                            ...   \n",
       "211                  52.2                                           51.7   \n",
       "212                  52.3                                           59.3   \n",
       "213                  55.0                                           52.4   \n",
       "214                  63.7                                            0.0   \n",
       "215                  48.1                                           53.5   \n",
       "\n",
       "categorie_type                                                    \\\n",
       "categories     Étudiant, Sans activité professionnelle, Retraité   \n",
       "17                                                          87.6   \n",
       "35                                                          78.5   \n",
       "36                                                          68.5   \n",
       "37                                                           0.0   \n",
       "38                                                           0.0   \n",
       "..                                                           ...   \n",
       "211                                                         39.0   \n",
       "212                                                         40.8   \n",
       "213                                                         39.5   \n",
       "214                                                         47.6   \n",
       "215                                                         36.0   \n",
       "\n",
       "categorie_type Tranche d'âge du créateur à la création                     \\\n",
       "categories                              50 ans ou plus Entre 30 et 39 ans   \n",
       "17                                                90.6               89.7   \n",
       "35                                                81.4               80.2   \n",
       "36                                                69.4               67.7   \n",
       "37                                                71.0               71.8   \n",
       "38                                                 0.0               73.8   \n",
       "..                                                 ...                ...   \n",
       "211                                               51.6               49.1   \n",
       "212                                               51.0               50.1   \n",
       "213                                               46.5               51.9   \n",
       "214                                               53.8               53.0   \n",
       "215                                               50.8               46.0   \n",
       "\n",
       "categorie_type                                     \n",
       "categories     Entre 40 et 49 ans Moins de 30 ans  \n",
       "17                           92.2            86.9  \n",
       "35                           83.2            78.0  \n",
       "36                           76.5            64.3  \n",
       "37                           80.1            71.7  \n",
       "38                            0.0             0.0  \n",
       "..                            ...             ...  \n",
       "211                          56.2            37.0  \n",
       "212                          54.7            37.7  \n",
       "213                          52.5            37.7  \n",
       "214                          55.6            48.7  \n",
       "215                          51.8            33.5  \n",
       "\n",
       "[80 rows x 51 columns]"
      ]
     },
     "execution_count": 213,
     "metadata": {},
     "output_type": "execute_result"
    }
   ],
   "source": [
    "df_alldata"
   ]
  },
  {
   "cell_type": "code",
   "execution_count": 214,
   "id": "7fffeb9f",
   "metadata": {},
   "outputs": [
    {
     "name": "stdout",
     "output_type": "stream",
     "text": [
      "<class 'pandas.core.frame.DataFrame'>\n",
      "Index: 80 entries, 17 to 215\n",
      "Data columns (total 51 columns):\n",
      " #   Column                                                                                                                                                          Non-Null Count  Dtype  \n",
      "---  ------                                                                                                                                                          --------------  -----  \n",
      " 0   (gender, )                                                                                                                                                      80 non-null     object \n",
      " 1   (years, )                                                                                                                                                       80 non-null     int64  \n",
      " 2   (area, )                                                                                                                                                        80 non-null     object \n",
      " 3   (year_source, )                                                                                                                                                 80 non-null     int64  \n",
      " 4   (Aides bénéficiées, Non)                                                                                                                                        80 non-null     float64\n",
      " 5   (Aides bénéficiées, Oui)                                                                                                                                        80 non-null     float64\n",
      " 6   (Diplôme le plus élevé à la création, Aucun diplôme qualifiant)                                                                                                 80 non-null     float64\n",
      " 7   (Diplôme le plus élevé à la création, Baccalauréat)                                                                                                             80 non-null     float64\n",
      " 8   (Diplôme le plus élevé à la création, CAP, BEP)                                                                                                                 80 non-null     float64\n",
      " 9   (Diplôme le plus élevé à la création, Diplôme du supérieur de 1er cycle)                                                                                        80 non-null     float64\n",
      " 10  (Diplôme le plus élevé à la création, Diplôme du supérieur de 2e ou 3e cycle)                                                                                   80 non-null     float64\n",
      " 11  (Expérience du créateur dans le métier principal, Aucune expérience)                                                                                            80 non-null     float64\n",
      " 12  (Expérience du créateur dans le métier principal, De 3 à 10 ans)                                                                                                80 non-null     float64\n",
      " 13  (Expérience du créateur dans le métier principal, Moins de 3 ans)                                                                                               80 non-null     float64\n",
      " 14  (Expérience du créateur dans le métier principal, Plus de 10 ans)                                                                                               80 non-null     float64\n",
      " 15  (Formation particulière suivie pour la création, Non)                                                                                                           80 non-null     float64\n",
      " 16  (Formation particulière suivie pour la création, Oui)                                                                                                           80 non-null     float64\n",
      " 17  (Motivations à la création, Créer son emploi)                                                                                                                   80 non-null     float64\n",
      " 18  (Motivations à la création, Indépendance / liberté)                                                                                                             80 non-null     float64\n",
      " 19  (Motivations à la création, Revenus)                                                                                                                            80 non-null     float64\n",
      " 20  (Motivations à la création, Tester un projet)                                                                                                                   80 non-null     float64\n",
      " 21  (Moyens financiers nécessaires pour démarrer, 4 000€ ou plus)                                                                                                   80 non-null     float64\n",
      " 22  (Moyens financiers nécessaires pour démarrer, De 1 000€ à moins de 4 000€)                                                                                      80 non-null     float64\n",
      " 23  (Moyens financiers nécessaires pour démarrer, Moins de 1 000€)                                                                                                  80 non-null     float64\n",
      " 24  (Nombre de créations ou reprises au préalable, Non)                                                                                                             80 non-null     float64\n",
      " 25  (Nombre de créations ou reprises au préalable, Oui)                                                                                                             80 non-null     float64\n",
      " 26  (Principales difficultés rencontrées lors de la création, Aucune difficulté particulière)                                                                       80 non-null     float64\n",
      " 27  (Principales difficultés rencontrées lors de la création, Autres difficultés)                                                                                   80 non-null     float64\n",
      " 28  (Principales difficultés rencontrées lors de la création, Connaître la législation en vigueur)                                                                  80 non-null     float64\n",
      " 29  (Principales difficultés rencontrées lors de la création, Effectuer seul les démarches)                                                                         80 non-null     float64\n",
      " 30  (Principales difficultés rencontrées lors de la création, Etablir des contacts avec la clientèle)                                                               80 non-null     float64\n",
      " 31  (Principales difficultés rencontrées lors de la création, Fixer le prix de vos produits et services)                                                            80 non-null     float64\n",
      " 32  (Principales difficultés rencontrées lors de la création, Obtenir l'autorisation d'un découvert bancaire)                                                       80 non-null     float64\n",
      " 33  (Principales difficultés rencontrées lors de la création, Obtenir un financement)                                                                               80 non-null     float64\n",
      " 34  (Principales difficultés rencontrées lors de la création, Ouvrir un compte bancaire)                                                                            80 non-null     float64\n",
      " 35  (Principales difficultés rencontrées lors de la création, Régler les formalités administratives)                                                                80 non-null     float64\n",
      " 36  (Principales difficultés rencontrées lors de la création, Trouver un local commercial approprié)                                                                80 non-null     float64\n",
      " 37  (Secteur d'activité, Commerce de gros et de détail, transports, hébergement et restauration)                                                                    80 non-null     float64\n",
      " 38  (Secteur d'activité, Enseignement, santé humaine, action sociale et autres activités de services)                                                               80 non-null     float64\n",
      " 39  (Secteur d'activité, Industrie et construction)                                                                                                                 80 non-null     float64\n",
      " 40  (Secteur d'activité, Information-communication, finance-assurance, immobilier - activités scientifiques et techniques - services administratifs et de soutien)  80 non-null     float64\n",
      " 41  (Situation personnelle au moment de la création, En couple)                                                                                                     80 non-null     float64\n",
      " 42  (Situation personnelle au moment de la création, Seul)                                                                                                          80 non-null     float64\n",
      " 43  (Situation professionnelle au moment de la création, Agent de la fonction publique, Salarié du secteur privé, Intérimaire en CDD, Intermittent du spectacle)    80 non-null     float64\n",
      " 44  (Situation professionnelle au moment de la création, Au chômage)                                                                                                80 non-null     float64\n",
      " 45  (Situation professionnelle au moment de la création, Indépendant, chef d’entreprise salarié, P.D.G.)                                                            80 non-null     float64\n",
      " 46  (Situation professionnelle au moment de la création, Étudiant, Sans activité professionnelle, Retraité)                                                         80 non-null     float64\n",
      " 47  (Tranche d'âge du créateur à la création, 50 ans ou plus)                                                                                                       80 non-null     float64\n",
      " 48  (Tranche d'âge du créateur à la création, Entre 30 et 39 ans)                                                                                                   80 non-null     float64\n",
      " 49  (Tranche d'âge du créateur à la création, Entre 40 et 49 ans)                                                                                                   80 non-null     float64\n",
      " 50  (Tranche d'âge du créateur à la création, Moins de 30 ans)                                                                                                      80 non-null     float64\n",
      "dtypes: float64(47), int64(2), object(2)\n",
      "memory usage: 32.5+ KB\n"
     ]
    }
   ],
   "source": [
    "df_alldata.info()"
   ]
  },
  {
   "cell_type": "code",
   "execution_count": null,
   "id": "c017ef2b",
   "metadata": {},
   "outputs": [],
   "source": []
  }
 ],
 "metadata": {
  "kernelspec": {
   "display_name": "Python (.venv)",
   "language": "python",
   "name": "venv"
  },
  "language_info": {
   "codemirror_mode": {
    "name": "ipython",
    "version": 3
   },
   "file_extension": ".py",
   "mimetype": "text/x-python",
   "name": "python",
   "nbconvert_exporter": "python",
   "pygments_lexer": "ipython3",
   "version": "3.12.10"
  }
 },
 "nbformat": 4,
 "nbformat_minor": 5
}
