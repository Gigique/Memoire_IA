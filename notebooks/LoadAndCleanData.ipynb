{
 "cells": [
  {
   "cell_type": "code",
   "execution_count": 36,
   "id": "d2a4a1f5",
   "metadata": {},
   "outputs": [
    {
     "name": "stdout",
     "output_type": "stream",
     "text": [
      "Requirement already satisfied: nbformat in c:\\users\\angel\\onedrive\\documents\\sorbonne\\mémoire\\projet_ia\\.venv\\lib\\site-packages (5.10.4)\n",
      "Requirement already satisfied: fastjsonschema>=2.15 in c:\\users\\angel\\onedrive\\documents\\sorbonne\\mémoire\\projet_ia\\.venv\\lib\\site-packages (from nbformat) (2.21.1)\n",
      "Requirement already satisfied: jsonschema>=2.6 in c:\\users\\angel\\onedrive\\documents\\sorbonne\\mémoire\\projet_ia\\.venv\\lib\\site-packages (from nbformat) (4.23.0)\n",
      "Requirement already satisfied: jupyter-core!=5.0.*,>=4.12 in c:\\users\\angel\\onedrive\\documents\\sorbonne\\mémoire\\projet_ia\\.venv\\lib\\site-packages (from nbformat) (5.7.2)\n",
      "Requirement already satisfied: traitlets>=5.1 in c:\\users\\angel\\onedrive\\documents\\sorbonne\\mémoire\\projet_ia\\.venv\\lib\\site-packages (from nbformat) (5.14.3)\n",
      "Requirement already satisfied: attrs>=22.2.0 in c:\\users\\angel\\onedrive\\documents\\sorbonne\\mémoire\\projet_ia\\.venv\\lib\\site-packages (from jsonschema>=2.6->nbformat) (25.3.0)\n",
      "Requirement already satisfied: jsonschema-specifications>=2023.03.6 in c:\\users\\angel\\onedrive\\documents\\sorbonne\\mémoire\\projet_ia\\.venv\\lib\\site-packages (from jsonschema>=2.6->nbformat) (2025.4.1)\n",
      "Requirement already satisfied: referencing>=0.28.4 in c:\\users\\angel\\onedrive\\documents\\sorbonne\\mémoire\\projet_ia\\.venv\\lib\\site-packages (from jsonschema>=2.6->nbformat) (0.36.2)\n",
      "Requirement already satisfied: rpds-py>=0.7.1 in c:\\users\\angel\\onedrive\\documents\\sorbonne\\mémoire\\projet_ia\\.venv\\lib\\site-packages (from jsonschema>=2.6->nbformat) (0.25.0)\n",
      "Requirement already satisfied: platformdirs>=2.5 in c:\\users\\angel\\onedrive\\documents\\sorbonne\\mémoire\\projet_ia\\.venv\\lib\\site-packages (from jupyter-core!=5.0.*,>=4.12->nbformat) (4.3.8)\n",
      "Requirement already satisfied: pywin32>=300 in c:\\users\\angel\\onedrive\\documents\\sorbonne\\mémoire\\projet_ia\\.venv\\lib\\site-packages (from jupyter-core!=5.0.*,>=4.12->nbformat) (310)\n",
      "Requirement already satisfied: typing-extensions>=4.4.0 in c:\\users\\angel\\onedrive\\documents\\sorbonne\\mémoire\\projet_ia\\.venv\\lib\\site-packages (from referencing>=0.28.4->jsonschema>=2.6->nbformat) (4.13.2)\n",
      "Note: you may need to restart the kernel to use updated packages.\n"
     ]
    },
    {
     "name": "stderr",
     "output_type": "stream",
     "text": [
      "\n",
      "[notice] A new release of pip is available: 25.0.1 -> 25.1.1\n",
      "[notice] To update, run: python.exe -m pip install --upgrade pip\n"
     ]
    }
   ],
   "source": [
    "pip install nbformat"
   ]
  },
  {
   "cell_type": "code",
   "execution_count": 37,
   "id": "1934cfc5",
   "metadata": {},
   "outputs": [],
   "source": [
    "import os\n",
    "import glob\n",
    "import pandas as pd\n",
    "import plotly.express as px"
   ]
  },
  {
   "cell_type": "markdown",
   "id": "3a8565ad",
   "metadata": {},
   "source": [
    "# Load & Clean Data"
   ]
  },
  {
   "cell_type": "markdown",
   "id": "bc8caf5e",
   "metadata": {},
   "source": [
    "## Import data"
   ]
  },
  {
   "cell_type": "markdown",
   "id": "c02af41a",
   "metadata": {},
   "source": [
    "L'idée est de faire un script global permettant de lire, concatener et créer un seul DataFrame pour chaque jeu de données récoltées."
   ]
  },
  {
   "cell_type": "markdown",
   "id": "d17ee424",
   "metadata": {},
   "source": [
    "Chaque fichier XLSX contient plusieurs lignes explicatives au début, alors nous les retirons lors de la lecture des fichier. Les fichier excel ont aussi une feuille par région\n",
    "\n",
    "Nous analysons d'abord la srtucture des fichiers xlsl pour pouvoir ensuite les organiser en dataframe"
   ]
  },
  {
   "cell_type": "code",
   "execution_count": 39,
   "id": "ceb98e75",
   "metadata": {},
   "outputs": [],
   "source": [
    "path = os.path.join(\"..\", \"..\", \"data\", \"all\", \"2018-3-5\", \"irecomicroent2018_1_perennite_xlsx\")\n",
    "\n",
    "files = files = [f for f in os.listdir(path) if f.endswith((\".xls\", \".xlsx\"))]\n",
    "\n",
    "\n",
    "df_list = []\n",
    "\n",
    "for f in files:\n",
    "    file_path = os.path.join(path, f)\n",
    "    xls = pd.ExcelFile(file_path)\n",
    "    \n",
    "    #define the shape of the DF\n",
    "    for sheet in xls.sheet_names:\n",
    "\n",
    "        #remove useless lignes\n",
    "        data = pd.read_excel(xls, sheet_name=sheet, skiprows=5)\n",
    "        data = data.iloc[:-4]\n",
    "        categorie_type = data.iloc[0, 1]\n",
    "\n",
    "        data = data.iloc[1:, :]\n",
    "\n",
    "        #renames columns\n",
    "        data = data.rename(columns={\n",
    "            data.columns[0]: \"gender\",\n",
    "            data.columns[1]: \"categories\",\n",
    "            data.columns[2]: \"years\"\n",
    "        })\n",
    "\n",
    "        data[[\"gender\", \"categories\", \"years\"]] = data[[\"gender\", \"categories\", \"years\"]].ffill()\n",
    "\n",
    "        data[\"file_name\"] = f\n",
    "        data[\"area\"] = sheet\n",
    "        data[\"categorie_type\"] = categorie_type\n",
    "        df_list.append(data)\n",
    "\n",
    "df = pd.concat(df_list, ignore_index=True)\n",
    "\n",
    "df = df[['gender', 'categorie_type'] + [col for col in df.columns if col not in ['gender', 'categorie_type']]]"
   ]
  },
  {
   "cell_type": "code",
   "execution_count": 40,
   "id": "cec00ad4",
   "metadata": {},
   "outputs": [
    {
     "data": {
      "text/html": [
       "<div>\n",
       "<style scoped>\n",
       "    .dataframe tbody tr th:only-of-type {\n",
       "        vertical-align: middle;\n",
       "    }\n",
       "\n",
       "    .dataframe tbody tr th {\n",
       "        vertical-align: top;\n",
       "    }\n",
       "\n",
       "    .dataframe thead th {\n",
       "        text-align: right;\n",
       "    }\n",
       "</style>\n",
       "<table border=\"1\" class=\"dataframe\">\n",
       "  <thead>\n",
       "    <tr style=\"text-align: right;\">\n",
       "      <th></th>\n",
       "      <th>gender</th>\n",
       "      <th>categorie_type</th>\n",
       "      <th>categories</th>\n",
       "      <th>years</th>\n",
       "      <th>Taux de pérennité (%)</th>\n",
       "      <th>Borne inférieure du taux de\\npérennité</th>\n",
       "      <th>Borne supérieure du taux de\\npérennité</th>\n",
       "      <th>Nature des bornes</th>\n",
       "      <th>file_name</th>\n",
       "      <th>area</th>\n",
       "    </tr>\n",
       "  </thead>\n",
       "  <tbody>\n",
       "    <tr>\n",
       "      <th>0</th>\n",
       "      <td>Ensemble</td>\n",
       "      <td>Tranche d’âge du créateur en 2018</td>\n",
       "      <td>Ensemble</td>\n",
       "      <td>1 an</td>\n",
       "      <td>77.3</td>\n",
       "      <td>76.6</td>\n",
       "      <td>78.0</td>\n",
       "      <td>1.0</td>\n",
       "      <td>r_peren_01.xlsx</td>\n",
       "      <td>FR</td>\n",
       "    </tr>\n",
       "    <tr>\n",
       "      <th>1</th>\n",
       "      <td>Ensemble</td>\n",
       "      <td>Tranche d’âge du créateur en 2018</td>\n",
       "      <td>Ensemble</td>\n",
       "      <td>2 ans</td>\n",
       "      <td>59.6</td>\n",
       "      <td>58.8</td>\n",
       "      <td>60.4</td>\n",
       "      <td>1.0</td>\n",
       "      <td>r_peren_01.xlsx</td>\n",
       "      <td>FR</td>\n",
       "    </tr>\n",
       "    <tr>\n",
       "      <th>2</th>\n",
       "      <td>Ensemble</td>\n",
       "      <td>Tranche d’âge du créateur en 2018</td>\n",
       "      <td>Ensemble</td>\n",
       "      <td>3 ans</td>\n",
       "      <td>46.5</td>\n",
       "      <td>45.8</td>\n",
       "      <td>47.2</td>\n",
       "      <td>1.0</td>\n",
       "      <td>r_peren_01.xlsx</td>\n",
       "      <td>FR</td>\n",
       "    </tr>\n",
       "    <tr>\n",
       "      <th>3</th>\n",
       "      <td>Ensemble</td>\n",
       "      <td>Tranche d’âge du créateur en 2018</td>\n",
       "      <td>Moins de 30 ans</td>\n",
       "      <td>1 an</td>\n",
       "      <td>67.1</td>\n",
       "      <td>65.5</td>\n",
       "      <td>68.7</td>\n",
       "      <td>1.0</td>\n",
       "      <td>r_peren_01.xlsx</td>\n",
       "      <td>FR</td>\n",
       "    </tr>\n",
       "    <tr>\n",
       "      <th>4</th>\n",
       "      <td>Ensemble</td>\n",
       "      <td>Tranche d’âge du créateur en 2018</td>\n",
       "      <td>Moins de 30 ans</td>\n",
       "      <td>2 ans</td>\n",
       "      <td>48.6</td>\n",
       "      <td>47.1</td>\n",
       "      <td>50.1</td>\n",
       "      <td>1.0</td>\n",
       "      <td>r_peren_01.xlsx</td>\n",
       "      <td>FR</td>\n",
       "    </tr>\n",
       "    <tr>\n",
       "      <th>...</th>\n",
       "      <td>...</td>\n",
       "      <td>...</td>\n",
       "      <td>...</td>\n",
       "      <td>...</td>\n",
       "      <td>...</td>\n",
       "      <td>...</td>\n",
       "      <td>...</td>\n",
       "      <td>...</td>\n",
       "      <td>...</td>\n",
       "      <td>...</td>\n",
       "    </tr>\n",
       "    <tr>\n",
       "      <th>18697</th>\n",
       "      <td>Femme</td>\n",
       "      <td>Prestations perçues au moment de l'enquête</td>\n",
       "      <td>Indemnités de chômage</td>\n",
       "      <td>3 ans</td>\n",
       "      <td>55.6</td>\n",
       "      <td>49.0</td>\n",
       "      <td>62.2</td>\n",
       "      <td>1.0</td>\n",
       "      <td>r_peren_23.xlsx</td>\n",
       "      <td>94</td>\n",
       "    </tr>\n",
       "    <tr>\n",
       "      <th>18698</th>\n",
       "      <td>Femme</td>\n",
       "      <td>Prestations perçues au moment de l'enquête</td>\n",
       "      <td>Prestations autres que les\\nprestations chômage</td>\n",
       "      <td>1 an</td>\n",
       "      <td>84.1</td>\n",
       "      <td>76.7</td>\n",
       "      <td>91.5</td>\n",
       "      <td>1.0</td>\n",
       "      <td>r_peren_23.xlsx</td>\n",
       "      <td>94</td>\n",
       "    </tr>\n",
       "    <tr>\n",
       "      <th>18699</th>\n",
       "      <td>Femme</td>\n",
       "      <td>Prestations perçues au moment de l'enquête</td>\n",
       "      <td>Prestations autres que les\\nprestations chômage</td>\n",
       "      <td>2 ans</td>\n",
       "      <td>67.0</td>\n",
       "      <td>58.5</td>\n",
       "      <td>75.5</td>\n",
       "      <td>1.0</td>\n",
       "      <td>r_peren_23.xlsx</td>\n",
       "      <td>94</td>\n",
       "    </tr>\n",
       "    <tr>\n",
       "      <th>18700</th>\n",
       "      <td>Femme</td>\n",
       "      <td>Prestations perçues au moment de l'enquête</td>\n",
       "      <td>Prestations autres que les\\nprestations chômage</td>\n",
       "      <td>3 ans</td>\n",
       "      <td>67.0</td>\n",
       "      <td>58.5</td>\n",
       "      <td>75.5</td>\n",
       "      <td>1.0</td>\n",
       "      <td>r_peren_23.xlsx</td>\n",
       "      <td>94</td>\n",
       "    </tr>\n",
       "    <tr>\n",
       "      <th>18701</th>\n",
       "      <td>Femme</td>\n",
       "      <td>Prestations perçues au moment de l'enquête</td>\n",
       "      <td>Prestations autres que les\\nprestations chômage</td>\n",
       "      <td>3 ans</td>\n",
       "      <td>NaN</td>\n",
       "      <td>NaN</td>\n",
       "      <td>NaN</td>\n",
       "      <td>NaN</td>\n",
       "      <td>r_peren_23.xlsx</td>\n",
       "      <td>94</td>\n",
       "    </tr>\n",
       "  </tbody>\n",
       "</table>\n",
       "<p>18702 rows × 10 columns</p>\n",
       "</div>"
      ],
      "text/plain": [
       "         gender                              categorie_type  \\\n",
       "0      Ensemble           Tranche d’âge du créateur en 2018   \n",
       "1      Ensemble           Tranche d’âge du créateur en 2018   \n",
       "2      Ensemble           Tranche d’âge du créateur en 2018   \n",
       "3      Ensemble           Tranche d’âge du créateur en 2018   \n",
       "4      Ensemble           Tranche d’âge du créateur en 2018   \n",
       "...         ...                                         ...   \n",
       "18697     Femme  Prestations perçues au moment de l'enquête   \n",
       "18698     Femme  Prestations perçues au moment de l'enquête   \n",
       "18699     Femme  Prestations perçues au moment de l'enquête   \n",
       "18700     Femme  Prestations perçues au moment de l'enquête   \n",
       "18701     Femme  Prestations perçues au moment de l'enquête   \n",
       "\n",
       "                                            categories  years  \\\n",
       "0                                             Ensemble   1 an   \n",
       "1                                             Ensemble  2 ans   \n",
       "2                                             Ensemble  3 ans   \n",
       "3                                      Moins de 30 ans   1 an   \n",
       "4                                      Moins de 30 ans  2 ans   \n",
       "...                                                ...    ...   \n",
       "18697                            Indemnités de chômage  3 ans   \n",
       "18698  Prestations autres que les\\nprestations chômage   1 an   \n",
       "18699  Prestations autres que les\\nprestations chômage  2 ans   \n",
       "18700  Prestations autres que les\\nprestations chômage  3 ans   \n",
       "18701  Prestations autres que les\\nprestations chômage  3 ans   \n",
       "\n",
       "      Taux de pérennité (%) Borne inférieure du taux de\\npérennité  \\\n",
       "0                      77.3                                   76.6   \n",
       "1                      59.6                                   58.8   \n",
       "2                      46.5                                   45.8   \n",
       "3                      67.1                                   65.5   \n",
       "4                      48.6                                   47.1   \n",
       "...                     ...                                    ...   \n",
       "18697                  55.6                                   49.0   \n",
       "18698                  84.1                                   76.7   \n",
       "18699                  67.0                                   58.5   \n",
       "18700                  67.0                                   58.5   \n",
       "18701                   NaN                                    NaN   \n",
       "\n",
       "      Borne supérieure du taux de\\npérennité Nature des bornes  \\\n",
       "0                                       78.0               1.0   \n",
       "1                                       60.4               1.0   \n",
       "2                                       47.2               1.0   \n",
       "3                                       68.7               1.0   \n",
       "4                                       50.1               1.0   \n",
       "...                                      ...               ...   \n",
       "18697                                   62.2               1.0   \n",
       "18698                                   91.5               1.0   \n",
       "18699                                   75.5               1.0   \n",
       "18700                                   75.5               1.0   \n",
       "18701                                    NaN               NaN   \n",
       "\n",
       "             file_name area  \n",
       "0      r_peren_01.xlsx   FR  \n",
       "1      r_peren_01.xlsx   FR  \n",
       "2      r_peren_01.xlsx   FR  \n",
       "3      r_peren_01.xlsx   FR  \n",
       "4      r_peren_01.xlsx   FR  \n",
       "...                ...  ...  \n",
       "18697  r_peren_23.xlsx   94  \n",
       "18698  r_peren_23.xlsx   94  \n",
       "18699  r_peren_23.xlsx   94  \n",
       "18700  r_peren_23.xlsx   94  \n",
       "18701  r_peren_23.xlsx   94  \n",
       "\n",
       "[18702 rows x 10 columns]"
      ]
     },
     "execution_count": 40,
     "metadata": {},
     "output_type": "execute_result"
    }
   ],
   "source": [
    "df"
   ]
  },
  {
   "cell_type": "code",
   "execution_count": 41,
   "id": "b1aa9eb0",
   "metadata": {},
   "outputs": [
    {
     "name": "stderr",
     "output_type": "stream",
     "text": [
      "C:\\Users\\angel\\AppData\\Local\\Temp\\ipykernel_28796\\178104140.py:1: FutureWarning:\n",
      "\n",
      "Downcasting behavior in `replace` is deprecated and will be removed in a future version. To retain the old behavior, explicitly call `result.infer_objects(copy=False)`. To opt-in to the future behavior, set `pd.set_option('future.no_silent_downcasting', True)`\n",
      "\n"
     ]
    }
   ],
   "source": [
    "df.replace({'so': 0, 'NaN': 0, 'ns': 0, 's': 0}, inplace=True)"
   ]
  },
  {
   "cell_type": "code",
   "execution_count": 42,
   "id": "6a545477",
   "metadata": {},
   "outputs": [
    {
     "name": "stdout",
     "output_type": "stream",
     "text": [
      "<class 'pandas.core.frame.DataFrame'>\n",
      "RangeIndex: 18702 entries, 0 to 18701\n",
      "Data columns (total 10 columns):\n",
      " #   Column                                 Non-Null Count  Dtype  \n",
      "---  ------                                 --------------  -----  \n",
      " 0   gender                                 18702 non-null  object \n",
      " 1   categorie_type                         18702 non-null  object \n",
      " 2   categories                             18702 non-null  object \n",
      " 3   years                                  18702 non-null  object \n",
      " 4   Taux de pérennité (%)                  18306 non-null  float64\n",
      " 5   Borne inférieure du taux de\n",
      "pérennité  18306 non-null  float64\n",
      " 6   Borne supérieure du taux de\n",
      "pérennité  18306 non-null  float64\n",
      " 7   Nature des bornes                      18306 non-null  float64\n",
      " 8   file_name                              18702 non-null  object \n",
      " 9   area                                   18702 non-null  object \n",
      "dtypes: float64(4), object(6)\n",
      "memory usage: 1.4+ MB\n"
     ]
    }
   ],
   "source": [
    "df.info()"
   ]
  },
  {
   "cell_type": "markdown",
   "id": "3bbbb356",
   "metadata": {},
   "source": [
    "## Visualisation rapide"
   ]
  },
  {
   "cell_type": "markdown",
   "id": "5751dd4f",
   "metadata": {},
   "source": [
    "réaliser une premère visualisation pour voir l'état des données et voir s'il y a des modifications à apporter dans le DF"
   ]
  },
  {
   "cell_type": "code",
   "execution_count": 43,
   "id": "a5e007ef",
   "metadata": {},
   "outputs": [],
   "source": [
    "import seaborn as sns\n",
    "import matplotlib.pyplot as plt"
   ]
  },
  {
   "cell_type": "code",
   "execution_count": null,
   "id": "dc4562a4",
   "metadata": {},
   "outputs": [
    {
     "data": {
      "image/png": "[encoded data removed]",
      "text/plain": [
       "<Figure size 1200x600 with 1 Axes>"
      ]
     },
     "metadata": {},
     "output_type": "display_data"
    }
   ],
   "source": [
    "plt.figure(figsize=(12, 6))\n",
    "\n",
    "df_plot = df[df[\"categorie_type\"] == \"Tranche d’âge du créateur en 2018\"]\n",
    "\n",
    "sns.barplot(\n",
    "    data=df_plot,\n",
    "    x=\"categories\", y=\"Taux de pérennité (%)\", hue=\"gender\"\n",
    ")\n",
    "\n",
    "plt.title(\"Pérennité par sexe et année selon la tranche d'age du créateur lors de la création\")\n",
    "plt.show()"
   ]
  },
  {
   "cell_type": "code",
   "execution_count": 44,
   "id": "50a7f8d6",
   "metadata": {},
   "outputs": [
    {
     "ename": "ValueError",
     "evalue": "Mime type rendering requires nbformat>=4.2.0 but it is not installed",
     "output_type": "error",
     "traceback": [
      "\u001b[31m---------------------------------------------------------------------------\u001b[39m",
      "\u001b[31mValueError\u001b[39m                                Traceback (most recent call last)",
      "\u001b[36mCell\u001b[39m\u001b[36m \u001b[39m\u001b[32mIn[44]\u001b[39m\u001b[32m, line 19\u001b[39m\n\u001b[32m      1\u001b[39m fig = px.scatter(\n\u001b[32m      2\u001b[39m     df_plot,\n\u001b[32m      3\u001b[39m     x=\u001b[33m\"\u001b[39m\u001b[33mcategories\u001b[39m\u001b[33m\"\u001b[39m,\n\u001b[32m   (...)\u001b[39m\u001b[32m      9\u001b[39m     labels={\u001b[33m\"\u001b[39m\u001b[33mcategories\u001b[39m\u001b[33m\"\u001b[39m: \u001b[33m\"\u001b[39m\u001b[33mTranche d\u001b[39m\u001b[33m'\u001b[39m\u001b[33mâge\u001b[39m\u001b[33m\"\u001b[39m, \u001b[33m\"\u001b[39m\u001b[33mgender\u001b[39m\u001b[33m\"\u001b[39m: \u001b[33m\"\u001b[39m\u001b[33mGenre\u001b[39m\u001b[33m\"\u001b[39m},\n\u001b[32m     10\u001b[39m )\n\u001b[32m     12\u001b[39m fig.update_layout(\n\u001b[32m     13\u001b[39m     xaxis_tickangle=-\u001b[32m45\u001b[39m,\n\u001b[32m     14\u001b[39m     width=\u001b[32m1000\u001b[39m,\n\u001b[32m     15\u001b[39m     height=\u001b[32m600\u001b[39m,\n\u001b[32m     16\u001b[39m     margin=\u001b[38;5;28mdict\u001b[39m(l=\u001b[32m40\u001b[39m, r=\u001b[32m40\u001b[39m, t=\u001b[32m80\u001b[39m, b=\u001b[32m80\u001b[39m)\n\u001b[32m     17\u001b[39m )\n\u001b[32m---> \u001b[39m\u001b[32m19\u001b[39m \u001b[43mfig\u001b[49m\u001b[43m.\u001b[49m\u001b[43mshow\u001b[49m\u001b[43m(\u001b[49m\u001b[43m)\u001b[49m\n",
      "\u001b[36mFile \u001b[39m\u001b[32mc:\\Users\\angel\\OneDrive\\Documents\\SORBONNE\\mémoire\\Projet_IA\\.venv\\Lib\\site-packages\\plotly\\basedatatypes.py:3414\u001b[39m, in \u001b[36mBaseFigure.show\u001b[39m\u001b[34m(self, *args, **kwargs)\u001b[39m\n\u001b[32m   3381\u001b[39m \u001b[38;5;250m\u001b[39m\u001b[33;03m\"\"\"\u001b[39;00m\n\u001b[32m   3382\u001b[39m \u001b[33;03mShow a figure using either the default renderer(s) or the renderer(s)\u001b[39;00m\n\u001b[32m   3383\u001b[39m \u001b[33;03mspecified by the renderer argument\u001b[39;00m\n\u001b[32m   (...)\u001b[39m\u001b[32m   3410\u001b[39m \u001b[33;03mNone\u001b[39;00m\n\u001b[32m   3411\u001b[39m \u001b[33;03m\"\"\"\u001b[39;00m\n\u001b[32m   3412\u001b[39m \u001b[38;5;28;01mimport\u001b[39;00m\u001b[38;5;250m \u001b[39m\u001b[34;01mplotly\u001b[39;00m\u001b[34;01m.\u001b[39;00m\u001b[34;01mio\u001b[39;00m\u001b[38;5;250m \u001b[39m\u001b[38;5;28;01mas\u001b[39;00m\u001b[38;5;250m \u001b[39m\u001b[34;01mpio\u001b[39;00m\n\u001b[32m-> \u001b[39m\u001b[32m3414\u001b[39m \u001b[38;5;28;01mreturn\u001b[39;00m \u001b[43mpio\u001b[49m\u001b[43m.\u001b[49m\u001b[43mshow\u001b[49m\u001b[43m(\u001b[49m\u001b[38;5;28;43mself\u001b[39;49m\u001b[43m,\u001b[49m\u001b[43m \u001b[49m\u001b[43m*\u001b[49m\u001b[43margs\u001b[49m\u001b[43m,\u001b[49m\u001b[43m \u001b[49m\u001b[43m*\u001b[49m\u001b[43m*\u001b[49m\u001b[43mkwargs\u001b[49m\u001b[43m)\u001b[49m\n",
      "\u001b[36mFile \u001b[39m\u001b[32mc:\\Users\\angel\\OneDrive\\Documents\\SORBONNE\\mémoire\\Projet_IA\\.venv\\Lib\\site-packages\\plotly\\io\\_renderers.py:425\u001b[39m, in \u001b[36mshow\u001b[39m\u001b[34m(fig, renderer, validate, **kwargs)\u001b[39m\n\u001b[32m    420\u001b[39m     \u001b[38;5;28;01mraise\u001b[39;00m \u001b[38;5;167;01mValueError\u001b[39;00m(\n\u001b[32m    421\u001b[39m         \u001b[33m\"\u001b[39m\u001b[33mMime type rendering requires ipython but it is not installed\u001b[39m\u001b[33m\"\u001b[39m\n\u001b[32m    422\u001b[39m     )\n\u001b[32m    424\u001b[39m \u001b[38;5;28;01mif\u001b[39;00m \u001b[38;5;129;01mnot\u001b[39;00m nbformat \u001b[38;5;129;01mor\u001b[39;00m Version(nbformat.__version__) < Version(\u001b[33m\"\u001b[39m\u001b[33m4.2.0\u001b[39m\u001b[33m\"\u001b[39m):\n\u001b[32m--> \u001b[39m\u001b[32m425\u001b[39m     \u001b[38;5;28;01mraise\u001b[39;00m \u001b[38;5;167;01mValueError\u001b[39;00m(\n\u001b[32m    426\u001b[39m         \u001b[33m\"\u001b[39m\u001b[33mMime type rendering requires nbformat>=4.2.0 but it is not installed\u001b[39m\u001b[33m\"\u001b[39m\n\u001b[32m    427\u001b[39m     )\n\u001b[32m    429\u001b[39m display_jupyter_version_warnings()\n\u001b[32m    431\u001b[39m ipython_display.display(bundle, raw=\u001b[38;5;28;01mTrue\u001b[39;00m)\n",
      "\u001b[31mValueError\u001b[39m: Mime type rendering requires nbformat>=4.2.0 but it is not installed"
     ]
    }
   ],
   "source": [
    "fig = px.scatter(\n",
    "    df_plot,\n",
    "    x=\"categories\",\n",
    "    y=\"Taux de pérennité (%)\",\n",
    "    color=\"gender\",\n",
    "    animation_frame=\"years\",\n",
    "    size_max=20,\n",
    "    title=\"Évolution de la pérennité selon le genre et la tranche d'âge\",\n",
    "    labels={\"categories\": \"Tranche d'âge\", \"gender\": \"Genre\"},\n",
    ")\n",
    "\n",
    "fig.update_layout(\n",
    "    xaxis_tickangle=-45,\n",
    "    width=1000,\n",
    "    height=600,\n",
    "    margin=dict(l=40, r=40, t=80, b=80)\n",
    ")\n",
    "\n",
    "fig.show()"
   ]
  },
  {
   "cell_type": "code",
   "execution_count": null,
   "id": "9c1735da",
   "metadata": {},
   "outputs": [],
   "source": []
  }
 ],
 "metadata": {
  "kernelspec": {
   "display_name": ".venv",
   "language": "python",
   "name": "python3"
  },
  "language_info": {
   "codemirror_mode": {
    "name": "ipython",
    "version": 3
   },
   "file_extension": ".py",
   "mimetype": "text/x-python",
   "name": "python",
   "nbconvert_exporter": "python",
   "pygments_lexer": "ipython3",
   "version": "3.12.10"
  }
 },
 "nbformat": 4,
 "nbformat_minor": 5
}
